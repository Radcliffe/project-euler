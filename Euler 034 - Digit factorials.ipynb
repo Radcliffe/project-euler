{
 "cells": [
  {
   "cell_type": "markdown",
   "metadata": {},
   "source": [
    "Euler Problem 34\n",
    "================\n",
    "\n",
    "145 is a curious number, as 1! + 4! + 5! = 1 + 24 + 120 = 145.\n",
    "\n",
    "Find the sum of all numbers which are equal to the sum of the factorial of their digits.\n",
    "\n",
    "Note: as 1! = 1 and 2! = 2 are not sums they are not included."
   ]
  },
  {
   "cell_type": "code",
   "execution_count": 2,
   "metadata": {},
   "outputs": [
    {
     "name": "stdout",
     "output_type": "stream",
     "text": [
      "40730\n"
     ]
    }
   ],
   "source": [
    "from itertools import combinations_with_replacement as combos\n",
    "\n",
    "fact = [1]\n",
    "prod = 1\n",
    "for k in range(1, 10):\n",
    "    prod *= k\n",
    "    fact.append(prod)\n",
    "\n",
    "total = 0\n",
    "for d in range(2, 9):\n",
    "    for v in combos(range(10), d):\n",
    "        N = sum(fact[x] for x in v)\n",
    "        if tuple(sorted(map(int, str(N)))) == v:\n",
    "            total += N\n",
    "print(total)        "
   ]
  },
  {
   "cell_type": "markdown",
   "metadata": {},
   "source": [
    "**Explanation:** If $N$ is a $d$-digit number, then $10^{d-1} \\le N < 10^d$, and the sum of factorials of the digits\n",
    "of $N$ is at most $9! \\cdot d$. Consequently, if $N$ equals the sum of factorials of its digits, then\n",
    "$10^{d-1} \\le 9! \\cdot d$, which implies $d \\le 8$.\n",
    "\n",
    "Instead of checking all numbers less than $10^8$, we check all combinations of at most 8 digits, with repetition allowed. For each combination $v$, we calculate $N$, the sum of factorials of the elements of $v$. Then we convert $N$ back to a combination of digits $v'$. If $v = v'$, then $N$ is one of the numbers\n",
    "that we are looking for, so we add it to the total."
   ]
  }
 ],
 "metadata": {
  "kernelspec": {
   "display_name": "Python 3",
   "language": "python",
   "name": "python3"
  },
  "language_info": {
   "codemirror_mode": {
    "name": "ipython",
    "version": 3
   },
   "file_extension": ".py",
   "mimetype": "text/x-python",
   "name": "python",
   "nbconvert_exporter": "python",
   "pygments_lexer": "ipython3",
   "version": "3.6.2"
  }
 },
 "nbformat": 4,
 "nbformat_minor": 1
}
