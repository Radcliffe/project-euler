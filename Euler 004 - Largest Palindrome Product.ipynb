{
 "metadata": {
  "name": ""
 },
 "nbformat": 3,
 "nbformat_minor": 0,
 "worksheets": [
  {
   "cells": [
    {
     "cell_type": "markdown",
     "metadata": {},
     "source": [
      "Euler Problem 4\n",
      "===============\n",
      "\n",
      "A palindromic number reads the same both ways. The largest palindrome made from the product of two 2-digit numbers is 9009 = 91 \u00d7 99.\n",
      "\n",
      "Find the largest palindrome made from the product of two 3-digit numbers."
     ]
    },
    {
     "cell_type": "code",
     "collapsed": false,
     "input": [
      "def is_palindrome(n):\n",
      "    s = str(n)\n",
      "    return s == s[::-1]\n",
      "\n",
      "largest = 0\n",
      "for m in xrange(999, 99, -1):\n",
      "    if m*999 < largest:\n",
      "        break\n",
      "    for n in xrange(1000, m-1, -1):\n",
      "        product = m*n\n",
      "        if is_palindrome(product) and product > largest:\n",
      "            largest = product\n",
      "            break\n",
      "print largest"
     ],
     "language": "python",
     "metadata": {},
     "outputs": [
      {
       "output_type": "stream",
       "stream": "stdout",
       "text": [
        "906609\n"
       ]
      }
     ],
     "prompt_number": 1
    }
   ],
   "metadata": {}
  }
 ]
}