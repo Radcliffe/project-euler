{
 "metadata": {
  "name": ""
 },
 "nbformat": 3,
 "nbformat_minor": 0,
 "worksheets": [
  {
   "cells": [
    {
     "cell_type": "markdown",
     "metadata": {},
     "source": [
      "Euler Problem 42\n",
      "================\n",
      "\n",
      "The nth term of the sequence of triangle numbers is given by, $t_n = \\frac12 n(n+1)$; so the first ten triangle numbers are:\n",
      "\n",
      "    1, 3, 6, 10, 15, 21, 28, 36, 45, 55, ...\n",
      "\n",
      "By converting each letter in a word to a number corresponding to its alphabetical position and adding these values we form a word value. For example, the word value for `SKY` is $19 + 11 + 25 = 55 = t_{10}$. If the word value is a triangle number then we shall call the word a triangle word.\n",
      "\n",
      "Using [words.txt](files/p042_words.txt) (right click and 'Save Link/Target As...'), a 16K text file containing nearly two-thousand common English words, how many are triangle words?"
     ]
    },
    {
     "cell_type": "code",
     "collapsed": false,
     "input": [
      "def wordsum(word):\n",
      "    return sum(ord(w) for w in word) - 64*len(word)\n",
      "\n",
      "triangle_numbers = set(n*(n+1)/2 for n in xrange(1, 50))\n",
      "with open(\"p042_words.txt\", \"r\") as f:\n",
      "    words = f.readline().replace('\"','').split(',')\n",
      "    print sum(wordsum(word) in triangle_numbers for word in words)"
     ],
     "language": "python",
     "metadata": {},
     "outputs": [
      {
       "output_type": "stream",
       "stream": "stdout",
       "text": [
        "162\n"
       ]
      }
     ],
     "prompt_number": 1
    }
   ],
   "metadata": {}
  }
 ]
}