{
 "cells": [
  {
   "cell_type": "markdown",
   "metadata": {},
   "source": [
    "Euler Problem 37\n",
    "================\n",
    "\n",
    "The number 3797 has an interesting property. Being prime itself, it is possible to continuously remove digits from left to right, and remain prime at each stage: 3797, 797, 97, and 7. Similarly we can work from right to left: 3797, 379, 37, and 3.\n",
    "\n",
    "Find the sum of the only eleven primes that are both truncatable from left to right and right to left.\n",
    "\n",
    "NOTE: 2, 3, 5, and 7 are not considered to be truncatable primes."
   ]
  },
  {
   "cell_type": "code",
   "execution_count": 1,
   "metadata": {},
   "outputs": [
    {
     "name": "stdout",
     "output_type": "stream",
     "text": [
      "748317\n"
     ]
    }
   ],
   "source": [
    "from sympy import isprime \n",
    "\n",
    "def right_truncatable(p = 0):\n",
    "    if p == 0:\n",
    "        for p in [2, 3, 5, 7]:\n",
    "            for q in right_truncatable(p):\n",
    "                yield q\n",
    "    elif isprime(p):\n",
    "        yield p\n",
    "        p *= 10\n",
    "        for d in (1, 3, 7, 9):\n",
    "            for q in right_truncatable(p+d):\n",
    "                yield q\n",
    "\n",
    "def left_truncatable(p):\n",
    "    N = 10 ** (len(str(p))-1)\n",
    "    while p > 9:\n",
    "        p %= N\n",
    "        if not isprime(p):\n",
    "            return False\n",
    "        N //= 10\n",
    "    return True\n",
    "\n",
    "print(sum([p for p in right_truncatable() if p > 9 and left_truncatable(p)]))"
   ]
  },
  {
   "cell_type": "code",
   "execution_count": null,
   "metadata": {},
   "outputs": [],
   "source": []
  }
 ],
 "metadata": {
  "kernelspec": {
   "display_name": "Python 3",
   "language": "python",
   "name": "python3"
  },
  "language_info": {
   "codemirror_mode": {
    "name": "ipython",
    "version": 3
   },
   "file_extension": ".py",
   "mimetype": "text/x-python",
   "name": "python",
   "nbconvert_exporter": "python",
   "pygments_lexer": "ipython3",
   "version": "3.6.2"
  }
 },
 "nbformat": 4,
 "nbformat_minor": 1
}
