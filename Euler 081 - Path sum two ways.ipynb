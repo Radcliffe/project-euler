{
 "cells": [
  {
   "cell_type": "markdown",
   "metadata": {},
   "source": [
    "# Euler Problem 81\n",
    "\n",
    "In the 5 by 5 matrix below, the minimal path sum from the top left to the\n",
    "bottom right, by only moving to the right and down, is indicated in red\n",
    "and is equal to 2427.\n",
    "\n",
    "\t\n",
    "    [131]\t673\t234\t103\t18\n",
    "    [201]\t[96]\t[342]\t965\t150\n",
    "    630\t803\t[746]\t[422]\t111\n",
    "    537\t699\t497\t[121]\t956\n",
    "    805\t732\t524\t[37]\t[331]"
   ]
  },
  {
   "cell_type": "code",
   "execution_count": 1,
   "metadata": {},
   "outputs": [
    {
     "name": "stdout",
     "output_type": "stream",
     "text": [
      "427337\n"
     ]
    }
   ],
   "source": [
    "infile = open('data/p081_matrix.txt', 'r');\n",
    "matrix = []\n",
    "for line in infile:\n",
    "    row = list(map(int, line.split(',')))\n",
    "    matrix += [row]\n",
    "\n",
    "for i in range(79):\n",
    "    matrix[0][i+1] += matrix[0][i]\n",
    "    matrix[i+1][0] += matrix[i][0]\n",
    "\n",
    "for i in range(79):\n",
    "    for j in range(79):\n",
    "        matrix[i+1][j+1] += min(matrix[i][j+1], matrix[i+1][j])\n",
    "print(matrix[79][79])"
   ]
  },
  {
   "cell_type": "code",
   "execution_count": null,
   "metadata": {},
   "outputs": [],
   "source": []
  }
 ],
 "metadata": {
  "kernelspec": {
   "display_name": "Python 3",
   "language": "python",
   "name": "python3"
  },
  "language_info": {
   "codemirror_mode": {
    "name": "ipython",
    "version": 3
   },
   "file_extension": ".py",
   "mimetype": "text/x-python",
   "name": "python",
   "nbconvert_exporter": "python",
   "pygments_lexer": "ipython3",
   "version": "3.6.2"
  }
 },
 "nbformat": 4,
 "nbformat_minor": 1
}
