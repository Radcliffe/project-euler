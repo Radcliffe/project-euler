{
 "metadata": {
  "name": ""
 },
 "nbformat": 3,
 "nbformat_minor": 0,
 "worksheets": [
  {
   "cells": [
    {
     "cell_type": "markdown",
     "metadata": {},
     "source": [
      "Let d(n) be defined as the sum of proper divisors of n (numbers less than n which divide evenly into n).\n",
      "If d(a) = b and d(b) = a, where a \u2260 b, then a and b are an amicable pair and each of a and b are called amicable numbers.\n",
      "\n",
      "For example, the proper divisors of 220 are 1, 2, 4, 5, 10, 11, 20, 22, 44, 55 and 110; therefore d(220) = 284. The proper divisors of 284 are 1, 2, 4, 71 and 142; so d(284) = 220.\n",
      "\n",
      "Evaluate the sum of all the amicable numbers under 10000."
     ]
    },
    {
     "cell_type": "code",
     "collapsed": false,
     "input": [
      "d = [0]*50000\n",
      "s = 0\n",
      "for i in xrange(1,50000):\n",
      "    for j in range(2*i, 50000, i):\n",
      "        d[j] += i\n",
      "for i in xrange(1,10000):\n",
      "    j = d[i]\n",
      "    if j >= 49999:\n",
      "        print 'FAIL'\n",
      "    elif d[j]==i and j<>i:\n",
      "        s += i\n",
      "print s"
     ],
     "language": "python",
     "metadata": {},
     "outputs": [
      {
       "output_type": "stream",
       "stream": "stdout",
       "text": [
        "31626\n"
       ]
      }
     ],
     "prompt_number": 3
    },
    {
     "cell_type": "code",
     "collapsed": false,
     "input": [],
     "language": "python",
     "metadata": {},
     "outputs": []
    }
   ],
   "metadata": {}
  }
 ]
}