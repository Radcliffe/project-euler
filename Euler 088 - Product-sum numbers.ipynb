{
 "metadata": {
  "name": ""
 },
 "nbformat": 3,
 "nbformat_minor": 0,
 "worksheets": [
  {
   "cells": [
    {
     "cell_type": "markdown",
     "metadata": {},
     "source": [
      "Euler Problem 88\n",
      "================\n",
      "\n",
      "A natural number, N, that can be written as the sum and product of a given set of at least two natural numbers, {a1, a2, ... , ak} is called a product-sum number: N = a1 + a2 + ... + ak = a1 \u00d7 a2 \u00d7 ... \u00d7 ak.\n",
      "\n",
      "For example, 6 = 1 + 2 + 3 = 1 \u00d7 2 \u00d7 3.\n",
      "\n",
      "For a given set of size, k, we shall call the smallest N with this property a minimal product-sum number. The minimal product-sum numbers for sets of size, k = 2, 3, 4, 5, and 6 are as follows.\n",
      "\n",
      "    k=2: 4 = 2 \u00d7 2 = 2 + 2\n",
      "    k=3: 6 = 1 \u00d7 2 \u00d7 3 = 1 + 2 + 3\n",
      "    k=4: 8 = 1 \u00d7 1 \u00d7 2 \u00d7 4 = 1 + 1 + 2 + 4\n",
      "    k=5: 8 = 1 \u00d7 1 \u00d7 2 \u00d7 2 \u00d7 2 = 1 + 1 + 2 + 2 + 2\n",
      "    k=6: 12 = 1 \u00d7 1 \u00d7 1 \u00d7 1 \u00d7 2 \u00d7 6 = 1 + 1 + 1 + 1 + 2 + 6\n",
      "\n",
      "Hence for 2\u2264k\u22646, the sum of all the minimal product-sum numbers is 4+6+8+12 = 30; note that 8 is only counted once in the sum.\n",
      "\n",
      "In fact, as the complete set of minimal product-sum numbers for 2\u2264k\u226412 is {4, 6, 8, 12, 15, 16}, the sum is 61.\n",
      "\n",
      "What is the sum of all the minimal product-sum numbers for 2\u2264k\u226412000?"
     ]
    },
    {
     "cell_type": "code",
     "collapsed": false,
     "input": [
      "N = 12000\n",
      "a = [2*N+1] * (N+1)\n",
      "a[1] = 1\n",
      "def gen(maxprod, start=2):\n",
      "    for i in xrange(start, maxprod+1):\n",
      "        yield (i,)\n",
      "    for i in xrange(start, int(maxprod**0.5) + 1):\n",
      "        for v in gen(maxprod/i, i):\n",
      "            yield (i,) + v\n",
      "\n",
      "def product(v):\n",
      "    pi = 1\n",
      "    for x in v:\n",
      "        pi *= x\n",
      "    return pi\n",
      "\n",
      "for v in gen(2*N):\n",
      "    pi = product(v)\n",
      "    k = pi - sum(v) + len(v)\n",
      "    if k <= N and a[k] > pi:\n",
      "        a[k] = pi\n",
      "\n",
      "print sum(set(a[2:]))"
     ],
     "language": "python",
     "metadata": {},
     "outputs": [
      {
       "output_type": "stream",
       "stream": "stdout",
       "text": [
        "7587457\n"
       ]
      }
     ],
     "prompt_number": 1
    }
   ],
   "metadata": {}
  }
 ]
}