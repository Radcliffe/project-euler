{
 "cells": [
  {
   "cell_type": "markdown",
   "metadata": {},
   "source": [
    "Euler Problem 47\n",
    "================\n",
    "\n",
    "The first two consecutive numbers to have two distinct prime factors are:\n",
    "\n",
    "- 14 = 2 × 7\n",
    "- 15 = 3 × 5\n",
    "\n",
    "The first three consecutive numbers to have three distinct prime factors are:\n",
    "\n",
    "- 644 = 2² × 7 × 23\n",
    "- 645 = 3 × 5 × 43\n",
    "- 646 = 2 × 17 × 19.\n",
    "\n",
    "Find the first four consecutive integers to have four distinct prime factors. What is the first of these numbers?"
   ]
  },
  {
   "cell_type": "code",
   "execution_count": 1,
   "metadata": {},
   "outputs": [
    {
     "name": "stdout",
     "output_type": "stream",
     "text": [
      "134043\n"
     ]
    }
   ],
   "source": [
    "N = 200000\n",
    "sieve = [0] * N\n",
    "prime_factors = [0] * N\n",
    "run = 0\n",
    "for n in range(2, N):\n",
    "    if sieve[n] == 0:\n",
    "        sieve[n] = n\n",
    "        for m in range(n*n, N, n):\n",
    "            sieve[m] = n\n",
    "    q = n // sieve[n]\n",
    "    if q % sieve[n] == 0:\n",
    "        prime_factors[n] = prime_factors[q]\n",
    "    else:\n",
    "        prime_factors[n] = prime_factors[q] + 1\n",
    "    if prime_factors[n] == 4:\n",
    "        run += 1\n",
    "        if run == 4:\n",
    "            print(n-3)\n",
    "            break\n",
    "    else:\n",
    "        run = 0"
   ]
  },
  {
   "cell_type": "code",
   "execution_count": null,
   "metadata": {},
   "outputs": [],
   "source": []
  }
 ],
 "metadata": {
  "kernelspec": {
   "display_name": "Python 3",
   "language": "python",
   "name": "python3"
  },
  "language_info": {
   "codemirror_mode": {
    "name": "ipython",
    "version": 3
   },
   "file_extension": ".py",
   "mimetype": "text/x-python",
   "name": "python",
   "nbconvert_exporter": "python",
   "pygments_lexer": "ipython3",
   "version": "3.6.2"
  }
 },
 "nbformat": 4,
 "nbformat_minor": 1
}
