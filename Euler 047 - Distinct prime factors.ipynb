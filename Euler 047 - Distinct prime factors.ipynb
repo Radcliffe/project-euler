{
 "metadata": {
  "name": ""
 },
 "nbformat": 3,
 "nbformat_minor": 0,
 "worksheets": [
  {
   "cells": [
    {
     "cell_type": "markdown",
     "metadata": {},
     "source": [
      "Euler Problem 47\n",
      "================\n",
      "\n",
      "The first two consecutive numbers to have two distinct prime factors are:\n",
      "\n",
      "- 14 = 2 \u00d7 7\n",
      "- 15 = 3 \u00d7 5\n",
      "\n",
      "The first three consecutive numbers to have three distinct prime factors are:\n",
      "\n",
      "- 644 = 2\u00b2 \u00d7 7 \u00d7 23\n",
      "- 645 = 3 \u00d7 5 \u00d7 43\n",
      "- 646 = 2 \u00d7 17 \u00d7 19.\n",
      "\n",
      "Find the first four consecutive integers to have four distinct prime factors. What is the first of these numbers?"
     ]
    },
    {
     "cell_type": "code",
     "collapsed": false,
     "input": [
      "N = 200000\n",
      "sieve = [0] * N\n",
      "prime_factors = [0] * N\n",
      "run = 0\n",
      "for n in xrange(2, N):\n",
      "    if sieve[n] == 0:\n",
      "        sieve[n] = n\n",
      "        for m in xrange(n*n, N, n):\n",
      "            sieve[m] = n\n",
      "    q = n / sieve[n]\n",
      "    if q % sieve[n] == 0:\n",
      "        prime_factors[n] = prime_factors[q]\n",
      "    else:\n",
      "        prime_factors[n] = prime_factors[q] + 1\n",
      "    if prime_factors[n] == 4:\n",
      "        run += 1\n",
      "        if run == 4:\n",
      "            print n-3\n",
      "            break\n",
      "    else:\n",
      "        run = 0"
     ],
     "language": "python",
     "metadata": {},
     "outputs": [
      {
       "output_type": "stream",
       "stream": "stdout",
       "text": [
        "134043\n"
       ]
      }
     ],
     "prompt_number": 1
    }
   ],
   "metadata": {}
  }
 ]
}