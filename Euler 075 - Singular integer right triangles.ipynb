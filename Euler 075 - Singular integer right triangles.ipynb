{
 "cells": [
  {
   "cell_type": "markdown",
   "metadata": {},
   "source": [
    "Euler Problem 75\n",
    "================\n",
    "\n",
    "It turns out that 12 cm is the smallest length of wire can be bent to form\n",
    "a right angle triangle in exactly one way, but there are many more examples.\n",
    "\n",
    "    12 cm: (3,4,5)\n",
    "    24 cm: (6,8,10)\n",
    "    30 cm: (5,12,13)\n",
    "    36 cm: (9,12,15)\n",
    "    40 cm: (8,15,17)\n",
    "    48 cm: (12,16,20)\n",
    "\n",
    "In contrast, some lengths of wire, like 20 cm, cannot be bent to form a right\n",
    "angle triangle, and other lengths allow more than one solution to be found;\n",
    "for example, using 120 cm it is possible to form exactly three different right\n",
    "angle triangles.\n",
    "\n",
    "    120 cm: (30,40,50), (20,48,52), (24,45,51)\n",
    "\n",
    "Given that L is the length of the wire, for how many values of L ≤ 1,500,000\n",
    "can exactly one right angle triangle be formed?"
   ]
  },
  {
   "cell_type": "code",
   "execution_count": 1,
   "metadata": {},
   "outputs": [
    {
     "name": "stdout",
     "output_type": "stream",
     "text": [
      "161667\n"
     ]
    }
   ],
   "source": [
    "from math import gcd\n",
    "\n",
    "N = 1500000\n",
    "s = int((N/2) ** 0.5)\n",
    "count = [0]*N\n",
    "for m in range(2, s):\n",
    "    for n in range(1 + (m%2), m, 2):\n",
    "        if gcd(m,n) > 1:\n",
    "            continue\n",
    "        L = 2*m*(m+n)\n",
    "        if L > N:\n",
    "            break\n",
    "        for k in range(L, N, L):\n",
    "            count[k] += 1\n",
    "\n",
    "print(count.count(1))"
   ]
  },
  {
   "cell_type": "code",
   "execution_count": null,
   "metadata": {},
   "outputs": [],
   "source": []
  }
 ],
 "metadata": {
  "kernelspec": {
   "display_name": "Python 3",
   "language": "python",
   "name": "python3"
  },
  "language_info": {
   "codemirror_mode": {
    "name": "ipython",
    "version": 3
   },
   "file_extension": ".py",
   "mimetype": "text/x-python",
   "name": "python",
   "nbconvert_exporter": "python",
   "pygments_lexer": "ipython3",
   "version": "3.6.2"
  }
 },
 "nbformat": 4,
 "nbformat_minor": 1
}
