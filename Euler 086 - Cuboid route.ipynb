{
 "metadata": {
  "name": ""
 },
 "nbformat": 3,
 "nbformat_minor": 0,
 "worksheets": [
  {
   "cells": [
    {
     "cell_type": "markdown",
     "metadata": {},
     "source": [
      "Euler Problem 86\n",
      "================\n",
      "\n",
      "A spider, S, sits in one corner of a cuboid room, measuring 6 by 5 by 3, and a fly, F, sits in the opposite corner. By travelling on the surfaces of the room the shortest \"straight line\" distance from S to F is 10 and the path is shown on the diagram.\n",
      "\n",
      "\n",
      "However, there are up to three \"shortest\" path candidates for any given cuboid and the shortest route doesn't always have integer length.\n",
      "\n",
      "It can be shown that there are exactly 2060 distinct cuboids, ignoring rotations, with integer dimensions, up to a maximum size of M by M by M, for which the shortest route has integer length when M = 100. This is the least value of M for which the number of solutions first exceeds two thousand; the number of solutions when M = 99 is 1975.\n",
      "\n",
      "Find the least value of M such that the number of solutions first exceeds one million.\n"
     ]
    },
    {
     "cell_type": "code",
     "collapsed": false,
     "input": [
      "from fractions import gcd\n",
      "\n",
      "MAX = 10000\n",
      "solutions = [0]*(MAX+1)\n",
      "for m in xrange(2, 2000):\n",
      "    for n in xrange(m - 1, 0, -2):\n",
      "        if gcd(m, n) > 1:\n",
      "            continue\n",
      "        x1 = m*m - n*n\n",
      "        y1 = 2*m*n\n",
      "        z1 = m*m + n*n\n",
      "        if x1 > MAX and y1 > MAX:\n",
      "            break\n",
      "        x, y, z = x1, y1, z1\n",
      "        while (x <= MAX and y <= MAX):\n",
      "            solutions[y] += max(0, x/2 - max(1, x-y) + 1)\n",
      "            solutions[x] += max(0, y/2 - max(1, y-x) + 1)\n",
      "            x += x1\n",
      "            y += y1\n",
      "            z += z1\n",
      "total = 0\n",
      "for M in xrange(MAX):\n",
      "    total += solutions[M]\n",
      "    if total > 10**6:\n",
      "        print M\n",
      "        break"
     ],
     "language": "python",
     "metadata": {},
     "outputs": [
      {
       "output_type": "stream",
       "stream": "stdout",
       "text": [
        "1818\n"
       ]
      }
     ],
     "prompt_number": 2
    }
   ],
   "metadata": {}
  }
 ]
}