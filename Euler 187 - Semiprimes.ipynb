{
 "metadata": {
  "name": ""
 },
 "nbformat": 3,
 "nbformat_minor": 0,
 "worksheets": [
  {
   "cells": [
    {
     "cell_type": "markdown",
     "metadata": {},
     "source": [
      "Euler Problem 187\n",
      "=================\n",
      "\n",
      "A composite is a number containing at least two prime factors. For example, 15 = 3 \u00d7 5; 9 = 3 \u00d7 3; 12 = 2 \u00d7 2 \u00d7 3.\n",
      "\n",
      "There are ten composites below thirty containing precisely two, not necessarily distinct, prime factors: 4, 6, 9, 10, 14, 15, 21, 22, 25, 26.\n",
      "\n",
      "How many composite integers, n < 10<sup>8</sup>, have precisely two, not necessarily distinct, prime factors?\n"
     ]
    },
    {
     "cell_type": "code",
     "collapsed": false,
     "input": [
      "from sympy import sieve, primepi\n",
      "print sum(primepi(10**8 / p) - i for i, p in enumerate(sieve.primerange(1, 10**4)))"
     ],
     "language": "python",
     "metadata": {},
     "outputs": [
      {
       "output_type": "stream",
       "stream": "stdout",
       "text": [
        "17427258\n"
       ]
      }
     ],
     "prompt_number": 1
    }
   ],
   "metadata": {}
  }
 ]
}