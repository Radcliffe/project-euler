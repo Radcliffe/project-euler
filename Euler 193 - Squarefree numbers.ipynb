{
 "metadata": {
  "name": ""
 },
 "nbformat": 3,
 "nbformat_minor": 0,
 "worksheets": [
  {
   "cells": [
    {
     "cell_type": "markdown",
     "metadata": {},
     "source": [
      "Euler Problem 193\n",
      "=================\n",
      "\n",
      "A positive integer n is called squarefree, if no square of a prime divides n,\n",
      "thus 1, 2, 3, 5, 6, 7, 10, 11 are squarefree, but not 4, 8, 9, 12.\n",
      "\n",
      "How many squarefree numbers are there below 2<sup>50</sup>?"
     ]
    },
    {
     "cell_type": "code",
     "collapsed": false,
     "input": [
      "from numpy import *\n",
      "from sympy import sieve\n",
      "N = 2**25\n",
      "NN = N*N - 1\n",
      "mobius = [0, 1, -1, 1] * ((N+3)/4)\n",
      "mobius[0] = 1\n",
      "for p in sieve.primerange(3, N):\n",
      "    for n in xrange(p, N, p):\n",
      "        mobius[n] = -mobius[n]\n",
      "    pp = p*p\n",
      "    for n in xrange(pp, N, pp):\n",
      "        mobius[n] = 0\n",
      "print\n",
      "print sum(int(NN/(d*d)) * mobius[d] for d in xrange(1, N) if mobius[d])\n"
     ],
     "language": "python",
     "metadata": {},
     "outputs": [
      {
       "output_type": "stream",
       "stream": "stdout",
       "text": [
        "\n",
        "684465067343069"
       ]
      },
      {
       "output_type": "stream",
       "stream": "stdout",
       "text": [
        "\n"
       ]
      }
     ],
     "prompt_number": 1
    }
   ],
   "metadata": {}
  }
 ]
}