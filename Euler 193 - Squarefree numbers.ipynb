{
 "cells": [
  {
   "cell_type": "markdown",
   "metadata": {},
   "source": [
    "Euler Problem 193\n",
    "=================\n",
    "\n",
    "A positive integer n is called squarefree, if no square of a prime divides n,\n",
    "thus 1, 2, 3, 5, 6, 7, 10, 11 are squarefree, but not 4, 8, 9, 12.\n",
    "\n",
    "How many squarefree numbers are there below 2<sup>50</sup>?"
   ]
  },
  {
   "cell_type": "code",
   "execution_count": 1,
   "metadata": {},
   "outputs": [
    {
     "name": "stdout",
     "output_type": "stream",
     "text": [
      "684465067343069\n"
     ]
    }
   ],
   "source": [
    "from sympy import sieve\n",
    "N = 2**25\n",
    "NN = N*N - 1\n",
    "mobius = [0, 1, -1, 1] * ((N+3) // 4)\n",
    "mobius[0] = 1\n",
    "for p in sieve.primerange(3, N):\n",
    "    for n in range(p, N, p):\n",
    "        mobius[n] = -mobius[n]\n",
    "    pp = p*p\n",
    "    for n in range(pp, N, pp):\n",
    "        mobius[n] = 0\n",
    "print(sum(int(NN/(d*d)) * mobius[d] \n",
    "          for d in range(1, N)))"
   ]
  },
  {
   "cell_type": "code",
   "execution_count": null,
   "metadata": {},
   "outputs": [],
   "source": []
  }
 ],
 "metadata": {
  "kernelspec": {
   "display_name": "Python 3",
   "language": "python",
   "name": "python3"
  },
  "language_info": {
   "codemirror_mode": {
    "name": "ipython",
    "version": 3
   },
   "file_extension": ".py",
   "mimetype": "text/x-python",
   "name": "python",
   "nbconvert_exporter": "python",
   "pygments_lexer": "ipython3",
   "version": "3.6.2"
  }
 },
 "nbformat": 4,
 "nbformat_minor": 1
}
