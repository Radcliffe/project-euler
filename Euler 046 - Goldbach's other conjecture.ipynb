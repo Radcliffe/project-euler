{
 "cells": [
  {
   "cell_type": "markdown",
   "metadata": {},
   "source": [
    "Euler Problem 46\n",
    "================\n",
    "\n",
    "It was proposed by Christian Goldbach that every odd composite number can be written as the sum of a prime and twice a square.\n",
    "\n",
    "- 9 = 7 + 2×1<sup>2</sup>\n",
    "- 15 = 7 + 2×2<sup>2</sup>\n",
    "- 21 = 3 + 2×3<sup>2</sup>\n",
    "- 25 = 7 + 2×3<sup>2</sup>\n",
    "- 27 = 19 + 2×2<sup>2</sup>\n",
    "- 33 = 31 + 2×1<sup>2</sup>\n",
    "\n",
    "It turns out that the conjecture was false.\n",
    "\n",
    "What is the smallest odd composite that cannot be written as the sum of a prime and twice a square?"
   ]
  },
  {
   "cell_type": "code",
   "execution_count": 1,
   "metadata": {},
   "outputs": [
    {
     "name": "stdout",
     "output_type": "stream",
     "text": [
      "5777\n"
     ]
    }
   ],
   "source": [
    "N = 10000\n",
    "sieve = [False, False] + [True]*N\n",
    "for p in range(N):\n",
    "    if sieve[p]:\n",
    "        for m in range(p*p, N, p):\n",
    "            sieve[m] = False\n",
    "for n in range(9, N, 2):\n",
    "    if sieve[n]:\n",
    "        continue\n",
    "    delta = 6\n",
    "    m = n - 2\n",
    "    while m > 2 and not sieve[m]:\n",
    "        m -= delta\n",
    "        delta += 4\n",
    "    if m <= 2:\n",
    "        print(n)\n",
    "        break"
   ]
  },
  {
   "cell_type": "code",
   "execution_count": null,
   "metadata": {},
   "outputs": [],
   "source": []
  }
 ],
 "metadata": {
  "kernelspec": {
   "display_name": "Python 3",
   "language": "python",
   "name": "python3"
  },
  "language_info": {
   "codemirror_mode": {
    "name": "ipython",
    "version": 3
   },
   "file_extension": ".py",
   "mimetype": "text/x-python",
   "name": "python",
   "nbconvert_exporter": "python",
   "pygments_lexer": "ipython3",
   "version": "3.6.2"
  }
 },
 "nbformat": 4,
 "nbformat_minor": 1
}
