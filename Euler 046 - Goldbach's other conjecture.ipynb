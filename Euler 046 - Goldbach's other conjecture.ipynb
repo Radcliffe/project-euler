{
 "metadata": {
  "name": ""
 },
 "nbformat": 3,
 "nbformat_minor": 0,
 "worksheets": [
  {
   "cells": [
    {
     "cell_type": "markdown",
     "metadata": {},
     "source": [
      "Euler Problem 46\n",
      "================\n",
      "\n",
      "It was proposed by Christian Goldbach that every odd composite number can be written as the sum of a prime and twice a square.\n",
      "\n",
      "- 9 = 7 + 2\u00d71<sup>2</sup>\n",
      "- 15 = 7 + 2\u00d72<sup>2</sup>\n",
      "- 21 = 3 + 2\u00d73<sup>2</sup>\n",
      "- 25 = 7 + 2\u00d73<sup>2</sup>\n",
      "- 27 = 19 + 2\u00d72<sup>2</sup>\n",
      "- 33 = 31 + 2\u00d71<sup>2</sup>\n",
      "\n",
      "It turns out that the conjecture was false.\n",
      "\n",
      "What is the smallest odd composite that cannot be written as the sum of a prime and twice a square?"
     ]
    },
    {
     "cell_type": "code",
     "collapsed": false,
     "input": [
      "N = 10000\n",
      "sieve = [False, False] + [True]*N\n",
      "for p in xrange(N):\n",
      "    if sieve[p]:\n",
      "        for m in xrange(p*p, N, p):\n",
      "            sieve[m] = False\n",
      "for n in xrange(9, N, 2):\n",
      "    if sieve[n]:\n",
      "        continue\n",
      "    delta = 6\n",
      "    m = n - 2\n",
      "    while m > 2 and not sieve[m]:\n",
      "        m -= delta\n",
      "        delta += 4\n",
      "    if m <= 2:\n",
      "        print n\n",
      "        break"
     ],
     "language": "python",
     "metadata": {},
     "outputs": [
      {
       "output_type": "stream",
       "stream": "stdout",
       "text": [
        "5777\n"
       ]
      }
     ],
     "prompt_number": 1
    }
   ],
   "metadata": {}
  }
 ]
}