{
 "metadata": {
  "name": ""
 },
 "nbformat": 3,
 "nbformat_minor": 0,
 "worksheets": [
  {
   "cells": [
    {
     "cell_type": "markdown",
     "metadata": {},
     "source": [
      "Euler Problem 205\n",
      "=================\n",
      "\n",
      "Peter has nine four-sided (pyramidal) dice, each with faces numbered 1, 2, 3, 4.\n",
      "Colin has six six-sided (cubic) dice, each with faces numbered 1, 2, 3, 4, 5, 6.\n",
      "\n",
      "Peter and Colin roll their dice and compare totals: the highest total wins. The result is a draw if the totals are equal.\n",
      "\n",
      "What is the probability that Pyramidal Pete beats Cubic Colin? Give your answer rounded to seven decimal places in the form 0.abcdefg"
     ]
    },
    {
     "cell_type": "code",
     "collapsed": false,
     "input": [
      "from collections import defaultdict\n",
      "\n",
      "peter = defaultdict(float)\n",
      "colin = defaultdict(float)\n",
      "peter[0] = 1.0\n",
      "colin[0] = 1.0\n",
      "\n",
      "for _ in xrange(9):\n",
      "    for n in xrange(36, -1, -1):\n",
      "        peter[n] = sum(peter[n-k] for k in [1,2,3,4])/4\n",
      "\n",
      "for _ in xrange(6):\n",
      "    for n in xrange(36, -1, -1):\n",
      "        colin[n] = sum(colin[n-k] for k in [1,2,3,4,5,6])/6\n",
      "\n",
      "print \"%.7f\" % sum(peter[i]*colin[j] for i in xrange(37) for j in xrange(i))"
     ],
     "language": "python",
     "metadata": {},
     "outputs": [
      {
       "output_type": "stream",
       "stream": "stdout",
       "text": [
        "0.5731441\n"
       ]
      }
     ],
     "prompt_number": 1
    }
   ],
   "metadata": {}
  }
 ]
}