{
 "cells": [
  {
   "cell_type": "markdown",
   "metadata": {},
   "source": [
    "Euler Problem 205\n",
    "=================\n",
    "\n",
    "Peter has nine four-sided (pyramidal) dice, each with faces numbered 1, 2, 3, 4.\n",
    "Colin has six six-sided (cubic) dice, each with faces numbered 1, 2, 3, 4, 5, 6.\n",
    "\n",
    "Peter and Colin roll their dice and compare totals: the highest total wins. The result is a draw if the totals are equal.\n",
    "\n",
    "What is the probability that Pyramidal Pete beats Cubic Colin? Give your answer rounded to seven decimal places in the form 0.abcdefg"
   ]
  },
  {
   "cell_type": "code",
   "execution_count": 1,
   "metadata": {},
   "outputs": [
    {
     "name": "stdout",
     "output_type": "stream",
     "text": [
      "0.5731441\n"
     ]
    }
   ],
   "source": [
    "from collections import defaultdict\n",
    "\n",
    "peter = defaultdict(float)\n",
    "colin = defaultdict(float)\n",
    "peter[0] = 1.0\n",
    "colin[0] = 1.0\n",
    "\n",
    "for _ in range(9):\n",
    "    for n in range(36, -1, -1):\n",
    "        peter[n] = sum(peter[n-k] for k in [1,2,3,4])/4\n",
    "\n",
    "for _ in range(6):\n",
    "    for n in range(36, -1, -1):\n",
    "        colin[n] = sum(colin[n-k] for k in [1,2,3,4,5,6])/6\n",
    "\n",
    "print (\"%.7f\" % sum(peter[i]*colin[j] for i in range(37) for j in range(i)))"
   ]
  },
  {
   "cell_type": "code",
   "execution_count": null,
   "metadata": {},
   "outputs": [],
   "source": []
  }
 ],
 "metadata": {
  "kernelspec": {
   "display_name": "Python 3",
   "language": "python",
   "name": "python3"
  },
  "language_info": {
   "codemirror_mode": {
    "name": "ipython",
    "version": 3
   },
   "file_extension": ".py",
   "mimetype": "text/x-python",
   "name": "python",
   "nbconvert_exporter": "python",
   "pygments_lexer": "ipython3",
   "version": "3.6.2"
  }
 },
 "nbformat": 4,
 "nbformat_minor": 1
}
