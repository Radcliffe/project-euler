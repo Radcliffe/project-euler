{
 "metadata": {
  "name": ""
 },
 "nbformat": 3,
 "nbformat_minor": 0,
 "worksheets": [
  {
   "cells": [
    {
     "cell_type": "markdown",
     "metadata": {},
     "source": [
      "Euler Problem 73\n",
      "================\n",
      "\n",
      "Consider the fraction, n/d, where n and d are positive integers. If n < d and HCF(n,d)=1, it is called a reduced proper fraction.\n",
      "\n",
      "If we list the set of reduced proper fractions for d \u2264 8 in ascending order of size, we get:\n",
      "\n",
      "1/8, 1/7, 1/6, 1/5, 1/4, 2/7, 1/3, 3/8, 2/5, 3/7, 1/2, 4/7, 3/5, 5/8, 2/3, 5/7, 3/4, 4/5, 5/6, 6/7, 7/8\n",
      "\n",
      "It can be seen that there are 3 fractions between 1/3 and 1/2.\n",
      "\n",
      "How many fractions lie between 1/3 and 1/2 in the sorted set of reduced proper fractions for d \u2264 12,000?"
     ]
    },
    {
     "cell_type": "code",
     "collapsed": false,
     "input": [
      "from sympy import sieve\n",
      "from numpy import *\n",
      "\n",
      "N = 12000\n",
      "mu = ones(N+1, dtype=int16)\n",
      "for p in sieve.primerange(1, N+1):\n",
      "    for k in xrange(p, N+1, p):\n",
      "        mu[k] *= -1\n",
      "    pp = p*p\n",
      "    for k in xrange(pp, N+1, pp):\n",
      "        mu[k] = 0\n",
      "g = lambda n: int((n-2.0)**2/12+0.5)\n",
      "print sum(mu[d] * g(N/d) for d in xrange(1, 10000))"
     ],
     "language": "python",
     "metadata": {},
     "outputs": [
      {
       "output_type": "stream",
       "stream": "stdout",
       "text": [
        "7295372\n"
       ]
      }
     ],
     "prompt_number": 1
    },
    {
     "cell_type": "code",
     "collapsed": false,
     "input": [],
     "language": "python",
     "metadata": {},
     "outputs": []
    }
   ],
   "metadata": {}
  }
 ]
}