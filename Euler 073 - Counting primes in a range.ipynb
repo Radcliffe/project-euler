{
 "cells": [
  {
   "cell_type": "markdown",
   "metadata": {},
   "source": [
    "Euler Problem 73\n",
    "================\n",
    "\n",
    "Consider the fraction, n/d, where n and d are positive integers. If n < d and HCF(n,d)=1, it is called a reduced proper fraction.\n",
    "\n",
    "If we list the set of reduced proper fractions for d ≤ 8 in ascending order of size, we get:\n",
    "\n",
    "1/8, 1/7, 1/6, 1/5, 1/4, 2/7, 1/3, 3/8, 2/5, 3/7, 1/2, 4/7, 3/5, 5/8, 2/3, 5/7, 3/4, 4/5, 5/6, 6/7, 7/8\n",
    "\n",
    "It can be seen that there are 3 fractions between 1/3 and 1/2.\n",
    "\n",
    "How many fractions lie between 1/3 and 1/2 in the sorted set of reduced proper fractions for d ≤ 12,000?"
   ]
  },
  {
   "cell_type": "code",
   "execution_count": 1,
   "metadata": {},
   "outputs": [
    {
     "name": "stdout",
     "output_type": "stream",
     "text": [
      "7295372\n"
     ]
    }
   ],
   "source": [
    "from sympy import sieve\n",
    "import numpy as np\n",
    "\n",
    "N = 12000\n",
    "mu = np.ones(N+1, dtype=int16)\n",
    "for p in sieve.primerange(1, N+1):\n",
    "    for k in range(p, N+1, p):\n",
    "        mu[k] *= -1\n",
    "    pp = p*p\n",
    "    for k in range(pp, N+1, pp):\n",
    "        mu[k] = 0\n",
    "g = lambda n: int((n-2.0)**2/12+0.5)\n",
    "print sum(mu[d] * g(N/d) for d in xrange(1, 10000))"
   ]
  },
  {
   "cell_type": "markdown",
   "metadata": {},
   "source": [
    "**Discussion:**\n",
    "\n",
    "Let $g(n)$ denote the number of pairs of positive integers $(x,y)$ such that $y \\le n$ and $\\frac13 < \\frac{x}{y} < \\frac{1}{2}$. \n",
    "Let $f(n)$ denote the number of pairs with the above properties and the additional condition that $x$ and $y$ are relatively prime. Then \n",
    "$$g(n) = \\sum_{k=1}^n f(n/k).$$ \n",
    "By the Mobius inversion formula, \n",
    "$$f(n) = \\sum_{k=1}^n \\mu(k) g(n/k).$$\n",
    "It can be shown that if $n$ is an integer, $g(n)$ is the integer nearest to $\\frac1{12} (n-2)^2$. \n",
    "\n",
    "Putting this information together gives an efficient algorithm for calculating $f(n)$."
   ]
  },
  {
   "cell_type": "code",
   "execution_count": null,
   "metadata": {},
   "outputs": [],
   "source": []
  }
 ],
 "metadata": {
  "kernelspec": {
   "display_name": "Python 3",
   "language": "python",
   "name": "python3"
  },
  "language_info": {
   "codemirror_mode": {
    "name": "ipython",
    "version": 3
   },
   "file_extension": ".py",
   "mimetype": "text/x-python",
   "name": "python",
   "nbconvert_exporter": "python",
   "pygments_lexer": "ipython3",
   "version": "3.6.2"
  }
 },
 "nbformat": 4,
 "nbformat_minor": 1
}
