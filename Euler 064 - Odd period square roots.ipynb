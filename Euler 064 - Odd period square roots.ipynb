{
 "metadata": {
  "name": ""
 },
 "nbformat": 3,
 "nbformat_minor": 0,
 "worksheets": [
  {
   "cells": [
    {
     "cell_type": "markdown",
     "metadata": {},
     "source": [
      "Euler Problem 64\n",
      "================\n",
      "\n",
      "All square roots are periodic when written as continued fractions and can be\n",
      "written in the form:\n",
      "\n",
      "For example, let us consider \u221a23:\n",
      "\u221a23 = 4 + \u221a23 \u2014 4 = 4 +  \t\n",
      "\n",
      "\n",
      "If we continue we would get the following expansion:\n",
      "\u221a23 = 4 + \t\n",
      "\n",
      "The process can be summarised as follows:\n",
      "\n",
      "It can be seen that the sequence is repeating. For conciseness, we use the\n",
      "notation \u221a23 = [4;(1,3,1,8)], to indicate that the block (1,3,1,8) repeats\n",
      "indefinitely.\n",
      "\n",
      "The first ten continued fraction representations of (irrational) square roots\n",
      "are:\n",
      "\n",
      "\u221a2=[1;(2)], period=1\n",
      "\u221a3=[1;(1,2)], period=2\n",
      "\u221a5=[2;(4)], period=1\n",
      "\u221a6=[2;(2,4)], period=2\n",
      "\u221a7=[2;(1,1,1,4)], period=4\n",
      "\u221a8=[2;(1,4)], period=2\n",
      "\u221a10=[3;(6)], period=1\n",
      "\u221a11=[3;(3,6)], period=2\n",
      "\u221a12= [3;(2,6)], period=2\n",
      "\u221a13=[3;(1,1,1,1,6)], period=5\n",
      "\n",
      "Exactly four continued fractions, for N \u2264 13, have an odd period.\n",
      "\n",
      "How many continued fractions for N \u2264 10000 have an odd period?"
     ]
    },
    {
     "cell_type": "code",
     "collapsed": false,
     "input": [
      "from fractions import gcd\n",
      "\n",
      "def reduce_triple(a,b,c):\n",
      "    d = gcd(a,gcd(b,c))\n",
      "    if c<0:\n",
      "        d = -d\n",
      "    return (a/d,b/d,c/d)\n",
      "\n",
      "\n",
      "def cf_period(n):\n",
      "    sq = n ** .5\n",
      "    (a,b,c) = (0,1,1)\n",
      "    history = {}\n",
      "    count = 0\n",
      "    while not (a,b,c) in history:\n",
      "        history[a,b,c] = count\n",
      "        count += 1\n",
      "        k = int((a+b*sq)/c)\n",
      "        (a,b,c) = reduce_triple(c*(a-c*k), -b*c, (a-c*k)**2-b*b*n)\n",
      "    return count - history[a,b,c]\n",
      "\n",
      "count = total = 0\n",
      "for n in xrange(2,10001):\n",
      "    sq = int(n ** .5 + .5)\n",
      "    if sq * sq == n:\n",
      "        continue\n",
      "    if cf_period(n) % 2:\n",
      "        count += 1\n",
      "print count\n",
      "    "
     ],
     "language": "python",
     "metadata": {},
     "outputs": [
      {
       "output_type": "stream",
       "stream": "stdout",
       "text": [
        "1322\n"
       ]
      }
     ],
     "prompt_number": 1
    },
    {
     "cell_type": "markdown",
     "metadata": {},
     "source": [
      "**Note:** This is old code and it should be revised and documented."
     ]
    }
   ],
   "metadata": {}
  }
 ]
}