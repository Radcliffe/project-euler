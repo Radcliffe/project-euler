{
 "cells": [
  {
   "cell_type": "markdown",
   "metadata": {},
   "source": [
    "Euler Problem 64\n",
    "================\n",
    "\n",
    "All square roots are periodic when written as continued fractions and can be\n",
    "written in the form:\n",
    "\n",
    "For example, let us consider √23:\n",
    "√23 = 4 + √23 — 4 = 4 +  \t\n",
    "\n",
    "\n",
    "If we continue we would get the following expansion:\n",
    "√23 = 4 + \t\n",
    "\n",
    "The process can be summarised as follows:\n",
    "\n",
    "It can be seen that the sequence is repeating. For conciseness, we use the\n",
    "notation √23 = [4;(1,3,1,8)], to indicate that the block (1,3,1,8) repeats\n",
    "indefinitely.\n",
    "\n",
    "The first ten continued fraction representations of (irrational) square roots\n",
    "are:\n",
    "\n",
    "√2=[1;(2)], period=1\n",
    "√3=[1;(1,2)], period=2\n",
    "√5=[2;(4)], period=1\n",
    "√6=[2;(2,4)], period=2\n",
    "√7=[2;(1,1,1,4)], period=4\n",
    "√8=[2;(1,4)], period=2\n",
    "√10=[3;(6)], period=1\n",
    "√11=[3;(3,6)], period=2\n",
    "√12= [3;(2,6)], period=2\n",
    "√13=[3;(1,1,1,1,6)], period=5\n",
    "\n",
    "Exactly four continued fractions, for N ≤ 13, have an odd period.\n",
    "\n",
    "How many continued fractions for N ≤ 10000 have an odd period?"
   ]
  },
  {
   "cell_type": "code",
   "execution_count": 1,
   "metadata": {},
   "outputs": [
    {
     "name": "stdout",
     "output_type": "stream",
     "text": [
      "1322\n"
     ]
    }
   ],
   "source": [
    "from math import gcd\n",
    "\n",
    "def reduce_triple(a, b, c):\n",
    "    d = gcd(a, gcd(b, c))\n",
    "    if c < 0:\n",
    "        d = -d\n",
    "    return (a // d, b // d, c // d)\n",
    "\n",
    "\n",
    "def cf_period(n):\n",
    "    sq = n ** .5\n",
    "    a, b, c = 0, 1, 1\n",
    "    history = {}\n",
    "    count = 0\n",
    "    while (a,b,c) not in history:\n",
    "        history[a,b,c] = count\n",
    "        count += 1\n",
    "        k = int((a + b * sq) / c)\n",
    "        a, b, c = reduce_triple(c*(a-c*k), -b*c, (a-c*k)**2-b*b*n)\n",
    "    return count - history[a,b,c]\n",
    "\n",
    "count = total = 0\n",
    "for n in range(2,10001):\n",
    "    sq = round(n ** .5)\n",
    "    if sq * sq == n:\n",
    "        continue\n",
    "    if cf_period(n) % 2:\n",
    "        count += 1\n",
    "print(count)\n",
    "    "
   ]
  },
  {
   "cell_type": "markdown",
   "metadata": {},
   "source": [
    "**Note:** This is old code and it should be revised and documented."
   ]
  }
 ],
 "metadata": {
  "kernelspec": {
   "display_name": "Python 3",
   "language": "python",
   "name": "python3"
  },
  "language_info": {
   "codemirror_mode": {
    "name": "ipython",
    "version": 3
   },
   "file_extension": ".py",
   "mimetype": "text/x-python",
   "name": "python",
   "nbconvert_exporter": "python",
   "pygments_lexer": "ipython3",
   "version": "3.6.2"
  }
 },
 "nbformat": 4,
 "nbformat_minor": 1
}
