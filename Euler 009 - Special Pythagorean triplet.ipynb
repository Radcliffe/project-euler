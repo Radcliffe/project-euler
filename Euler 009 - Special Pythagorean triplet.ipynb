{
 "cells": [
  {
   "cell_type": "markdown",
   "metadata": {},
   "source": [
    "Euler Problem 9\n",
    "===============\n",
    "\n",
    "A Pythagorean triplet is a set of three natural numbers, $a < b < c$, for which\n",
    "$a^2 + b^2 = c^2$. For example, $3^2 + 4^2 = 9 + 16 = 25 = 5^2$.\n",
    "\n",
    "There exists exactly one Pythagorean triplet for which $a + b + c = 1000$.\n",
    "Find the product $abc$."
   ]
  },
  {
   "cell_type": "code",
   "execution_count": 2,
   "metadata": {},
   "outputs": [
    {
     "name": "stdout",
     "output_type": "stream",
     "text": [
      "(375, 200, 425)\n",
      "31875000\n"
     ]
    }
   ],
   "source": [
    "from math import gcd\n",
    "for m in range(2, 23, 2):\n",
    "    for n in range(1 + (m % 2), m, 2):\n",
    "        if gcd(m,n) == 1:\n",
    "            a = (m + n) * (m - n)\n",
    "            b = 2 * m * n\n",
    "            c = m * m + n * n\n",
    "            p = a + b + c\n",
    "            if (1000 % p) == 0:\n",
    "                k = 1000 // p\n",
    "                print((k*a, k*b, k*c))\n",
    "                print(k**3 * a * b * c)"
   ]
  },
  {
   "cell_type": "markdown",
   "metadata": {},
   "source": [
    "*Explanation:* A Pythagorean triplet is said to be *primitive* if the three numbers have no common factor. Every Pythagorean triplet is a multiple of a primitive triplet.\n",
    "\n",
    "If $m > n$ then $(m^2 - n^2, 2mn, m^2 + n^2)$ is a Pythagorean triple.\n",
    "The triple is primitive if and only if $m-n$ is odd and $\\gcd(m, n) = 1$.\n",
    "Furthermore, every primitive Pythagorean triple can be generated in this manner.\n",
    "\n",
    "Our strategy is to find all primitive Pythagorean triplets whose sums are factors of 1000, and scale them so their sums are equal to 1000.\n"
   ]
  }
 ],
 "metadata": {
  "kernelspec": {
   "display_name": "Python 3",
   "language": "python",
   "name": "python3"
  },
  "language_info": {
   "codemirror_mode": {
    "name": "ipython",
    "version": 3
   },
   "file_extension": ".py",
   "mimetype": "text/x-python",
   "name": "python",
   "nbconvert_exporter": "python",
   "pygments_lexer": "ipython3",
   "version": "3.6.2"
  }
 },
 "nbformat": 4,
 "nbformat_minor": 1
}
