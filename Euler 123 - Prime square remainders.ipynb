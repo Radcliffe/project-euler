{
 "cells": [
  {
   "cell_type": "markdown",
   "metadata": {},
   "source": [
    "Euler Problem 123\n",
    "=================\n",
    "\n",
    "Let pn be the nth prime: 2, 3, 5, 7, 11, ..., and let r be the remainder when $(p_n-1)^n + (p_n+1)^n$ is divided by $p_n^2$.\n",
    "\n",
    "For example, when n = 3, p3 = 5, and 43 + 63 = 280 ≡ 5 mod 25.\n",
    "\n",
    "The least value of n for which the remainder first exceeds 109 is 7037.\n",
    "\n",
    "Find the least value of n for which the remainder first exceeds 10<sup>10</sup>."
   ]
  },
  {
   "cell_type": "code",
   "execution_count": 1,
   "metadata": {},
   "outputs": [
    {
     "name": "stdout",
     "output_type": "stream",
     "text": [
      "21035\n"
     ]
    }
   ],
   "source": [
    "from sympy import sieve\n",
    "primes = list(sieve.primerange(1, 500000))[0::2]\n",
    "for k, p in enumerate(primes):\n",
    "    n = 2*k + 1\n",
    "    remainder = (2*n*p) % (p*p)\n",
    "    if remainder > 10**10:\n",
    "        print(n)\n",
    "        break"
   ]
  },
  {
   "cell_type": "code",
   "execution_count": null,
   "metadata": {},
   "outputs": [],
   "source": []
  }
 ],
 "metadata": {
  "kernelspec": {
   "display_name": "Python 3",
   "language": "python",
   "name": "python3"
  },
  "language_info": {
   "codemirror_mode": {
    "name": "ipython",
    "version": 3
   },
   "file_extension": ".py",
   "mimetype": "text/x-python",
   "name": "python",
   "nbconvert_exporter": "python",
   "pygments_lexer": "ipython3",
   "version": "3.6.2"
  }
 },
 "nbformat": 4,
 "nbformat_minor": 1
}
