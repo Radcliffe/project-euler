{
 "cells": [
  {
   "cell_type": "markdown",
   "metadata": {},
   "source": [
    "Euler Problem 124\n",
    "=================\n",
    "\n",
    "The radical of n, rad(n), is the product of distinct prime factors of n. For\n",
    "example, 504 = 23 × 32 × 7, so rad(504) = 2 × 3 × 7 = 42.\n",
    "\n",
    "If we calculate rad(n) for 1 ≤ n ≤ 10, then sort them on rad(n), and sorting\n",
    "on n if the radical values are equal, we get:\n",
    "\n",
    "\n",
    "Let E(k) be the kth element in the sorted n column; for example, E(4) = 8 and\n",
    "E(6) = 9.\n",
    "\n",
    "If rad(n) is sorted for 1 ≤ n ≤ 100000, find E(10000).\n",
    "\n",
    "\n",
    "        \n",
    "        \n",
    "        "
   ]
  },
  {
   "cell_type": "code",
   "execution_count": 1,
   "metadata": {},
   "outputs": [
    {
     "name": "stdout",
     "output_type": "stream",
     "text": [
      "21417\n"
     ]
    }
   ],
   "source": [
    "N = 100000\n",
    "K = 10000\n",
    "rad = [1]*(N+1)\n",
    "for p in range(2, N+1):\n",
    "    if rad[p] == 1:\n",
    "        for k in range(p, N+1, p):\n",
    "            rad[k] *= p\n",
    "\n",
    "print(sorted([[rad[n],n] for n in range(1,N+1)])[K-1][1])"
   ]
  },
  {
   "cell_type": "code",
   "execution_count": null,
   "metadata": {},
   "outputs": [],
   "source": []
  }
 ],
 "metadata": {
  "kernelspec": {
   "display_name": "Python 3",
   "language": "python",
   "name": "python3"
  },
  "language_info": {
   "codemirror_mode": {
    "name": "ipython",
    "version": 3
   },
   "file_extension": ".py",
   "mimetype": "text/x-python",
   "name": "python",
   "nbconvert_exporter": "python",
   "pygments_lexer": "ipython3",
   "version": "3.6.2"
  }
 },
 "nbformat": 4,
 "nbformat_minor": 1
}
