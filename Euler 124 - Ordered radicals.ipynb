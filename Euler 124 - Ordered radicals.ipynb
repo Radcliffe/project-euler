{
 "metadata": {
  "name": ""
 },
 "nbformat": 3,
 "nbformat_minor": 0,
 "worksheets": [
  {
   "cells": [
    {
     "cell_type": "markdown",
     "metadata": {},
     "source": [
      "Euler Problem 124\n",
      "=================\n",
      "\n",
      "The radical of n, rad(n), is the product of distinct prime factors of n. For\n",
      "example, 504 = 23 \u00d7 32 \u00d7 7, so rad(504) = 2 \u00d7 3 \u00d7 7 = 42.\n",
      "\n",
      "If we calculate rad(n) for 1 \u2264 n \u2264 10, then sort them on rad(n), and sorting\n",
      "on n if the radical values are equal, we get:\n",
      "\n",
      "\n",
      "Let E(k) be the kth element in the sorted n column; for example, E(4) = 8 and\n",
      "E(6) = 9.\n",
      "\n",
      "If rad(n) is sorted for 1 \u2264 n \u2264 100000, find E(10000).\n",
      "\n",
      "\n",
      "        \n",
      "        \n",
      "        "
     ]
    },
    {
     "cell_type": "code",
     "collapsed": false,
     "input": [
      "N = 100000\n",
      "K = 10000\n",
      "rad = [1]*(N+1)\n",
      "for p in xrange(2, N+1):\n",
      "    if rad[p] == 1:\n",
      "        for k in xrange(p, N+1, p):\n",
      "            rad[k] *= p\n",
      "\n",
      "print sorted([[rad[n],n] for n in xrange(1,N+1)])[K-1][1]"
     ],
     "language": "python",
     "metadata": {},
     "outputs": [
      {
       "output_type": "stream",
       "stream": "stdout",
       "text": [
        "21417\n"
       ]
      }
     ],
     "prompt_number": 1
    }
   ],
   "metadata": {}
  }
 ]
}