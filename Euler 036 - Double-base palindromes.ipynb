{
 "metadata": {
  "name": ""
 },
 "nbformat": 3,
 "nbformat_minor": 0,
 "worksheets": [
  {
   "cells": [
    {
     "cell_type": "markdown",
     "metadata": {},
     "source": [
      "Euler Problem 36\n",
      "================\n",
      "\n",
      "The decimal number, 585 = 1001001001<sub>2</sub> (binary), is palindromic in both bases.\n",
      "\n",
      "Find the sum of all numbers, less than one million, which are palindromic in base 10 and base 2.\n",
      "\n",
      "(Please note that the palindromic number, in either base, may not include leading zeros.)"
     ]
    },
    {
     "cell_type": "code",
     "collapsed": false,
     "input": [
      "print sum(n for n in xrange(10**6) if str(n)==str(n)[::-1] and bin(n)[2:] == bin(n)[-1:1:-1])"
     ],
     "language": "python",
     "metadata": {},
     "outputs": [
      {
       "output_type": "stream",
       "stream": "stdout",
       "text": [
        "872187\n"
       ]
      }
     ],
     "prompt_number": 1
    }
   ],
   "metadata": {}
  }
 ]
}