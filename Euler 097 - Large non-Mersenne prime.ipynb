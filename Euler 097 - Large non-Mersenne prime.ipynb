{
 "metadata": {
  "name": ""
 },
 "nbformat": 3,
 "nbformat_minor": 0,
 "worksheets": [
  {
   "cells": [
    {
     "cell_type": "markdown",
     "metadata": {},
     "source": [
      "Euler Problem 97\n",
      "================\n",
      "\n",
      "The first known prime found to exceed one million digits was discovered in 1999, and is a Mersenne prime of the form 2<sup>6972593</sup>\u22121; it contains exactly 2,098,960 digits. Subsequently other Mersenne primes, of the form 2<sup>p</sup>\u22121, have been found which contain more digits.\n",
      "\n",
      "However, in 2004 there was found a massive non-Mersenne prime which contains 2,357,207 digits: 28433 \u00d7 2<sup>7830457</sup> + 1.\n",
      "\n",
      "Find the last ten digits of this prime number."
     ]
    },
    {
     "cell_type": "code",
     "collapsed": false,
     "input": [
      "print (28433 * pow(2, 7830457, 10**10) + 1) % 10**10"
     ],
     "language": "python",
     "metadata": {},
     "outputs": [
      {
       "output_type": "stream",
       "stream": "stdout",
       "text": [
        "8739992577\n"
       ]
      }
     ],
     "prompt_number": 1
    },
    {
     "cell_type": "markdown",
     "metadata": {},
     "source": [
      "**Note:** Python makes this too easy. The largest prime number currently known (as of September 2014) is 2<sup>57885161</sup>-1, which contains 174,251,702 digits. It was discovered in 2013. The largest known non-Mersenne prime (and the 11th largest known prime) is 19249 \u00d7 2<sup>13018586</sup> + 1, which was discovered in 2007 and contains 3,918,990 digits. See https://primes.utm.edu/primes/search.php?Number=100"
     ]
    }
   ],
   "metadata": {}
  }
 ]
}