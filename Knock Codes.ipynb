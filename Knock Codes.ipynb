{
 "metadata": {
  "name": ""
 },
 "nbformat": 3,
 "nbformat_minor": 0,
 "worksheets": [
  {
   "cells": [
    {
     "cell_type": "markdown",
     "metadata": {},
     "source": [
      "Counting Knock Codes\n",
      "====================\n",
      "\n",
      "This advertisement claims that there are 86,358 different code combinations.\n",
      "But where does this number come from? Is it correct?\n",
      "\n",
      "![](files/knock.jpg)\n",
      "\n"
     ]
    },
    {
     "cell_type": "markdown",
     "metadata": {},
     "source": [
      "At first glance, there are $4^d$ different patterns with $d$ taps, so the total number of combinations is\n",
      "$\\sum_{d=3}^8 4^d = 87360$. Here is a Python script to calculate this number.\n"
     ]
    },
    {
     "cell_type": "code",
     "collapsed": false,
     "input": [
      "print sum(4**d for d in range(3, 9))"
     ],
     "language": "python",
     "metadata": {},
     "outputs": [
      {
       "output_type": "stream",
       "stream": "stdout",
       "text": [
        "87360\n"
       ]
      }
     ],
     "prompt_number": 3
    },
    {
     "cell_type": "markdown",
     "metadata": {},
     "source": [
      "But this number is too big! To find the correct answer, we must realize that some patterns are indistinguishable from others.\n",
      "\n",
      "Let's number the squares as shown below. A pattern is a sequence of digits 0,1,2,3 whose length is between 3 and 8.\n",
      "\n",
      "![](files/0123.png)\n",
      "\n",
      "We assume that a pattern is not changed by sliding it up, down, left, or right, if it is possible to do so. \n",
      "Thus, we shall slide each pattern up and left if it possible to do so. \n",
      "If the pattern contains a 0, then the pattern cannot be moved up or left. Likewise, it cannot be moved up or left\n",
      "if the pattern contains both 1 and 2. In all other cases, the pattern can be moved up and/or left.\n",
      "\n",
      "The following Python script generates all sequences of digits 0-3 with length between 3 and 8, which either\n",
      "* contain 0, or\n",
      "* contain both 1 and 2.\n",
      "\n",
      "The script outputs 86358, as expected."
     ]
    },
    {
     "cell_type": "code",
     "collapsed": false,
     "input": [
      "from itertools import product\n",
      "\n",
      "count = 0\n",
      "for length in range(3, 9):\n",
      "    for pattern in product(range(4), repeat=length):\n",
      "        distinct = set(pattern)\n",
      "        if 0 in distinct or (1 in distinct and 2 in distinct):\n",
      "            count += 1\n",
      "print count"
     ],
     "language": "python",
     "metadata": {},
     "outputs": [
      {
       "output_type": "stream",
       "stream": "stdout",
       "text": [
        "86358\n"
       ]
      }
     ],
     "prompt_number": 2
    }
   ],
   "metadata": {}
  }
 ]
}