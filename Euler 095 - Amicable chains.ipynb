{
 "cells": [
  {
   "cell_type": "markdown",
   "metadata": {},
   "source": [
    "Euler Problem 95\n",
    "================\n",
    "\n",
    "The proper divisors of a number are all the divisors excluding the number itself. For example, the proper divisors of 28 are 1, 2, 4, 7, and 14. As the sum of these divisors is equal to 28, we call it a perfect number.\n",
    "\n",
    "Interestingly the sum of the proper divisors of 220 is 284 and the sum of the proper divisors of 284 is 220, forming a chain of two numbers. For this reason, 220 and 284 are called an amicable pair.\n",
    "\n",
    "Perhaps less well known are longer chains. For example, starting with 12496, we form a chain of five numbers:\n",
    "\n",
    "12496 → 14288 → 15472 → 14536 → 14264 (→ 12496 → ...)\n",
    "\n",
    "Since this chain returns to its starting point, it is called an amicable chain.\n",
    "\n",
    "Find the smallest member of the longest amicable chain with no element exceeding one million."
   ]
  },
  {
   "cell_type": "code",
   "execution_count": 1,
   "metadata": {},
   "outputs": [
    {
     "name": "stdout",
     "output_type": "stream",
     "text": [
      "14316\n"
     ]
    }
   ],
   "source": [
    "N = 10**6 + 1\n",
    "divsum = [1] * N\n",
    "divsum[0] = 0\n",
    "divsum[1] = 0\n",
    "longest_chain = 0\n",
    "smallest_member = N\n",
    "\n",
    "for d in range(2, N):\n",
    "    for n in range(2*d, N, d):\n",
    "        divsum[n] += d\n",
    "\n",
    "seen = [False] * N\n",
    "seen[0] = True\n",
    "seen[1] = True\n",
    "for n in range(2, N):\n",
    "    if seen[n]:\n",
    "        continue\n",
    "    m = n\n",
    "    orbit = []\n",
    "    while m < N and not seen[m] and (m not in orbit):\n",
    "        orbit.append(m)\n",
    "        m = divsum[m]\n",
    "    if m in orbit:\n",
    "        k = orbit.index(m)\n",
    "        cycle_len = len(orbit) - k\n",
    "        if cycle_len > longest_chain:\n",
    "            longest_chain = cycle_len\n",
    "            smallest_member = min(orbit[k:])\n",
    "        elif cycle_len == longest_chain:\n",
    "            smallest_member = min(smallest_member, min(orbit[k:]))\n",
    "    for m in orbit:\n",
    "        seen[m] = True\n",
    "print(smallest_member)"
   ]
  },
  {
   "cell_type": "code",
   "execution_count": null,
   "metadata": {},
   "outputs": [],
   "source": []
  }
 ],
 "metadata": {
  "kernelspec": {
   "display_name": "Python 3",
   "language": "python",
   "name": "python3"
  },
  "language_info": {
   "codemirror_mode": {
    "name": "ipython",
    "version": 3
   },
   "file_extension": ".py",
   "mimetype": "text/x-python",
   "name": "python",
   "nbconvert_exporter": "python",
   "pygments_lexer": "ipython3",
   "version": "3.6.2"
  }
 },
 "nbformat": 4,
 "nbformat_minor": 1
}
