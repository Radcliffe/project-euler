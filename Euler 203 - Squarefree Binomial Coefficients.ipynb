{
 "cells": [
  {
   "cell_type": "markdown",
   "metadata": {},
   "source": [
    "# Euler Problem 203\n",
    "\n",
    "\n",
    "    The binomial coefficients nCk can be arranged in triangular form, Pascal's triangle, like this:\n",
    "                                    1\t\n",
    "                                1\t\t1\t\n",
    "                            1\t\t2\t\t1\t\n",
    "                        1\t\t3\t\t3\t\t1\t\n",
    "                    1\t\t4\t\t6\t\t4\t\t1\t\n",
    "                1\t\t5\t\t10\t\t10\t\t5\t\t1\t\n",
    "            1\t\t6\t\t15\t\t20\t\t15\t\t6\t\t1\t\n",
    "        1\t\t7\t\t21\t\t35\t\t35\t\t21\t\t7\t\t1\n",
    "                                .........\n",
    "\n",
    "    It can be seen that the first eight rows of Pascal's triangle contain twelve distinct numbers: \n",
    "    1, 2, 3, 4, 5, 6, 7, 10, 15, 20, 21 and 35.\n",
    "\n",
    "    A positive integer n is called squarefree if no square of a prime divides n. Of the twelve distinct\n",
    "    numbers in the first eight rows of Pascal's triangle, all except 4 and 20 are squarefree. The sum of \n",
    "    the distinct squarefree numbers in the first eight rows is 105.\n",
    "\n",
    "    Find the sum of the distinct squarefree numbers in the first 51 rows of Pascal's triangle.\n"
   ]
  },
  {
   "cell_type": "code",
   "execution_count": 1,
   "metadata": {},
   "outputs": [],
   "source": [
    "N = 51\n",
    "\n",
    "def binom(n, k):\n",
    "    if k > n // 2:\n",
    "        k = n - k\n",
    "    b = 1\n",
    "    for i in range(k):\n",
    "        b = (b * (n - i)) // (i + 1)\n",
    "    return b"
   ]
  },
  {
   "cell_type": "code",
   "execution_count": 2,
   "metadata": {},
   "outputs": [],
   "source": [
    "from sympy import primerange, nextprime\n",
    "\n",
    "MAXIMUM_ROW_NUMBER = 100\n",
    "smallprimes = list(primerange(2, MAXIMUM_ROW_NUMBER + 1))"
   ]
  },
  {
   "cell_type": "code",
   "execution_count": 3,
   "metadata": {},
   "outputs": [],
   "source": [
    "def squarefree_binom(n, k):\n",
    "    assert n <= MAXIMUM_ROW_NUMBER\n",
    "    for p in smallprimes:\n",
    "        if p > n:\n",
    "            return True\n",
    "        if binom_order(n, k, p) > 1:\n",
    "            return False\n",
    "    return True\n",
    "    \n",
    "    "
   ]
  },
  {
   "cell_type": "markdown",
   "metadata": {},
   "source": [
    "The exponent of a prime $p$ in the prime factorization of $n!$ is equal to $(n-s)/(p-1)$, where $s$ is the sum of the base-$p$ digits of $n$. This is a consequence of [Legendre's formula](https://en.wikipedia.org/wiki/Legendre%27s_formula). We can use this formula to calculate the exponent of $p$ in the prime factorization of a binomial coefficient."
   ]
  },
  {
   "cell_type": "code",
   "execution_count": 4,
   "metadata": {},
   "outputs": [],
   "source": [
    "def sum_of_digits(n, p):\n",
    "    return n if n < p else (n % p) + sum_of_digits(n // p, p)\n",
    "\n",
    "def fact_order(n, p):\n",
    "    return (n - sum_of_digits(n, p)) // (p - 1)\n",
    "\n",
    "def binom_order(n, k, p):\n",
    "    return fact_order(n, p) - fact_order(k, p) - fact_order(n-k, p)\n",
    "    "
   ]
  },
  {
   "cell_type": "code",
   "execution_count": 5,
   "metadata": {},
   "outputs": [
    {
     "name": "stdout",
     "output_type": "stream",
     "text": [
      "34029210557338\n"
     ]
    }
   ],
   "source": [
    "results = set()\n",
    "for n in range(N):\n",
    "    for k in range(n//2 + 1):\n",
    "        if squarefree_binom(n, k):\n",
    "            results.add(binom(n, k))\n",
    "print(sum(results))"
   ]
  }
 ],
 "metadata": {
  "kernelspec": {
   "display_name": "Python 3",
   "language": "python",
   "name": "python3"
  },
  "language_info": {
   "codemirror_mode": {
    "name": "ipython",
    "version": 3
   },
   "file_extension": ".py",
   "mimetype": "text/x-python",
   "name": "python",
   "nbconvert_exporter": "python",
   "pygments_lexer": "ipython3",
   "version": "3.6.2"
  }
 },
 "nbformat": 4,
 "nbformat_minor": 2
}
