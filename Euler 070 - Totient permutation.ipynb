{
 "cells": [
  {
   "cell_type": "markdown",
   "metadata": {},
   "source": [
    "Euler Problem 70\n",
    "================\n",
    "\n",
    "Euler's Totient function, φ(n) [sometimes called the phi function], is used to\n",
    "determine the number of positive numbers less than or equal to n which are\n",
    "relatively prime to n. For example, as 1, 2, 4, 5, 7, and 8, are all less than\n",
    "nine and relatively prime to nine, φ(9)=6. The number 1 is considered to be\n",
    "relatively prime to every positive number, so φ(1)=1.\n",
    "\n",
    "Interestingly, φ(87109)=79180, and it can be seen that 87109 is a permutation\n",
    "of 79180.\n",
    "\n",
    "Find the value of n, 1 < n < 10^7, for which φ(n) is a permutation of n and the\n",
    "ratio n/φ(n) produces a minimum."
   ]
  },
  {
   "cell_type": "code",
   "execution_count": 1,
   "metadata": {},
   "outputs": [
    {
     "name": "stdout",
     "output_type": "stream",
     "text": [
      "8319823\n"
     ]
    }
   ],
   "source": [
    "from sympy import sieve, primepi\n",
    "N = 10 ** 7\n",
    "n = int(N ** 0.5)\n",
    "min_ratio = 1.005\n",
    "best_n = None\n",
    "primes = list(sieve.primerange(1, N))\n",
    "pi = primepi(n)\n",
    "num_primes = len(primes)\n",
    "for i in range(pi, -1, -1):\n",
    "    p = primes[i]\n",
    "    ratio = p / (p - 1)\n",
    "    if ratio > min_ratio:\n",
    "        break\n",
    "    for j in range(i+1, num_primes):\n",
    "        q = primes[j]\n",
    "        n = p * q\n",
    "        if n > N:\n",
    "            break\n",
    "        if p / (p - 1) > min_ratio:\n",
    "            break\n",
    "        if sorted(str(n)) == sorted(str(n - p - q + 1)):\n",
    "            ratio = 1.0 * p * q / (p - 1) / (q - 1)\n",
    "            if ratio < min_ratio:\n",
    "                min_ratio = ratio\n",
    "                best_n = n\n",
    "print(best_n)"
   ]
  },
  {
   "cell_type": "markdown",
   "metadata": {},
   "source": [
    "**Discussion:** The ratio n/φ(n) is equal to the product of p/(p-1) for all distinct prime factors p of n.\n",
    "We may assume that n has no repeated factors.\n",
    "\n",
    "If n is prime then φ(n) = n - 1, so the digits of φ(n) cannot be a permutation of the digits of n.\n",
    "\n",
    "If n is the product of three or more prime factors, then its smallest prime factor is less than 200, so n/φ(n) > 1.005.\n",
    "\n",
    "Suppose that n is the product of two distinct prime factors p and q (p < q). Then n/φ(n) = p/(p-1) * q/(q-1). If the minimum value realized in this case is less than 1.005, then we have found the optimal value of n."
   ]
  }
 ],
 "metadata": {
  "kernelspec": {
   "display_name": "Python 3",
   "language": "python",
   "name": "python3"
  },
  "language_info": {
   "codemirror_mode": {
    "name": "ipython",
    "version": 3
   },
   "file_extension": ".py",
   "mimetype": "text/x-python",
   "name": "python",
   "nbconvert_exporter": "python",
   "pygments_lexer": "ipython3",
   "version": "3.6.2"
  }
 },
 "nbformat": 4,
 "nbformat_minor": 1
}
