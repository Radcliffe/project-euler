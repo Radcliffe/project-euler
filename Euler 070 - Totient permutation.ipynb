{
 "metadata": {
  "name": ""
 },
 "nbformat": 3,
 "nbformat_minor": 0,
 "worksheets": [
  {
   "cells": [
    {
     "cell_type": "markdown",
     "metadata": {},
     "source": [
      "Euler Problem 70\n",
      "================\n",
      "\n",
      "Euler's Totient function, \u03c6(n) [sometimes called the phi function], is used to\n",
      "determine the number of positive numbers less than or equal to n which are\n",
      "relatively prime to n. For example, as 1, 2, 4, 5, 7, and 8, are all less than\n",
      "nine and relatively prime to nine, \u03c6(9)=6. The number 1 is considered to be\n",
      "relatively prime to every positive number, so \u03c6(1)=1.\n",
      "\n",
      "Interestingly, \u03c6(87109)=79180, and it can be seen that 87109 is a permutation\n",
      "of 79180.\n",
      "\n",
      "Find the value of n, 1 < n < 10^7, for which \u03c6(n) is a permutation of n and the\n",
      "ratio n/\u03c6(n) produces a minimum."
     ]
    },
    {
     "cell_type": "code",
     "collapsed": false,
     "input": [
      "from sympy import sieve, primepi\n",
      "N = 10 ** 7\n",
      "n = int(N ** 0.5)\n",
      "min_ratio = 1.1\n",
      "best_n = None\n",
      "primes = list(sieve.primerange(1, N))\n",
      "pi = primepi(n)\n",
      "num_primes = len(primes)\n",
      "for i in xrange(pi, -1, -1):\n",
      "    p = primes[i]\n",
      "    # print '\\n\\n', p\n",
      "    ratio = 1.0 * p / (p - 1)\n",
      "    if ratio > min_ratio:\n",
      "        break\n",
      "    for j in xrange(i+1, num_primes):\n",
      "        q = primes[j]\n",
      "        # print q,\n",
      "        n = p * q\n",
      "        if n > N:\n",
      "            break\n",
      "        if 1.0 * p / (p - 1) > min_ratio:\n",
      "            break\n",
      "        if sorted(str(n)) == sorted(str(n - p - q + 1)):\n",
      "            ratio = 1.0 * p * q / (p - 1) / (q - 1)\n",
      "            if ratio < min_ratio:\n",
      "                min_ratio = ratio\n",
      "                best_n = n\n",
      "                # print n, ratio\n",
      "print best_n"
     ],
     "language": "python",
     "metadata": {},
     "outputs": [
      {
       "output_type": "stream",
       "stream": "stdout",
       "text": [
        "8319823\n"
       ]
      }
     ],
     "prompt_number": 1
    },
    {
     "cell_type": "markdown",
     "metadata": {},
     "source": [
      "**Discussion:** The ratio n/\u03c6(n) is equal to the product of p/(p-1) for all distinct prime factors p of n.\n",
      "We may assume that n has no repeated factors.\n",
      "\n",
      "If n is prime then \u03c6(n) = n - 1, so the digits of \u03c6(n) cannot be a permutation of the digits of n.\n",
      "\n",
      "If n is the product of three or more prime factors, then its smallest prime factor is less than 200, so n/\u03c6(n) > 1.005.\n",
      "\n",
      "Suppose that n is the product of two distinct prime factors p and q (p < q). Then n/\u03c6(n) = p/(p-1) * q/(q-1). If the minimum value realized in this case is less than 1.005, then we have found the optimal value of n."
     ]
    }
   ],
   "metadata": {}
  }
 ]
}