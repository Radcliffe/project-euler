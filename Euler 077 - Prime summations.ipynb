{
 "cells": [
  {
   "cell_type": "markdown",
   "metadata": {},
   "source": [
    "Euler Problem 77\n",
    "================\n",
    "\n",
    "It is possible to write ten as the sum of primes in exactly five different ways:\n",
    "\n",
    "    7 + 3\n",
    "    5 + 5\n",
    "    5 + 3 + 2\n",
    "    3 + 3 + 2 + 2\n",
    "    2 + 2 + 2 + 2 + 2\n",
    "\n",
    "What is the first value which can be written as the sum of primes in over five\n",
    "thousand different ways?   "
   ]
  },
  {
   "cell_type": "code",
   "execution_count": 1,
   "metadata": {},
   "outputs": [
    {
     "name": "stdout",
     "output_type": "stream",
     "text": [
      "71 5007\n"
     ]
    }
   ],
   "source": [
    "from sympy import sieve\n",
    "\n",
    "N = 200\n",
    "s = [0]*N\n",
    "s[0] = 1\n",
    "for p in sieve.primerange(1, N):\n",
    "    for k in range(N-1, 0, -1):\n",
    "        for i in range(k-p, -1, -p):\n",
    "            s[k] += s[i]\n",
    "for k in range(100):\n",
    "    if s[k] > 5000:\n",
    "        print(k, s[k])\n",
    "        break"
   ]
  },
  {
   "cell_type": "code",
   "execution_count": null,
   "metadata": {},
   "outputs": [],
   "source": []
  }
 ],
 "metadata": {
  "kernelspec": {
   "display_name": "Python 3",
   "language": "python",
   "name": "python3"
  },
  "language_info": {
   "codemirror_mode": {
    "name": "ipython",
    "version": 3
   },
   "file_extension": ".py",
   "mimetype": "text/x-python",
   "name": "python",
   "nbconvert_exporter": "python",
   "pygments_lexer": "ipython3",
   "version": "3.6.2"
  }
 },
 "nbformat": 4,
 "nbformat_minor": 1
}
