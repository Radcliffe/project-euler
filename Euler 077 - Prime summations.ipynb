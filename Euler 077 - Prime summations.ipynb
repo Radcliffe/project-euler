{
 "metadata": {
  "name": ""
 },
 "nbformat": 3,
 "nbformat_minor": 0,
 "worksheets": [
  {
   "cells": [
    {
     "cell_type": "markdown",
     "metadata": {},
     "source": [
      "Euler Problem 77\n",
      "================\n",
      "\n",
      "It is possible to write ten as the sum of primes in exactly five different ways:\n",
      "\n",
      "    7 + 3\n",
      "    5 + 5\n",
      "    5 + 3 + 2\n",
      "    3 + 3 + 2 + 2\n",
      "    2 + 2 + 2 + 2 + 2\n",
      "\n",
      "What is the first value which can be written as the sum of primes in over five\n",
      "thousand different ways?   "
     ]
    },
    {
     "cell_type": "code",
     "collapsed": false,
     "input": [
      "from sympy import sieve\n",
      "\n",
      "N = 200\n",
      "s = [0]*N\n",
      "s[0] = 1\n",
      "for p in sieve.primerange(1, N):\n",
      "    for k in xrange(N-1, 0, -1):\n",
      "        for i in xrange(k-p, -1, -p):\n",
      "            s[k] += s[i]\n",
      "for k in xrange(100):\n",
      "    if s[k] > 5000:\n",
      "        print k, s[k]\n",
      "        break"
     ],
     "language": "python",
     "metadata": {},
     "outputs": [
      {
       "output_type": "stream",
       "stream": "stdout",
       "text": [
        "71 5007\n"
       ]
      }
     ],
     "prompt_number": 1
    }
   ],
   "metadata": {}
  }
 ]
}