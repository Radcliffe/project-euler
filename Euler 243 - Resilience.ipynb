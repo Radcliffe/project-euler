{
 "cells": [
  {
   "cell_type": "markdown",
   "metadata": {},
   "source": [
    "# Euler Problem 243"
   ]
  },
  {
   "cell_type": "markdown",
   "metadata": {},
   "source": [
    "A positive fraction whose numerator is less than its denominator is called a proper fraction.\n",
    "For any denominator, d, there will be d−1 proper fractions; for example, with d = 12:\n",
    "1/12 , 2/12 , 3/12 , 4/12 , 5/12 , 6/12 , 7/12 , 8/12 , 9/12 , 10/12 , 11/12 .\n",
    "\n",
    "We shall call a fraction that cannot be cancelled down a resilient fraction.\n",
    "Furthermore we shall define the resilience of a denominator, R(d), to be the ratio of its proper fractions that are resilient; for example, R(12) = 4/11 .\n",
    "In fact, d = 12 is the smallest denominator having a resilience R(d) < 4/10 .\n",
    "\n",
    "Find the smallest denominator d, having a resilience R(d) < 15499/94744 ."
   ]
  },
  {
   "cell_type": "code",
   "execution_count": 1,
   "metadata": {},
   "outputs": [
    {
     "name": "stdout",
     "output_type": "stream",
     "text": [
      "892371480\n"
     ]
    }
   ],
   "source": [
    "import heapq\n",
    "from sympy import primerange\n",
    "smallprimes = list(primerange(1, 100))\n",
    "queue = []\n",
    "heapq.heappush(queue, (2, 1, 1))\n",
    "r = 1\n",
    "while queue and r >= 15499/94744:\n",
    "    n, i, phi = heapq.heappop(queue)\n",
    "    r = phi / (n - 1)\n",
    "    p, q = smallprimes[i-1:i+1]\n",
    "    heapq.heappush(queue, (p*n, i, p*phi))\n",
    "    heapq.heappush(queue, (q*n, i+1, (q-1)*phi))\n",
    "print(n)"
   ]
  },
  {
   "cell_type": "code",
   "execution_count": null,
   "metadata": {},
   "outputs": [],
   "source": []
  }
 ],
 "metadata": {
  "kernelspec": {
   "display_name": "Python 3",
   "language": "python",
   "name": "python3"
  },
  "language_info": {
   "codemirror_mode": {
    "name": "ipython",
    "version": 3
   },
   "file_extension": ".py",
   "mimetype": "text/x-python",
   "name": "python",
   "nbconvert_exporter": "python",
   "pygments_lexer": "ipython3",
   "version": "3.6.5"
  }
 },
 "nbformat": 4,
 "nbformat_minor": 2
}
