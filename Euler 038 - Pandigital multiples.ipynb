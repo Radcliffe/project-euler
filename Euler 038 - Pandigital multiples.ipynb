{
 "metadata": {
  "name": ""
 },
 "nbformat": 3,
 "nbformat_minor": 0,
 "worksheets": [
  {
   "cells": [
    {
     "cell_type": "markdown",
     "metadata": {},
     "source": [
      "Euler Problem 38\n",
      "================\n",
      "\n",
      "Take the number 192 and multiply it by each of 1, 2, and 3:\n",
      "\n",
      "    192 \u00d7 1 = 192\n",
      "    192 \u00d7 2 = 384\n",
      "    192 \u00d7 3 = 576\n",
      "    \n",
      "By concatenating each product we get the 1 to 9 pandigital, 192384576. We will call 192384576 the concatenated product of 192 and (1,2,3)\n",
      "\n",
      "The same can be achieved by starting with 9 and multiplying by 1, 2, 3, 4, and 5, giving the pandigital, 918273645, which is the concatenated product of 9 and (1,2,3,4,5).\n",
      "\n",
      "What is the largest 1 to 9 pandigital 9-digit number that can be formed as the concatenated product of an integer with (1,2, ... , n) where n > 1?"
     ]
    },
    {
     "cell_type": "code",
     "collapsed": false,
     "input": [
      "def pandigital(s):\n",
      "    return not('0' in s) and len(s) == len(set(s))\n",
      "\n",
      "record = 0\n",
      "for n in xrange(1, 100000):\n",
      "    s = str(n)\n",
      "    m = n\n",
      "    while pandigital(s):\n",
      "        record = max(record, int(s))\n",
      "        m += n\n",
      "        s += str(m)\n",
      "print record"
     ],
     "language": "python",
     "metadata": {},
     "outputs": [
      {
       "output_type": "stream",
       "stream": "stdout",
       "text": [
        "932718654\n"
       ]
      }
     ],
     "prompt_number": 1
    }
   ],
   "metadata": {}
  }
 ]
}