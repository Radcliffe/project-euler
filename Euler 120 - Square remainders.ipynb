{
 "cells": [
  {
   "cell_type": "markdown",
   "metadata": {},
   "source": [
    "# Euler Problem 120\n",
    "\n",
    "Let $r$ be the remainder when $(a−1)^n + (a+1)^n$ is divided by $a^2$.\n",
    "\n",
    "For example, if $a = 7$ and $n = 3$, then $r = 42$: \n",
    "$6^3 + 8^3 = 728 \\equiv 42 \\pmod{49}$.\n",
    "\n",
    "And as $n$ varies, so too will $r$, but for $a = 7$ it turns out that $r_{max} = 42$.\n",
    "\n",
    "For $3 \\le a \\le 1000$, find $\\sum r_{max}$."
   ]
  },
  {
   "cell_type": "code",
   "execution_count": 1,
   "metadata": {},
   "outputs": [
    {
     "name": "stdout",
     "output_type": "stream",
     "text": [
      "333082500\n"
     ]
    }
   ],
   "source": [
    "def rmax(a):\n",
    "    t1 = t2 = 1\n",
    "    aa = a*a\n",
    "    Table = {(1,1):1}\n",
    "    rm = 2 % aa\n",
    "    while 1:\n",
    "        t1 = ((a-1)*t1) % aa\n",
    "        t2 = ((a+1)*t2) % aa\n",
    "        rm = max(rm, (t1+t2)%aa)\n",
    "        if (t1, t2) in Table:\n",
    "            return rm\n",
    "        Table[(t1,t2)] = 1\n",
    "\n",
    "print(sum(rmax(a) for a in range(3,1001)))"
   ]
  }
 ],
 "metadata": {
  "kernelspec": {
   "display_name": "Python 3",
   "language": "python",
   "name": "python3"
  },
  "language_info": {
   "codemirror_mode": {
    "name": "ipython",
    "version": 3
   },
   "file_extension": ".py",
   "mimetype": "text/x-python",
   "name": "python",
   "nbconvert_exporter": "python",
   "pygments_lexer": "ipython3",
   "version": "3.6.8"
  }
 },
 "nbformat": 4,
 "nbformat_minor": 2
}
