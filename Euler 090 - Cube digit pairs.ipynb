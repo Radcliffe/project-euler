{
 "metadata": {
  "name": ""
 },
 "nbformat": 3,
 "nbformat_minor": 0,
 "worksheets": [
  {
   "cells": [
    {
     "cell_type": "markdown",
     "metadata": {},
     "source": [
      "Euler Problem 90\n",
      "================\n",
      "\n",
      "Each of the six faces on a cube has a different digit (0 to 9) written on it; the same is done to a second cube. By placing the two cubes side-by-side in different positions we can form a variety of 2-digit numbers.\n",
      "\n",
      "\n",
      "In fact, by carefully choosing the digits on both cubes it is possible to display all of the square numbers below one-hundred: 01, 04, 09, 16, 25, 36, 49, 64, and 81.\n",
      "\n",
      "For example, one way this can be achieved is by placing {0, 5, 6, 7, 8, 9} on one cube and {1, 2, 3, 4, 8, 9} on the other cube.\n",
      "\n",
      "However, for this problem we shall allow the 6 or 9 to be turned upside-down so that an arrangement like {0, 5, 6, 7, 8, 9} and {1, 2, 3, 4, 6, 7} allows for all nine square numbers to be displayed; otherwise it would be impossible to obtain 09.\n",
      "\n",
      "In determining a distinct arrangement we are interested in the digits on each cube, not the order.\n",
      "\n",
      "{1, 2, 3, 4, 5, 6} is equivalent to {3, 6, 4, 1, 2, 5}\n",
      "{1, 2, 3, 4, 5, 6} is distinct from {1, 2, 3, 4, 5, 9}\n",
      "\n",
      "But because we are allowing 6 and 9 to be reversed, the two distinct sets in the last example both represent the extended set {1, 2, 3, 4, 5, 6, 9} for the purpose of forming 2-digit numbers.\n",
      "\n",
      "How many distinct arrangements of the two cubes allow for all of the square numbers to be displayed?"
     ]
    },
    {
     "cell_type": "code",
     "collapsed": false,
     "input": [
      "from itertools import combinations\n",
      "count = 210 * 209 / 2\n",
      "for cube1, cube2 in combinations(combinations([0,1,2,3,4,5,6,6,7,8], 6), 2):\n",
      "    for (a, b) in ((0, 1), (0, 4), (0, 6), (1, 6), (2, 5), (3, 6), (4, 6), (8, 1)):\n",
      "        if not((a in cube1 and b in cube2) or (a in cube2 and b in cube1)):\n",
      "            count -= 1\n",
      "            break\n",
      "print count"
     ],
     "language": "python",
     "metadata": {},
     "outputs": [
      {
       "output_type": "stream",
       "stream": "stdout",
       "text": [
        "1217\n"
       ]
      }
     ],
     "prompt_number": 1
    }
   ],
   "metadata": {}
  }
 ]
}