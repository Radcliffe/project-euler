{
 "metadata": {
  "name": ""
 },
 "nbformat": 3,
 "nbformat_minor": 0,
 "worksheets": [
  {
   "cells": [
    {
     "cell_type": "code",
     "collapsed": false,
     "input": [
      "# Newton's method for integer square roots\n",
      "# http://stackoverflow.com/questions/15390807/integer-square-root-in-python\n",
      "def isqrt(n):\n",
      "    x = n\n",
      "    y = (x + 1) // 2\n",
      "    while y < x:\n",
      "        x = y\n",
      "        y = (x + n // x) // 2\n",
      "    return x\n",
      "\n",
      "def f(n):\n",
      "    m = n\n",
      "    e = 198\n",
      "    while m >= 100:\n",
      "        m /= 100\n",
      "        e -= 2\n",
      "    return sum(map(int, str(isqrt(n * 10**e))))\n",
      "\n",
      "print sum(f(n) for n in xrange(2, 100) if isqrt(n) ** 2 != n)"
     ],
     "language": "python",
     "metadata": {},
     "outputs": [
      {
       "output_type": "stream",
       "stream": "stdout",
       "text": [
        "40886\n"
       ]
      }
     ],
     "prompt_number": 1
    }
   ],
   "metadata": {}
  }
 ]
}