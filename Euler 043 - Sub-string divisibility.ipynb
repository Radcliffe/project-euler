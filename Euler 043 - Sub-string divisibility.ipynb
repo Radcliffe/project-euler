{
 "metadata": {
  "name": ""
 },
 "nbformat": 3,
 "nbformat_minor": 0,
 "worksheets": [
  {
   "cells": [
    {
     "cell_type": "markdown",
     "metadata": {},
     "source": [
      "Euler Problem 43\n",
      "================\n",
      "\n",
      "The number 1406357289 is a 0 to 9 pandigital number because it is made up of each of the digits 0 to 9 in some order, but it also has a rather interesting sub-string divisibility property.\n",
      "\n",
      "Let $d_1$ be the 1st digit, $d_2$ be the 2nd digit, and so on. In this way, we note the following:\n",
      "\n",
      "+ $d_2d_3d_4=406$ is divisible by 2\n",
      "+ $d_3d_4d_5=063$ is divisible by 3\n",
      "+ $d_4d_5d_6=635$ is divisible by 5\n",
      "+ $d_5d_6d_7=357$ is divisible by 7\n",
      "+ $d_6d_7d_8=572$ is divisible by 11\n",
      "+ $d_7d_8d_9=728$ is divisible by 13\n",
      "+ $d_8d_9d_{10}=289$ is divisible by 17\n",
      "\n",
      "Find the sum of all 0 to 9 pandigital numbers with this property."
     ]
    }
   ],
   "metadata": {}
  }
 ]
}