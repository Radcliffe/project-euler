{
 "metadata": {
  "name": ""
 },
 "nbformat": 3,
 "nbformat_minor": 0,
 "worksheets": [
  {
   "cells": [
    {
     "cell_type": "markdown",
     "metadata": {},
     "source": [
      "Euler Problem 43\n",
      "================\n",
      "\n",
      "The number 1406357289 is a 0 to 9 pandigital number because it is made up of each of the digits 0 to 9 in some order, but it also has a rather interesting sub-string divisibility property.\n",
      "\n",
      "Let $d_1$ be the 1st digit, $d_2$ be the 2nd digit, and so on. In this way, we note the following:\n",
      "\n",
      "+ $d_2d_3d_4=406$ is divisible by 2\n",
      "+ $d_3d_4d_5=063$ is divisible by 3\n",
      "+ $d_4d_5d_6=635$ is divisible by 5\n",
      "+ $d_5d_6d_7=357$ is divisible by 7\n",
      "+ $d_6d_7d_8=572$ is divisible by 11\n",
      "+ $d_7d_8d_9=728$ is divisible by 13\n",
      "+ $d_8d_9d_{10}=289$ is divisible by 17\n",
      "\n",
      "Find the sum of all 0 to 9 pandigital numbers with this property."
     ]
    },
    {
     "cell_type": "code",
     "collapsed": false,
     "input": [
      "def f(v = (), len_v = 0):\n",
      "    primes = [2, 3, 5, 7, 11, 13, 17]\n",
      "    if len_v == 0 or (not(v[-1] in v[:-1]) and (len_v < 4 or (v[-3]*100 + v[-2]*10 + v[-1]) % primes[len(v)-4] == 0)):\n",
      "        if len_v == 10:\n",
      "            yield v\n",
      "        else:\n",
      "            for d in xrange(10):\n",
      "                for w in f(v+(d,), len_v + 1):\n",
      "                    yield w\n",
      "\n",
      "print sum(sum(v[i]*10**(9-i) for i in range(10)) for v in f())"
     ],
     "language": "python",
     "metadata": {},
     "outputs": [
      {
       "output_type": "stream",
       "stream": "stdout",
       "text": [
        "16695334890\n"
       ]
      }
     ],
     "prompt_number": 1
    }
   ],
   "metadata": {}
  }
 ]
}