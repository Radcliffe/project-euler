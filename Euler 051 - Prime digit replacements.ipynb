{
 "metadata": {
  "name": ""
 },
 "nbformat": 3,
 "nbformat_minor": 0,
 "worksheets": [
  {
   "cells": [
    {
     "cell_type": "markdown",
     "metadata": {},
     "source": [
      "Euler Problem 51\n",
      "================\n",
      "\n",
      "By replacing the 1st digit of the 2-digit number \\*3, it turns out that six of the nine possible values: 13, 23, 43, 53, 73, and 83, are all prime.\n",
      "\n",
      "By replacing the 3rd and 4th digits of 56\\*\\*3 with the same digit, this 5-digit number is the first example having seven primes among the ten generated numbers, yielding the family: 56003, 56113, 56333, 56443, 56663, 56773, and 56993. Consequently 56003, being the first member of this family, is the smallest prime with this property.\n",
      "\n",
      "Find the smallest prime which, by replacing part of the number (not necessarily adjacent digits) with the same digit, is part of an eight prime value family."
     ]
    },
    {
     "cell_type": "code",
     "collapsed": false,
     "input": [
      "from sympy import sieve\n",
      "from itertools import combinations, product\n",
      "\n",
      "primes = set(sieve.primerange(10**5, 10**6))\n",
      "powers = [10, 100, 1000, 10000, 100000]\n",
      "smallest_prime = 999999\n",
      "\n",
      "for i in [1,2,3,4]:\n",
      "    for j in xrange(i):\n",
      "        pattern = 111110 - powers[i] - powers[j]\n",
      "        for a in xrange(10):\n",
      "            for b in xrange(10):\n",
      "                for c in [1, 3, 7, 9]:\n",
      "                    current_prime = 0\n",
      "                    strikes = 0\n",
      "                    N = a*powers[i] + b*powers[j] + c\n",
      "                    for k in xrange(10):\n",
      "                        if N > smallest_prime:\n",
      "                            break\n",
      "                        if not (N in primes):\n",
      "                            strikes += 1\n",
      "                            if strikes > 2:\n",
      "                                break\n",
      "                        elif current_prime == 0:\n",
      "                            current_prime = N\n",
      "                        N += pattern\n",
      "                    else:\n",
      "                        print current_prime\n",
      "                        smallest_prime = min(smallest_prime, current_prime)"
     ],
     "language": "python",
     "metadata": {},
     "outputs": [
      {
       "output_type": "stream",
       "stream": "stdout",
       "text": [
        "121313\n"
       ]
      }
     ],
     "prompt_number": 1
    },
    {
     "cell_type": "markdown",
     "metadata": {},
     "source": [
      "**Explanation:** We search for examples with up to six digits. The number of asterisks must be a multiple of 3,\n",
      "since otherwise at least two of the numbers obtained by replacing the asterisks with a digit will be divisible by 3.\n",
      "For example, the pattern 56\\*\\*3 generates the 10 numbers {56003, 56113, 56223, ..., 56993}, and three of these numbers\n",
      "are divisible by 3 (56223, 56553, and 56883). Clearly the last digit in the pattern cannot be an asterisk, since a prime\n",
      "greater than 5 can end only in 1, 3, 7, or 9.\n",
      "\n",
      "In the code, `pattern` is a six-digit number with three 0s and three 1s, such as `110100`. The ones indicate the positions of the asterisks, and the zeros indicate positions where other digits `a`, `b`, `c` can be placed. For example, if `pattern = 110100`, `a = 5`, `b = 6`, and `c = 7`, then the candidate primes are 005067, 115167, 225267, ..., 995967. We search for examples of this sort in which 8 out of the 10 candidates are prime.\n"
     ]
    }
   ],
   "metadata": {}
  }
 ]
}