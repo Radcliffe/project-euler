{
 "metadata": {
  "name": ""
 },
 "nbformat": 3,
 "nbformat_minor": 0,
 "worksheets": [
  {
   "cells": [
    {
     "cell_type": "markdown",
     "metadata": {},
     "source": [
      "Euler Problem 6\n",
      "===============\n",
      "\n",
      "The sum of the squares of the first ten natural numbers is\n",
      "\n",
      "$$1^2 + 2^2 + \\cdots + 10^2 = 385.$$\n",
      "\n",
      "The square of the sum of the first ten natural numbers is\n",
      "\n",
      "$$(1 + 2 + ... + 10)^2 = 55^2 = 3025.$$\n",
      "\n",
      "Hence the difference between the sum of the squares of the first ten natural numbers and the square of the sum is $3025 - 385 = 2640$.\n",
      "\n",
      "Find the difference between the sum of the squares of the first one hundred natural numbers and the square of the sum."
     ]
    },
    {
     "cell_type": "code",
     "collapsed": false,
     "input": [
      "N = 100\n",
      "print sum(xrange(1,N+1))**2 - sum(k**2 for k in xrange(1, N+1))"
     ],
     "language": "python",
     "metadata": {},
     "outputs": [
      {
       "output_type": "stream",
       "stream": "stdout",
       "text": [
        "25164150\n"
       ]
      }
     ],
     "prompt_number": 1
    },
    {
     "cell_type": "markdown",
     "metadata": {},
     "source": [
      "The answer can be computed more efficiently using the formulas $\\sum_{k=1}^n k = \\frac12 n(n+1)$ and \n",
      "$\\sum_{k=1}^n k^2 = \\frac16 n(n+1)(2n+1)$.\n"
     ]
    },
    {
     "cell_type": "code",
     "collapsed": false,
     "input": [
      "print (N*(N+1)/2)**2 - N*(N+1)*(2*N+1)/6"
     ],
     "language": "python",
     "metadata": {},
     "outputs": [
      {
       "output_type": "stream",
       "stream": "stdout",
       "text": [
        "25164150\n"
       ]
      }
     ],
     "prompt_number": 2
    },
    {
     "cell_type": "code",
     "collapsed": false,
     "input": [],
     "language": "python",
     "metadata": {},
     "outputs": []
    }
   ],
   "metadata": {}
  }
 ]
}