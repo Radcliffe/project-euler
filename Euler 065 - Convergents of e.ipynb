{
 "cells": [
  {
   "cell_type": "markdown",
   "metadata": {},
   "source": [
    "Euler Problem 65\n",
    "================\n",
    "\n",
    "The square root of 2 can be written as an infinite continued fraction.\n",
    "\n",
    "√2 = 1 + 1/(2 + 1/(2 + 1/(2 + 1/(2 + ...\n",
    "\n",
    "The infinite continued fraction can be written, √2 = [1;(2)], (2) indicates\n",
    "that 2 repeats ad infinitum. In a similar way, √23 = [4;(1,3,1,8)].\n",
    "\n",
    "It turns out that the sequence of partial values of continued fractions for\n",
    "square roots provide the best rational approximations. Let us consider the\n",
    "convergents for √2.\n",
    "\n",
    "    1 + 1/2 = 3/2 \n",
    "    1 + 1/(2 + 1/2) = 7/5\n",
    "    1 + 1/(2 + 1/(2 + 1/2)) = 17/12\n",
    "    1 + 1/(1 + 1/(2 + 1/(2 + 1/2))) = 41/29\n",
    "\n",
    "Hence the sequence of the first ten convergents for √2 are:\n",
    "    1, 3/2, 7/5, 17/12, 41/29, 99/70, 239/169, 577/408, 1393/985, 3363/2378, ...\n",
    "\n",
    "What is most surprising is that the important mathematical constant,\n",
    "    e = [2; 1,2,1, 1,4,1, 1,6,1 , ... , 1,2k,1, ...].\n",
    "\n",
    "The first ten terms in the sequence of convergents for e are:\n",
    "    2, 3, 8/3, 11/4, 19/7, 87/32, 106/39, 193/71, 1264/465, 1457/536, ...\n",
    "\n",
    "The sum of digits in the numerator of the 10th convergent is 1+4+5+7=17.\n",
    "\n",
    "Find the sum of digits in the numerator of the 100th convergent of the\n",
    "continued fraction for e."
   ]
  },
  {
   "cell_type": "code",
   "execution_count": 1,
   "metadata": {},
   "outputs": [
    {
     "name": "stdout",
     "output_type": "stream",
     "text": [
      "272\n"
     ]
    }
   ],
   "source": [
    "def convergent(L):\n",
    "    a = L[0]\n",
    "    if len(L) == 1:\n",
    "        return (a,1)\n",
    "    x,y = convergent(L[1:])\n",
    "    return (a*x+y, x)\n",
    "\n",
    "L = [2]\n",
    "for i in range(1,34):\n",
    "    L.extend([1,2*i,1])\n",
    "ans = convergent(L)[0]\n",
    "print(sum(map(int,str(ans))))"
   ]
  },
  {
   "cell_type": "code",
   "execution_count": null,
   "metadata": {},
   "outputs": [],
   "source": []
  }
 ],
 "metadata": {
  "kernelspec": {
   "display_name": "Python 3",
   "language": "python",
   "name": "python3"
  },
  "language_info": {
   "codemirror_mode": {
    "name": "ipython",
    "version": 3
   },
   "file_extension": ".py",
   "mimetype": "text/x-python",
   "name": "python",
   "nbconvert_exporter": "python",
   "pygments_lexer": "ipython3",
   "version": "3.6.2"
  }
 },
 "nbformat": 4,
 "nbformat_minor": 1
}
