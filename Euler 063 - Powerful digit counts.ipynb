{
 "metadata": {
  "name": ""
 },
 "nbformat": 3,
 "nbformat_minor": 0,
 "worksheets": [
  {
   "cells": [
    {
     "cell_type": "markdown",
     "metadata": {},
     "source": [
      "Euler Problem 63\n",
      "================\n",
      "\n",
      "The 5-digit number, 16807=7<sup>5</sup>, is also a fifth power. Similarly, the 9-digit number, 134217728=8<sup>9</sup>, is a ninth power.\n",
      "\n",
      "How many n-digit positive integers exist which are also an nth power?\n"
     ]
    },
    {
     "cell_type": "code",
     "collapsed": false,
     "input": [
      "print 9 + sum(9 - int(10**(1-1.0/n)) for n in xrange(2, 22))"
     ],
     "language": "python",
     "metadata": {},
     "outputs": [
      {
       "output_type": "stream",
       "stream": "stdout",
       "text": [
        "49\n"
       ]
      }
     ],
     "prompt_number": 1
    },
    {
     "cell_type": "markdown",
     "metadata": {},
     "source": [
      "**Explanation:** The one-digit numbers from 1 to 9 are first powers. Assume that $n \\ge 2$.\n",
      "\n",
      "We wish to count the solutions to $10^{n-1} \\le k^n < 10^n$ where $k, n \\ge 2$.\n",
      "This equation is equivalent to $10^{1-1/n} \\le k \\le 9$."
     ]
    }
   ],
   "metadata": {}
  }
 ]
}