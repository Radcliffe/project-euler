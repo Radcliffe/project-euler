{
 "cells": [
  {
   "cell_type": "markdown",
   "metadata": {},
   "source": [
    "# Euler Problem 357\n",
    "\n",
    "Consider the divisors of 30: 1,2,3,5,6,10,15,30.\n",
    "\n",
    "It can be seen that for every divisor $d$ of 30, $d+30/d$ is prime.\n",
    "\n",
    "Find the sum of all positive integers $n$ not exceeding 100 000 000\n",
    "such that for every divisor $d$ of $n$, $d+n/d$ is prime."
   ]
  },
  {
   "cell_type": "code",
   "execution_count": 1,
   "metadata": {},
   "outputs": [
    {
     "name": "stdout",
     "output_type": "stream",
     "text": [
      "1739023853137\n"
     ]
    }
   ],
   "source": [
    "import primesieve\n",
    "import numpy as np\n",
    "\n",
    "N = 10**8\n",
    "M = int(N**0.5)\n",
    "\n",
    "arr = np.zeros((N + 1), dtype=bool)\n",
    "\n",
    "primes = set(primesieve.primes(N+1))\n",
    "\n",
    "for d in range(1, M + 1):\n",
    "    for e in range(d, N // d + 1):\n",
    "        if (d + e) not in primes:\n",
    "            arr[d * e] = 1\n",
    "\n",
    "print(sum(n for n in range(N + 1) if arr[n] == 0))"
   ]
  },
  {
   "cell_type": "markdown",
   "metadata": {},
   "source": [
    "*Note:* This program runs for over nine minutes on my machine, so I should probably find a more efficient algorithm."
   ]
  },
  {
   "cell_type": "code",
   "execution_count": null,
   "metadata": {},
   "outputs": [],
   "source": []
  }
 ],
 "metadata": {
  "kernelspec": {
   "display_name": "Python 3",
   "language": "python",
   "name": "python3"
  },
  "language_info": {
   "codemirror_mode": {
    "name": "ipython",
    "version": 3
   },
   "file_extension": ".py",
   "mimetype": "text/x-python",
   "name": "python",
   "nbconvert_exporter": "python",
   "pygments_lexer": "ipython3",
   "version": "3.6.2"
  }
 },
 "nbformat": 4,
 "nbformat_minor": 2
}
