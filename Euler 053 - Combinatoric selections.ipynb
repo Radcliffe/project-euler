{
 "cells": [
  {
   "cell_type": "markdown",
   "metadata": {},
   "source": [
    "Euler Problem 53\n",
    "================\n",
    "\n",
    "There are exactly ten ways of selecting three from five, 12345:\n",
    "\n",
    "    123, 124, 125, 134, 135, 145, 234, 235, 245, and 345\n",
    "\n",
    "In combinatorics, we use the notation ${}^5C_3 = 10$.\n",
    "\n",
    "In general,\n",
    "\n",
    "$\\displaystyle {}^nC_r = \\frac{n!}{r!(n−r)!}$, where $r \\le n$, $n! = n\\times(n−1)×\\cdots×3×2×1$, and $0! = 1$.\n",
    "It is not until $n = 23$, that a value exceeds one million: ${}^{23}C_{10} = 1144066$.\n",
    "\n",
    "How many, not necessarily distinct, values of  ${}^nC_r$, for $1 \\le n \\le 100$, are greater than one million?"
   ]
  },
  {
   "cell_type": "code",
   "execution_count": 2,
   "metadata": {},
   "outputs": [
    {
     "name": "stdout",
     "output_type": "stream",
     "text": [
      "4075\n"
     ]
    }
   ],
   "source": [
    "n, r, C = 23, 9, 817190\n",
    "total = 4\n",
    "while n < 100:\n",
    "    n += 1\n",
    "    C = (C * n) // (n - r)\n",
    "    while C <= 1000000:\n",
    "        C1 = C * (n-r) // (r+1)\n",
    "        if C1 <= 1000000:\n",
    "            C = C1\n",
    "        else:\n",
    "            break\n",
    "    while C > 1000000:\n",
    "        C = (C * r) // (n - r + 1)\n",
    "        r -= 1\n",
    "    total += (n - 2*r - 1)\n",
    "print(total)\n"
   ]
  },
  {
   "cell_type": "markdown",
   "metadata": {},
   "source": [
    "**Explanation:** For each n we find the value of r that satisfies C(n, r) <= 10^6 < C(n, r+1). We search through Pascal's triangle moving one step at a time.\n"
   ]
  }
 ],
 "metadata": {
  "kernelspec": {
   "display_name": "Python 3",
   "language": "python",
   "name": "python3"
  },
  "language_info": {
   "codemirror_mode": {
    "name": "ipython",
    "version": 3
   },
   "file_extension": ".py",
   "mimetype": "text/x-python",
   "name": "python",
   "nbconvert_exporter": "python",
   "pygments_lexer": "ipython3",
   "version": "3.6.2"
  }
 },
 "nbformat": 4,
 "nbformat_minor": 1
}
