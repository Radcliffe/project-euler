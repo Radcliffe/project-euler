{
 "metadata": {
  "name": ""
 },
 "nbformat": 3,
 "nbformat_minor": 0,
 "worksheets": [
  {
   "cells": [
    {
     "cell_type": "markdown",
     "metadata": {},
     "source": [
      "Euler Problem 53\n",
      "================\n",
      "\n",
      "There are exactly ten ways of selecting three from five, 12345:\n",
      "\n",
      "    123, 124, 125, 134, 135, 145, 234, 235, 245, and 345\n",
      "\n",
      "In combinatorics, we use the notation ${}^5C_3 = 10$.\n",
      "\n",
      "In general,\n",
      "\n",
      "$\\displaystyle {}^nC_r = \\frac{n!}{r!(n\u2212r)!}$, where $r \\le n$, $n! = n\\times(n\u22121)\u00d7\\cdots\u00d73\u00d72\u00d71$, and $0! = 1$.\n",
      "It is not until $n = 23$, that a value exceeds one million: ${}^{23}C_{10} = 1144066$.\n",
      "\n",
      "How many, not necessarily distinct, values of  ${}^nC_r$, for $1 \\le n \\le 100$, are greater than one million?"
     ]
    },
    {
     "cell_type": "code",
     "collapsed": false,
     "input": [
      "n, r, C = 23, 9, 817190\n",
      "total = 4\n",
      "while n < 100:\n",
      "    n += 1\n",
      "    C = (C * n) / (n - r)\n",
      "    while C <= 1000000:\n",
      "        C1 = C * (n-r) / (r+1)\n",
      "        if C1 <= 1000000:\n",
      "            C = C1\n",
      "        else:\n",
      "            break\n",
      "    while C > 1000000:\n",
      "        C = (C * r) / (n - r + 1)\n",
      "        r -= 1\n",
      "    total += (n - 2*r - 1)\n",
      "print total\n"
     ],
     "language": "python",
     "metadata": {},
     "outputs": [
      {
       "output_type": "stream",
       "stream": "stdout",
       "text": [
        "4075\n"
       ]
      }
     ],
     "prompt_number": 15
    },
    {
     "cell_type": "markdown",
     "metadata": {},
     "source": [
      "**Explanation:** For each n we find the value of r that satisfies C(n, r) <= 10^6 < C(n, r+1). We search through Pascal's triangle moving one step at a time.\n"
     ]
    }
   ],
   "metadata": {}
  }
 ]
}