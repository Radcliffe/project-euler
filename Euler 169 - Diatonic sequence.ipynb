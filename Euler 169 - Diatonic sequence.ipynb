{
 "metadata": {
  "name": ""
 },
 "nbformat": 3,
 "nbformat_minor": 0,
 "worksheets": [
  {
   "cells": [
    {
     "cell_type": "markdown",
     "metadata": {},
     "source": [
      "Euler Problem 169\n",
      "=================\n",
      "\n",
      "Define f(0)=1 and f(n) to be the number of different ways n can be expressed as a sum of integer powers of 2 using each power no more than twice.\n",
      "\n",
      "For example, f(10)=5 since there are five different ways to express 10:\n",
      "\n",
      "1 + 1 + 8\n",
      "1 + 1 + 4 + 4\n",
      "1 + 1 + 2 + 2 + 4\n",
      "2 + 4 + 4\n",
      "2 + 8\n",
      "\n",
      "What is f(10^25)?\n"
     ]
    },
    {
     "cell_type": "code",
     "collapsed": false,
     "input": [
      "F = {}\n",
      "F[0] = F[1] = 1\n",
      "def f(n):\n",
      "    if n in F:\n",
      "        return F[n]\n",
      "    if (n % 2):\n",
      "        val = f(n/2)\n",
      "    else:\n",
      "        val = f(n/2) + f(n/2-1)\n",
      "    F[n] = val\n",
      "    return val\n",
      "\n",
      "print f(10**25)"
     ],
     "language": "python",
     "metadata": {},
     "outputs": [
      {
       "output_type": "stream",
       "stream": "stdout",
       "text": [
        "178653872807\n"
       ]
      }
     ],
     "prompt_number": 1
    }
   ],
   "metadata": {}
  }
 ]
}