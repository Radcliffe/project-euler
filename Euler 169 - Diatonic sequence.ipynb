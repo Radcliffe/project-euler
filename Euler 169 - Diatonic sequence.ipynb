{
 "cells": [
  {
   "cell_type": "markdown",
   "metadata": {},
   "source": [
    "Euler Problem 169\n",
    "=================\n",
    "\n",
    "Define f(0)=1 and f(n) to be the number of different ways n can be expressed as a sum of integer powers of 2 using each power no more than twice.\n",
    "\n",
    "For example, f(10)=5 since there are five different ways to express 10:\n",
    "\n",
    "    1 + 1 + 8\n",
    "    1 + 1 + 4 + 4\n",
    "    1 + 1 + 2 + 2 + 4\n",
    "    2 + 4 + 4\n",
    "    2 + 8\n",
    "\n",
    "What is f(10<sup>25</sup>)?\n"
   ]
  },
  {
   "cell_type": "code",
   "execution_count": 1,
   "metadata": {},
   "outputs": [
    {
     "name": "stdout",
     "output_type": "stream",
     "text": [
      "178653872807\n"
     ]
    }
   ],
   "source": [
    "F = {}\n",
    "F[0] = F[1] = 1\n",
    "def f(n):\n",
    "    if n in F:\n",
    "        return F[n]\n",
    "    if (n % 2):\n",
    "        val = f(n//2)\n",
    "    else:\n",
    "        val = f(n//2) + f(n//2-1)\n",
    "    F[n] = val\n",
    "    return val\n",
    "\n",
    "print(f(10**25))"
   ]
  },
  {
   "cell_type": "code",
   "execution_count": null,
   "metadata": {},
   "outputs": [],
   "source": []
  }
 ],
 "metadata": {
  "kernelspec": {
   "display_name": "Python 3",
   "language": "python",
   "name": "python3"
  },
  "language_info": {
   "codemirror_mode": {
    "name": "ipython",
    "version": 3
   },
   "file_extension": ".py",
   "mimetype": "text/x-python",
   "name": "python",
   "nbconvert_exporter": "python",
   "pygments_lexer": "ipython3",
   "version": "3.6.2"
  }
 },
 "nbformat": 4,
 "nbformat_minor": 1
}
