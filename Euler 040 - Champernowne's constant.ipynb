{
 "metadata": {
  "name": ""
 },
 "nbformat": 3,
 "nbformat_minor": 0,
 "worksheets": [
  {
   "cells": [
    {
     "cell_type": "markdown",
     "metadata": {},
     "source": [
      "Euler Problem 40\n",
      "================\n",
      "\n",
      "An irrational decimal fraction is created by concatenating the positive integers:\n",
      "\n",
      "    0.123456789101112131415161718192021...\n",
      "\n",
      "It can be seen that the 12th digit of the fractional part is 1.\n",
      "\n",
      "If $d_n$ represents the nth digit of the fractional part, find the value of the following expression.\n",
      "\n",
      "$$d_1 \\times d_{10} \\times d_{100} \\times d_{1000} \\times d_{10000} \\times d_{100000} \\times d_{1000000}$$"
     ]
    },
    {
     "cell_type": "code",
     "collapsed": false,
     "input": [
      "def champernowne_digit(n):\n",
      "    digits = 1\n",
      "    power = 1\n",
      "    while n > 9 * digits * power:\n",
      "        n -= 9 * digits * power\n",
      "        digits += 1\n",
      "        power *= 10\n",
      "    return int(str(power+(n-1)/digits)[(n-1)%digits])\n",
      "        \n",
      "print reduce(lambda x,y: x*y, [champernowne_digit(10**k) for k in xrange(7)])"
     ],
     "language": "python",
     "metadata": {},
     "outputs": [
      {
       "output_type": "stream",
       "stream": "stdout",
       "text": [
        "210\n"
       ]
      }
     ],
     "prompt_number": 1
    }
   ],
   "metadata": {}
  }
 ]
}