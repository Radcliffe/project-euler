{
 "cells": [
  {
   "cell_type": "markdown",
   "metadata": {},
   "source": [
    "Euler Problem 49\n",
    "================\n",
    "\n",
    "The arithmetic sequence, 1487, 4817, 8147, in which each of the terms increases by 3330, is unusual in two ways: \n",
    "    - each of the three terms are prime, and,\n",
    "    - each of the 4-digit numbers are permutations of one another.\n",
    "\n",
    "There are no arithmetic sequences made up of three 1-, 2-, or 3-digit primes, exhibiting this property, but there is one other 4-digit increasing sequence.\n",
    "\n",
    "What 12-digit number do you form by concatenating the three terms in this sequence?"
   ]
  },
  {
   "cell_type": "code",
   "execution_count": 1,
   "metadata": {},
   "outputs": [
    {
     "name": "stdout",
     "output_type": "stream",
     "text": [
      "148748178147\n",
      "296962999629\n"
     ]
    }
   ],
   "source": [
    "from sympy import isprime\n",
    "from collections import defaultdict\n",
    "from itertools import combinations\n",
    "\n",
    "primes = defaultdict(list)\n",
    "for n in range(1001, 10000, 2):\n",
    "    if isprime(n):\n",
    "        key = ''.join(sorted(str(n)))\n",
    "        primes[key].append(n)\n",
    "for key in primes:\n",
    "    for p, q in combinations(primes[key], 2):\n",
    "        r = q + (q - p)\n",
    "        if r in primes[key]:\n",
    "            print(f'{p}{q}{r}')\n",
    "            break"
   ]
  },
  {
   "cell_type": "code",
   "execution_count": null,
   "metadata": {},
   "outputs": [],
   "source": []
  }
 ],
 "metadata": {
  "kernelspec": {
   "display_name": "Python 3",
   "language": "python",
   "name": "python3"
  },
  "language_info": {
   "codemirror_mode": {
    "name": "ipython",
    "version": 3
   },
   "file_extension": ".py",
   "mimetype": "text/x-python",
   "name": "python",
   "nbconvert_exporter": "python",
   "pygments_lexer": "ipython3",
   "version": "3.6.2"
  }
 },
 "nbformat": 4,
 "nbformat_minor": 1
}
