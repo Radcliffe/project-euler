{
 "metadata": {
  "name": ""
 },
 "nbformat": 3,
 "nbformat_minor": 0,
 "worksheets": [
  {
   "cells": [
    {
     "cell_type": "markdown",
     "metadata": {},
     "source": [
      "Euler Problem 49\n",
      "================\n",
      "\n",
      "The arithmetic sequence, 1487, 4817, 8147, in which each of the terms increases by 3330, is unusual in two ways: \n",
      "    - each of the three terms are prime, and,\n",
      "    - each of the 4-digit numbers are permutations of one another.\n",
      "\n",
      "There are no arithmetic sequences made up of three 1-, 2-, or 3-digit primes, exhibiting this property, but there is one other 4-digit increasing sequence.\n",
      "\n",
      "What 12-digit number do you form by concatenating the three terms in this sequence?"
     ]
    },
    {
     "cell_type": "code",
     "collapsed": false,
     "input": [
      "from sympy import isprime\n",
      "from collections import defaultdict\n",
      "from itertools import combinations\n",
      "\n",
      "primes = defaultdict(list)\n",
      "for n in xrange(1001, 10000, 2):\n",
      "    if isprime(n):\n",
      "        key = ''.join(sorted(str(n)))\n",
      "        primes[key].append(n)\n",
      "for key in primes:\n",
      "    for p, q in combinations(primes[key], 2):\n",
      "        r = q + (q - p)\n",
      "        if r in primes[key]:\n",
      "            print str(p) + str(q) + str(r)\n",
      "            break"
     ],
     "language": "python",
     "metadata": {},
     "outputs": [
      {
       "output_type": "stream",
       "stream": "stdout",
       "text": [
        "296962999629\n",
        "148748178147\n"
       ]
      }
     ],
     "prompt_number": 1
    }
   ],
   "metadata": {}
  }
 ]
}