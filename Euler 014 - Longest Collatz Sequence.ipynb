{
 "metadata": {
  "name": ""
 },
 "nbformat": 3,
 "nbformat_minor": 0,
 "worksheets": [
  {
   "cells": [
    {
     "cell_type": "markdown",
     "metadata": {},
     "source": [
      "Euler Problem 14\n",
      "================\n",
      "\n",
      "The following iterative sequence is defined for the set of positive integers:\n",
      "\n",
      "    n \u2192 n/2 (n is even)\n",
      "    n \u2192 3n + 1 (n is odd)\n",
      "\n",
      "Using the rule above and starting with 13, we generate the following sequence:\n",
      "\n",
      "    13 \u2192 40 \u2192 20 \u2192 10 \u2192 5 \u2192 16 \u2192 8 \u2192 4 \u2192 2 \u2192 1\n",
      "\n",
      "It can be seen that this sequence (starting at 13 and finishing at 1) contains 10 terms. Although it has not been proved yet (Collatz Problem), it is thought that all starting numbers finish at 1.\n",
      "\n",
      "Which starting number, under one million, produces the longest chain?\n",
      "\n",
      "NOTE: Once the chain starts the terms are allowed to go above one million."
     ]
    },
    {
     "cell_type": "code",
     "collapsed": false,
     "input": [
      "D = {1:0}\n",
      "maxlen = 0\n",
      "start = 1\n",
      "\n",
      "def collatz(n):\n",
      "    if n in D:\n",
      "        return D[n]\n",
      "    elif (n % 2):\n",
      "        c = 1 + collatz(3*n+1)\n",
      "    else:\n",
      "        c = 1 + collatz(n/2)\n",
      "    D[n] = c\n",
      "    return c\n",
      "\n",
      "for n in xrange(1,1000000):\n",
      "    c = collatz(n)\n",
      "    if c > maxlen:\n",
      "        maxlen = c\n",
      "        start = n\n",
      "print start"
     ],
     "language": "python",
     "metadata": {},
     "outputs": [
      {
       "output_type": "stream",
       "stream": "stdout",
       "text": [
        "837799\n"
       ]
      }
     ],
     "prompt_number": 1
    }
   ],
   "metadata": {}
  }
 ]
}