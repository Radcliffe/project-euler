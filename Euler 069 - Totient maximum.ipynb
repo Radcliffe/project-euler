{
 "cells": [
  {
   "cell_type": "markdown",
   "metadata": {},
   "source": [
    "Euler Problem 69\n",
    "================\n",
    "\n",
    "Euler's Totient function, φ(n) [sometimes called the phi function], is used to\n",
    "determine the number of numbers less than n which are relatively prime to n.\n",
    "For example, as 1, 2, 4, 5, 7, and 8, are all less than nine and relatively\n",
    "prime to nine, φ(9)=6.\n",
    "\n",
    "    n \tRelatively Prime \tφ(n) \tn/φ(n)\n",
    "    2 \t1 \t                1 \t2\n",
    "    3 \t1,2 \t                2 \t1.5\n",
    "    4 \t1,3 \t                2 \t2\n",
    "    5 \t1,2,3,4 \t        4 \t1.25\n",
    "    6 \t1,5 \t                2 \t3\n",
    "    7 \t1,2,3,4,5,6 \t        6 \t1.1666...\n",
    "    8 \t1,3,5,7 \t        4 \t2\n",
    "    9 \t1,2,4,5,7,8 \t        6 \t1.5\n",
    "    10 \t1,3,7,9 \t        4 \t2.5\n",
    "\n",
    "It can be seen that n=6 produces a maximum n/φ(n) for n ≤ 10.\n",
    "\n",
    "Find the value of n ≤ 1,000,000 for which n/φ(n) is a maximum."
   ]
  },
  {
   "cell_type": "code",
   "execution_count": 1,
   "metadata": {},
   "outputs": [
    {
     "name": "stdout",
     "output_type": "stream",
     "text": [
      "510510\n"
     ]
    }
   ],
   "source": [
    "from sympy import primerange\n",
    "P = 1\n",
    "for p in primerange(1, 100):\n",
    "    P *= p\n",
    "    if P > 1000000:\n",
    "        break\n",
    "print(P//p)"
   ]
  },
  {
   "cell_type": "markdown",
   "metadata": {},
   "source": [
    "**Explanation:**  n/φ(n) is equal to the product of p/(p-1) for all distinct prime divisors of n.\n",
    "We may assume that n has no repeated prime factors (i.e. is square free), because repeating a prime factor would increase the value of n without changing the value of n/φ(n). We may also assume that the prime factors are consecutive, because replacing one prime with a smaller prime would increase the product.\n",
    "So the answer is the largest product of consecutive primes (starting at 2) that is less than 1,000,000."
   ]
  }
 ],
 "metadata": {
  "kernelspec": {
   "display_name": "Python 3",
   "language": "python",
   "name": "python3"
  },
  "language_info": {
   "codemirror_mode": {
    "name": "ipython",
    "version": 3
   },
   "file_extension": ".py",
   "mimetype": "text/x-python",
   "name": "python",
   "nbconvert_exporter": "python",
   "pygments_lexer": "ipython3",
   "version": "3.6.2"
  }
 },
 "nbformat": 4,
 "nbformat_minor": 1
}
