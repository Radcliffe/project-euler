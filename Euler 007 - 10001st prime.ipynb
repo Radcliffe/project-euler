{
 "metadata": {
  "name": ""
 },
 "nbformat": 3,
 "nbformat_minor": 0,
 "worksheets": [
  {
   "cells": [
    {
     "cell_type": "markdown",
     "metadata": {},
     "source": [
      "Euler Problem 7\n",
      "===============\n",
      "\n",
      "By listing the first six prime numbers: 2, 3, 5, 7, 11, and 13, we can see that the 6th prime is 13.\n",
      "\n",
      "What is the 10,001st prime number?"
     ]
    },
    {
     "cell_type": "code",
     "collapsed": false,
     "input": [
      "MAX = 200000\n",
      "index = 10001\n",
      "sieve = [True] * MAX\n",
      "prime_count = 0\n",
      "for p in xrange(2, MAX):\n",
      "    if sieve[p]:\n",
      "        prime_count += 1\n",
      "        if prime_count == index:\n",
      "            print p\n",
      "            break\n",
      "        for n in xrange(p*p, MAX, p):\n",
      "            sieve[n] = False"
     ],
     "language": "python",
     "metadata": {},
     "outputs": [
      {
       "output_type": "stream",
       "stream": "stdout",
       "text": [
        "104743\n"
       ]
      }
     ],
     "prompt_number": 1
    }
   ],
   "metadata": {}
  }
 ]
}