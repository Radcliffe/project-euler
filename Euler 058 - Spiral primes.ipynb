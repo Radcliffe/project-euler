{
 "cells": [
  {
   "cell_type": "markdown",
   "metadata": {},
   "source": [
    "Euler Problem 58\n",
    "================\n",
    "\n",
    "Starting with 1 and spiralling anticlockwise in the following way, a square spiral with side length 7 is formed.\n",
    "\n",
    "    37 36 35 34 33 32 31\n",
    "    38 17 16 15 14 13 30\n",
    "    39 18  5  4  3 12 29\n",
    "    40 19  6  1  2 11 28\n",
    "    41 20  7  8  9 10 27\n",
    "    42 21 22 23 24 25 26\n",
    "    43 44 45 46 47 48 49\n",
    "\n",
    "It is interesting to note that the odd squares lie along the bottom right diagonal, but what is more interesting is that 8 out of the 13 numbers lying along both diagonals are prime; that is, a ratio of 8/13 ≈ 62%.\n",
    "\n",
    "If one complete new layer is wrapped around the spiral above, a square spiral with side length 9 will be formed. If this process is continued, what is the side length of the square spiral for which the ratio of primes along both diagonals first falls below 10%?"
   ]
  },
  {
   "cell_type": "code",
   "execution_count": 1,
   "metadata": {},
   "outputs": [
    {
     "name": "stdout",
     "output_type": "stream",
     "text": [
      "26241\n"
     ]
    }
   ],
   "source": [
    "from sympy import isprime\n",
    "corners = [3, 5, 7, 9]\n",
    "squares = 5\n",
    "primes = 3\n",
    "delta = 8\n",
    "sidelength = 3\n",
    "while primes*10 >= squares:\n",
    "    sidelength += 2\n",
    "    for i in range(4):\n",
    "        delta += 2\n",
    "        corners[i] += delta\n",
    "        primes += isprime(corners[i])\n",
    "    squares += 4\n",
    "print(sidelength)"
   ]
  },
  {
   "cell_type": "code",
   "execution_count": null,
   "metadata": {},
   "outputs": [],
   "source": [
    "    "
   ]
  }
 ],
 "metadata": {
  "kernelspec": {
   "display_name": "Python 3",
   "language": "python",
   "name": "python3"
  },
  "language_info": {
   "codemirror_mode": {
    "name": "ipython",
    "version": 3
   },
   "file_extension": ".py",
   "mimetype": "text/x-python",
   "name": "python",
   "nbconvert_exporter": "python",
   "pygments_lexer": "ipython3",
   "version": "3.6.2"
  }
 },
 "nbformat": 4,
 "nbformat_minor": 1
}
