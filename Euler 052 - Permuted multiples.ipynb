{
 "metadata": {
  "name": ""
 },
 "nbformat": 3,
 "nbformat_minor": 0,
 "worksheets": [
  {
   "cells": [
    {
     "cell_type": "markdown",
     "metadata": {},
     "source": [
      "Euler Problem 52\n",
      "================\n",
      "\n",
      "It can be seen that the number, 125874, and its double, 251748, contain exactly the same digits, but in a different order.\n",
      "\n",
      "Find the smallest positive integer, x, such that 2x, 3x, 4x, 5x, and 6x, contain the same digits."
     ]
    },
    {
     "cell_type": "code",
     "collapsed": false,
     "input": [
      "x = 1\n",
      "while True:\n",
      "    xdigits = sorted(str(x))\n",
      "    if all(sorted(str(k*x)) == xdigits for k in [2,3,4,5,6]):\n",
      "        print x\n",
      "        break\n",
      "    x += 1"
     ],
     "language": "python",
     "metadata": {},
     "outputs": [
      {
       "output_type": "stream",
       "stream": "stdout",
       "text": [
        "142857\n"
       ]
      }
     ],
     "prompt_number": 1
    }
   ],
   "metadata": {}
  }
 ]
}