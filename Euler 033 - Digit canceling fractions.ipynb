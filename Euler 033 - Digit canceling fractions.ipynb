{
 "metadata": {
  "name": ""
 },
 "nbformat": 3,
 "nbformat_minor": 0,
 "worksheets": [
  {
   "cells": [
    {
     "cell_type": "markdown",
     "metadata": {},
     "source": [
      "Euler Problem 33\n",
      "================\n",
      "\n",
      "The fraction 49/98 is a curious fraction, as an inexperienced mathematician in attempting to simplify it may incorrectly believe that 49/98 = 4/8, which is correct, is obtained by cancelling the 9s.\n",
      "\n",
      "We shall consider fractions like, 30/50 = 3/5, to be trivial examples.\n",
      "\n",
      "There are exactly four non-trivial examples of this type of fraction, less than one in value, and containing two digits in the numerator and denominator.\n",
      "\n",
      "If the product of these four fractions is given in its lowest common terms, find the value of the denominator."
     ]
    },
    {
     "cell_type": "code",
     "collapsed": false,
     "input": [
      "from fractions import Fraction\n",
      "\n",
      "product = Fraction(1)\n",
      "\n",
      "for m in range(12,98):\n",
      "    if (m % 10) == 0 or (m % 11) == 0:\n",
      "        continue\n",
      "    for n in range(m+1, 99):\n",
      "        if (n%10) == (m/10) and m*(n/10) == n*(m%10) or \\\n",
      "        (n/10) == (m%10) and m*(n%10) == n*(m/10):\n",
      "            product *= Fraction(m, n)\n",
      "\n",
      "print product.denominator"
     ],
     "language": "python",
     "metadata": {},
     "outputs": [
      {
       "output_type": "stream",
       "stream": "stdout",
       "text": [
        "100\n"
       ]
      }
     ],
     "prompt_number": 5
    }
   ],
   "metadata": {}
  }
 ]
}