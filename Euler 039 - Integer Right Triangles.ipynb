{
 "metadata": {
  "name": ""
 },
 "nbformat": 3,
 "nbformat_minor": 0,
 "worksheets": [
  {
   "cells": [
    {
     "cell_type": "markdown",
     "metadata": {},
     "source": [
      "Euler Problem 39\n",
      "================\n",
      "\n",
      "If p is the perimeter of a right angle triangle with integral length sides, {a,b,c}, there are exactly three solutions for p = 120.\n",
      "\n",
      "{20,48,52}, {24,45,51}, {30,40,50}\n",
      "\n",
      "For which value of p \u2264 1000, is the number of solutions maximised?"
     ]
    },
    {
     "cell_type": "code",
     "collapsed": false,
     "input": [
      "from fractions import gcd\n",
      "from collections import defaultdict\n",
      "\n",
      "count = defaultdict(int)\n",
      "\n",
      "for m in xrange(2, 1000):\n",
      "    for n in xrange(1 + (m % 2), m, 2):\n",
      "        if gcd(m, n) > 1:\n",
      "            continue\n",
      "        p = 2*m*(m+n)\n",
      "        if p > 1000:\n",
      "            break\n",
      "        for q in xrange(p, 1001, p):\n",
      "            count[q] += 1\n",
      "print [p for p in count if count[p] == max(count.values())]"
     ],
     "language": "python",
     "metadata": {},
     "outputs": [
      {
       "output_type": "stream",
       "stream": "stdout",
       "text": [
        "[840]\n"
       ]
      }
     ],
     "prompt_number": 1
    }
   ],
   "metadata": {}
  }
 ]
}