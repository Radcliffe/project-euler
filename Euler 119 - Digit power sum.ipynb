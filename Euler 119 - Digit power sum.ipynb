{
 "cells": [
  {
   "cell_type": "markdown",
   "metadata": {},
   "source": [
    "Euler Problem 119\n",
    "=================\n",
    "\n",
    "The number 512 is interesting because it is equal to the sum of its digits raised to some power: 5 + 1 + 2 = 8, and 8<sup>3</sup> = 512. Another example of a number with this property is 614656 = 28<sup>4</sup>.\n",
    "\n",
    "We shall define a<sub>n</sub> to be the nth term of this sequence and insist that a number must contain at least two digits to have a sum.\n",
    "\n",
    "You are given that a<sub>2</sub> = 512 and a<sub>10</sub> = 614656.\n",
    "\n",
    "Find a<sub>30</sub>."
   ]
  },
  {
   "cell_type": "code",
   "execution_count": 1,
   "metadata": {},
   "outputs": [
    {
     "name": "stdout",
     "output_type": "stream",
     "text": [
      "248155780267521\n"
     ]
    }
   ],
   "source": [
    "MAX = 10**15\n",
    "expt = 3\n",
    "results = set()\n",
    "for expt in range(2, 50):\n",
    "    for n in range(2, 10000):\n",
    "        power = n ** expt\n",
    "        if power > MAX or (expt == 2 and power > 10000):\n",
    "            break\n",
    "        if sum(map(int,str(power))) == n:\n",
    "            results.add(power)\n",
    "\n",
    "print(sorted(results)[29])"
   ]
  },
  {
   "cell_type": "markdown",
   "metadata": {},
   "source": [
    "**Explanation:** 81 is the only number (with at least two digits) that is equal to the square of the sum of its digits. Suppose that $n$ is a number with $d$ digits that is equal to the square of the sum of its digits. Then $10^{d-1} \\le n < 10^d$ and $n \\le (9d)^2$, which imply that\n",
    "$\\displaystyle\\frac{10^{d-1}}{d^2} \\le 81$. This inequality is satisfied for $d \\le 4$. Therefore $n < 10000$."
   ]
  },
  {
   "cell_type": "code",
   "execution_count": 2,
   "metadata": {},
   "outputs": [
    {
     "name": "stdout",
     "output_type": "stream",
     "text": [
      "1 1.0\n",
      "2 2.5\n",
      "3 11.11111111111111\n",
      "4 62.5\n",
      "5 400.0\n",
      "6 2777.777777777778\n",
      "7 20408.163265306124\n",
      "8 156250.0\n",
      "9 1234567.9012345679\n",
      "10 10000000.0\n"
     ]
    }
   ],
   "source": [
    "for d in range(1, 11):\n",
    "    print(d, 10**(d-1)/(d**2))"
   ]
  },
  {
   "cell_type": "code",
   "execution_count": null,
   "metadata": {},
   "outputs": [],
   "source": []
  }
 ],
 "metadata": {
  "kernelspec": {
   "display_name": "Python 3",
   "language": "python",
   "name": "python3"
  },
  "language_info": {
   "codemirror_mode": {
    "name": "ipython",
    "version": 3
   },
   "file_extension": ".py",
   "mimetype": "text/x-python",
   "name": "python",
   "nbconvert_exporter": "python",
   "pygments_lexer": "ipython3",
   "version": "3.6.2"
  }
 },
 "nbformat": 4,
 "nbformat_minor": 1
}
