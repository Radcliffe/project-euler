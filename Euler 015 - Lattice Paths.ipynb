{
 "cells": [
  {
   "cell_type": "markdown",
   "metadata": {},
   "source": [
    "Euler Problem 15\n",
    "================\n",
    "\n",
    "Starting in the top left corner of a 2×2 grid, and only being able to move to the right and down, there are exactly 6 routes to the bottom right corner.\n",
    "\n",
    "<img src=\"https://projecteuler.net/project/images/p015.gif\">\n",
    "\n",
    "How many such routes are there through a 20×20 grid?"
   ]
  },
  {
   "cell_type": "code",
   "execution_count": 1,
   "metadata": {},
   "outputs": [
    {
     "name": "stdout",
     "output_type": "stream",
     "text": [
      "137846528820\n"
     ]
    }
   ],
   "source": [
    "def binomial(n,r):\n",
    "    if r<0 or r>n:\n",
    "        return 0\n",
    "    if r > n//2:\n",
    "        r = n - r\n",
    "    b = 1\n",
    "    for i in range(r):\n",
    "        b = (b * (n-i)) // (i + 1)\n",
    "    return b\n",
    "\n",
    "print(binomial(40,20))"
   ]
  },
  {
   "cell_type": "markdown",
   "metadata": {},
   "source": [
    "*Explanation:* Each route has 20 downward segments and 20 rightward segments. The number of routes is equal to the binomial coefficient\n",
    "$$\\binom{40}{20} = \\frac{40!}{20!\\,20!} = 137846528820$$\n",
    "because the routes can be constructed by choosing 20 out of the 40 segments to be downward. "
   ]
  }
 ],
 "metadata": {
  "kernelspec": {
   "display_name": "Python 3",
   "language": "python",
   "name": "python3"
  },
  "language_info": {
   "codemirror_mode": {
    "name": "ipython",
    "version": 3
   },
   "file_extension": ".py",
   "mimetype": "text/x-python",
   "name": "python",
   "nbconvert_exporter": "python",
   "pygments_lexer": "ipython3",
   "version": "3.6.2"
  }
 },
 "nbformat": 4,
 "nbformat_minor": 1
}
