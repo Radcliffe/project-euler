{
 "metadata": {
  "name": ""
 },
 "nbformat": 3,
 "nbformat_minor": 0,
 "worksheets": [
  {
   "cells": [
    {
     "cell_type": "markdown",
     "metadata": {},
     "source": [
      "Euler Problem 15\n",
      "================\n",
      "\n",
      "Starting in the top left corner of a 2\u00d72 grid, and only being able to move to the right and down, there are exactly 6 routes to the bottom right corner.\n",
      "\n",
      "<img src=\"https://projecteuler.net/project/images/p015.gif\">\n",
      "\n",
      "How many such routes are there through a 20\u00d720 grid?"
     ]
    },
    {
     "cell_type": "code",
     "collapsed": false,
     "input": [
      "def binomial(n,r):\n",
      "    if r<0 or r>n:\n",
      "        return 0\n",
      "    if r > n/2:\n",
      "        r = n - r\n",
      "    b = 1\n",
      "    for i in xrange(r):\n",
      "        b = (b * (n-i)) / (i + 1)\n",
      "    return b\n",
      "\n",
      "print binomial(40,20)"
     ],
     "language": "python",
     "metadata": {},
     "outputs": [
      {
       "output_type": "stream",
       "stream": "stdout",
       "text": [
        "137846528820\n"
       ]
      }
     ],
     "prompt_number": 1
    },
    {
     "cell_type": "markdown",
     "metadata": {},
     "source": [
      "*Explanation:* Each route has 20 downward segments and 20 rightward segments. The number of routes is equal to the binomial coefficient\n",
      "$$\\binom{40}{20} = \\frac{40!}{20!\\,20!} = 137846528820$$\n",
      "because the routes can be constructed by choosing 20 out of the 40 segments to be downward. "
     ]
    },
    {
     "cell_type": "code",
     "collapsed": false,
     "input": [],
     "language": "python",
     "metadata": {},
     "outputs": []
    }
   ],
   "metadata": {}
  }
 ]
}