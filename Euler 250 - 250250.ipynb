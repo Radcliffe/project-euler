{
 "cells": [
  {
   "cell_type": "markdown",
   "metadata": {},
   "source": [
    "# Problem 250 - 250250\n",
    "\n",
    "Find the number of non-empty subsets of $\\{1^1, 2^2, 3^3, \\ldots, 250250^{250250}\\}$, the sum of whose elements is divisible by 250. Enter the rightmost 16 digits as your answer."
   ]
  },
  {
   "cell_type": "code",
   "execution_count": 1,
   "metadata": {},
   "outputs": [
    {
     "name": "stdout",
     "output_type": "stream",
     "text": [
      "1425480602091519\n"
     ]
    }
   ],
   "source": [
    "a = [1] + [0]*249\n",
    "for i in range(1, 250251):\n",
    "    n = pow(i, i, 250)\n",
    "    b = [0] * 250\n",
    "    for j in range(250):\n",
    "        b[j] = (a[j] + a[j-n]) % 10**16\n",
    "    a = b\n",
    "print(a[0] - 1)"
   ]
  },
  {
   "cell_type": "code",
   "execution_count": null,
   "metadata": {},
   "outputs": [],
   "source": []
  }
 ],
 "metadata": {
  "kernelspec": {
   "display_name": "Python 3",
   "language": "python",
   "name": "python3"
  },
  "language_info": {
   "codemirror_mode": {
    "name": "ipython",
    "version": 3
   },
   "file_extension": ".py",
   "mimetype": "text/x-python",
   "name": "python",
   "nbconvert_exporter": "python",
   "pygments_lexer": "ipython3",
   "version": "3.6.5"
  }
 },
 "nbformat": 4,
 "nbformat_minor": 2
}
