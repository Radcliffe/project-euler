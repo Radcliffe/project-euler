{
 "metadata": {
  "name": ""
 },
 "nbformat": 3,
 "nbformat_minor": 0,
 "worksheets": [
  {
   "cells": [
    {
     "cell_type": "markdown",
     "metadata": {},
     "source": [
      "Euler Problem 94\n",
      "================\n",
      "\n",
      "It is easily proved that no equilateral triangle exists with integral length sides and integral area. However, the almost equilateral triangle 5-5-6 has an area of 12 square units.\n",
      "\n",
      "We shall define an almost equilateral triangle to be a triangle for which two sides are equal and the third differs by no more than one unit.\n",
      "\n",
      "Find the sum of the perimeters of all almost equilateral triangles with integral side lengths and area and whose perimeters do not exceed one billion (1,000,000,000)."
     ]
    },
    {
     "cell_type": "code",
     "collapsed": false,
     "input": [
      "a, b, p, s = 1, 0, 0, 0\n",
      "while p <= 10**9:\n",
      "    s += p\n",
      "    a, b = 2*a + 3*b, a + 2*b\n",
      "    p = 4*a*a\n",
      "\n",
      "a, b, p = 1, 1, 0\n",
      "while p <= 10**9:\n",
      "    s += p\n",
      "    a, b = 2*a + 3*b, a + 2*b\n",
      "    p = 2*a*a\n",
      "\n",
      "print s\n"
     ],
     "language": "python",
     "metadata": {},
     "outputs": [
      {
       "output_type": "stream",
       "stream": "stdout",
       "text": [
        "518408346\n"
       ]
      }
     ],
     "prompt_number": 6
    },
    {
     "cell_type": "markdown",
     "metadata": {},
     "source": [
      "**Discussion:** "
     ]
    },
    {
     "cell_type": "code",
     "collapsed": false,
     "input": [],
     "language": "python",
     "metadata": {},
     "outputs": []
    }
   ],
   "metadata": {}
  }
 ]
}