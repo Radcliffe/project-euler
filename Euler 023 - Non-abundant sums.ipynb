{
 "metadata": {
  "name": ""
 },
 "nbformat": 3,
 "nbformat_minor": 0,
 "worksheets": [
  {
   "cells": [
    {
     "cell_type": "markdown",
     "metadata": {},
     "source": [
      "Euler Problem 23\n",
      "================\n",
      "\n",
      "\n",
      "A perfect number is a number for which the sum of its proper divisors is exactly equal to the number. For example, the sum of the proper divisors of 28 would be 1 + 2 + 4 + 7 + 14 = 28, which means that 28 is a perfect number.\n",
      "\n",
      "A number n is called deficient if the sum of its proper divisors is less than n and it is called abundant if this sum exceeds n.\n",
      "\n",
      "As 12 is the smallest abundant number, 1 + 2 + 3 + 4 + 6 = 16, the smallest number that can be written as the sum of two abundant numbers is 24. By mathematical analysis, it can be shown that all integers greater than 28123 can be written as the sum of two abundant numbers. However, this upper limit cannot be reduced any further by analysis even though it is known that the greatest number that cannot be expressed as the sum of two abundant numbers is less than this limit.\n",
      "\n",
      "Find the sum of all the positive integers which cannot be written as the sum of two abundant numbers."
     ]
    },
    {
     "cell_type": "code",
     "collapsed": false,
     "input": [
      "N = 28124\n",
      "divisor_sum = [0]*N\n",
      "total = 0\n",
      "\n",
      "for i in xrange(1,N):\n",
      "    for j in xrange(2*i,N,i):\n",
      "        divisor_sum[j] += i\n",
      "abundant = [i for i in xrange(1, 28124) if divisor_sum[i] > i] \n",
      "\n",
      "for i in xrange(1,N):\n",
      "    for j in abundant:\n",
      "        if j > i/2:\n",
      "            total += i\n",
      "            break\n",
      "        if divisor_sum[i-j] > i-j:\n",
      "            break\n",
      "print total"
     ],
     "language": "python",
     "metadata": {},
     "outputs": [
      {
       "output_type": "stream",
       "stream": "stdout",
       "text": [
        "4179871\n"
       ]
      }
     ],
     "prompt_number": 1
    }
   ],
   "metadata": {}
  }
 ]
}