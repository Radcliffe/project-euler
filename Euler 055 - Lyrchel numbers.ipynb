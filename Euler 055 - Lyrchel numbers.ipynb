{
 "metadata": {
  "name": ""
 },
 "nbformat": 3,
 "nbformat_minor": 0,
 "worksheets": [
  {
   "cells": [
    {
     "cell_type": "markdown",
     "metadata": {},
     "source": [
      "Euler Problem 55\n",
      "================\n",
      "\n",
      "If we take 47, reverse and add, 47 + 74 = 121, which is palindromic.\n",
      "\n",
      "Not all numbers produce palindromes so quickly. For example,\n",
      "\n",
      "- 349 + 943 = 1292,\n",
      "- 1292 + 2921 = 4213\n",
      "- 4213 + 3124 = 7337\n",
      "\n",
      "That is, 349 took three iterations to arrive at a palindrome.\n",
      "\n",
      "Although no one has proved it yet, it is thought that some numbers, like 196, never produce a palindrome. A number that never forms a palindrome through the reverse and add process is called a Lychrel number. Due to the theoretical nature of these numbers, and for the purpose of this problem, we shall assume that a number is Lychrel until proven otherwise. In addition you are given that for every number below ten-thousand, it will either (i) become a palindrome in less than fifty iterations, or, (ii) no one, with all the computing power that exists, has managed so far to map it to a palindrome. In fact, 10677 is the first number to be shown to require over fifty iterations before producing a palindrome: 4668731596684224866951378664 (53 iterations, 28-digits).\n",
      "\n",
      "Surprisingly, there are palindromic numbers that are themselves Lychrel numbers; the first example is 4994.\n",
      "\n",
      "How many Lychrel numbers are there below ten thousand?"
     ]
    },
    {
     "cell_type": "code",
     "collapsed": false,
     "input": [
      "def reverse(n):\n",
      "    a = 0\n",
      "    while n:\n",
      "        a = 10*a + (n % 10)\n",
      "        n /= 10\n",
      "    return a\n",
      "\n",
      "def lyrchel(n):\n",
      "    rev = reverse(n)\n",
      "    for i in xrange(50):\n",
      "        n = n + rev\n",
      "        rev = reverse(n)\n",
      "        if rev == n:\n",
      "            return False\n",
      "    return True\n",
      "\n",
      "print sum(lyrchel(n) for n in xrange(1, 10000))"
     ],
     "language": "python",
     "metadata": {},
     "outputs": [
      {
       "output_type": "stream",
       "stream": "stdout",
       "text": [
        "249\n"
       ]
      }
     ],
     "prompt_number": 2
    }
   ],
   "metadata": {}
  }
 ]
}