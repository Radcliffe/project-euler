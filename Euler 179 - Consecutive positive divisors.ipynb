{
 "metadata": {
  "name": ""
 },
 "nbformat": 3,
 "nbformat_minor": 0,
 "worksheets": [
  {
   "cells": [
    {
     "cell_type": "markdown",
     "metadata": {},
     "source": [
      "Euler Problem 179\n",
      "=================\n",
      "\n",
      "Find the number of integers 1 < n < 10^7, for which n and n + 1 have the same\n",
      "number of positive divisors. For example, 14 has the positive divisors\n",
      "1, 2, 7, 14 while 15 has 1, 3, 5, 15."
     ]
    },
    {
     "cell_type": "code",
     "collapsed": false,
     "input": [
      "N = 10 ** 7\n",
      "div = [1]*(N+1)\n",
      "for p in xrange(2,N+1):\n",
      "    if div[p] == 1:\n",
      "        div[p] = p\n",
      "        for k in xrange(p*p, N+1, p):\n",
      "            div[k] = p\n",
      "count = 0\n",
      "for n in xrange(2, N+1):\n",
      "    p = div[n]\n",
      "    m = n/p\n",
      "    div[n] = div[m]\n",
      "    while m % p == 0:\n",
      "        m /= p\n",
      "    div[n] += div[m]\n",
      "    count += (div[n] == div[n-1])\n",
      "print count"
     ],
     "language": "python",
     "metadata": {},
     "outputs": [
      {
       "output_type": "stream",
       "stream": "stdout",
       "text": [
        "986262\n"
       ]
      }
     ],
     "prompt_number": 1
    }
   ],
   "metadata": {}
  }
 ]
}