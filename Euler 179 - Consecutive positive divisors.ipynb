{
 "cells": [
  {
   "cell_type": "markdown",
   "metadata": {},
   "source": [
    "Euler Problem 179\n",
    "=================\n",
    "\n",
    "Find the number of integers $1 < n < 10^7$, for which $n$ and $n + 1$ have the same\n",
    "number of positive divisors. For example, 14 has the positive divisors\n",
    "1, 2, 7, 14 while 15 has 1, 3, 5, 15."
   ]
  },
  {
   "cell_type": "code",
   "execution_count": 2,
   "metadata": {},
   "outputs": [
    {
     "name": "stdout",
     "output_type": "stream",
     "text": [
      "986262\n"
     ]
    }
   ],
   "source": [
    "N = 10 ** 7\n",
    "div = [1]*(N+1)\n",
    "for p in range(2,N+1):\n",
    "    if div[p] == 1:\n",
    "        div[p] = p\n",
    "        for k in range(p*p, N+1, p):\n",
    "            div[k] = p\n",
    "count = 0\n",
    "for n in range(2, N+1):\n",
    "    p = div[n]\n",
    "    m = n//p\n",
    "    div[n] = div[m]\n",
    "    while m % p == 0:\n",
    "        m //= p\n",
    "    div[n] += div[m]\n",
    "    count += (div[n] == div[n-1])\n",
    "print(count)"
   ]
  },
  {
   "cell_type": "code",
   "execution_count": null,
   "metadata": {},
   "outputs": [],
   "source": []
  }
 ],
 "metadata": {
  "kernelspec": {
   "display_name": "Python 3",
   "language": "python",
   "name": "python3"
  },
  "language_info": {
   "codemirror_mode": {
    "name": "ipython",
    "version": 3
   },
   "file_extension": ".py",
   "mimetype": "text/x-python",
   "name": "python",
   "nbconvert_exporter": "python",
   "pygments_lexer": "ipython3",
   "version": "3.6.2"
  }
 },
 "nbformat": 4,
 "nbformat_minor": 1
}
