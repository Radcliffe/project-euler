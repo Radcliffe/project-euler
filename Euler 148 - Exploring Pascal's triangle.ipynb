{
 "metadata": {
  "name": ""
 },
 "nbformat": 3,
 "nbformat_minor": 0,
 "worksheets": [
  {
   "cells": [
    {
     "cell_type": "markdown",
     "metadata": {},
     "source": [
      "Euler Problem 148\n",
      "=================\n",
      "\n",
      "\n",
      "We can easily verify that none of the entries in the first seven rows of\n",
      "Pascal's triangle are divisible by 7:\n",
      "\n",
      "However, if we check the first one hundred rows, we will find that only 2361\n",
      "of the 5050 entries are not divisible by 7.\n",
      "\n",
      "Find the number of entries which are not divisible by 7 in the first one\n",
      "billion (10^9) rows of Pascal's triangle."
     ]
    },
    {
     "cell_type": "code",
     "collapsed": false,
     "input": [
      "def f(n):\n",
      "    if n == 0:\n",
      "        return 1\n",
      "    return (1+(n%7))*f(n/7)\n",
      "\n",
      "def F(n):\n",
      "    if n == 0:\n",
      "        return 0\n",
      "    r = n % 7\n",
      "    return 28*F(n/7) + r*(r+1)/2*f(n/7)\n",
      "\n",
      "print F(10**9)"
     ],
     "language": "python",
     "metadata": {},
     "outputs": [
      {
       "output_type": "stream",
       "stream": "stdout",
       "text": [
        "2129970655314432\n"
       ]
      }
     ],
     "prompt_number": 1
    }
   ],
   "metadata": {}
  }
 ]
}