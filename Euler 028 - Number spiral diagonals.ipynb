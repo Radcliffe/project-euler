{
 "metadata": {
  "name": ""
 },
 "nbformat": 3,
 "nbformat_minor": 0,
 "worksheets": [
  {
   "cells": [
    {
     "cell_type": "markdown",
     "metadata": {},
     "source": [
      "Euler Problem 28\n",
      "================\n",
      "\n",
      "Starting with the number 1 and moving to the right in a clockwise direction a 5 by 5 spiral is formed as follows:\n",
      "\n",
      "    21 22 23 24 25\n",
      "    20  7  8  9 10\n",
      "    19  6  1  2 11\n",
      "    18  5  4  3 12\n",
      "    17 16 15 14 13\n",
      "\n",
      "It can be verified that the sum of the numbers on the diagonals is 101.\n",
      "\n",
      "What is the sum of the numbers on the diagonals in a 1001 by 1001 spiral formed in the same way?"
     ]
    },
    {
     "cell_type": "code",
     "collapsed": false,
     "input": [
      "f = lambda n: (n*(n*(4*n+3)+8)-9)/6\n",
      "print f(1001)"
     ],
     "language": "python",
     "metadata": {},
     "outputs": [
      {
       "output_type": "stream",
       "stream": "stdout",
       "text": [
        "669171001\n"
       ]
      }
     ],
     "prompt_number": 1
    }
   ],
   "metadata": {}
  }
 ]
}