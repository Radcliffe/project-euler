{
 "metadata": {
  "name": ""
 },
 "nbformat": 3,
 "nbformat_minor": 0,
 "worksheets": [
  {
   "cells": [
    {
     "cell_type": "markdown",
     "metadata": {},
     "source": [
      "Euler Problem 27\n",
      "================\n",
      "\n",
      "Euler discovered the remarkable quadratic formula:\n",
      "\n",
      "$$n^2 + n + 41$$\n",
      "\n",
      "It turns out that the formula will produce 40 primes for the consecutive values $n$ = 0 to 39. However, when $n = 40$, $40^2 + 40 + 41 = 40(40 + 1) + 41$ is divisible by 41, and certainly when $n = 41$, $41^2 + 41 + 41$ is clearly divisible by 41.\n",
      "\n",
      "The incredible formula $n^2 \u2212 79n + 1601$ was discovered, which produces 80 primes for the consecutive values $n$ = 0 to 79. The product of the coefficients, \u221279 and 1601, is \u2212126479.\n",
      "\n",
      "Considering quadratics of the form:\n",
      "\n",
      "$n^2 + an + b$, where $|a| < 1000$ and $|b| < 1000$\n",
      "\n",
      "where $|n|$ is the modulus/absolute value of $n$, e.g. $|11| = 11$ and $|-4| = 4$.\n",
      "\n",
      "Find the product of the coefficients, $a$ and $b$, for the quadratic expression that produces the maximum number of primes for consecutive values of $n$, starting with $n = 0$."
     ]
    },
    {
     "cell_type": "code",
     "collapsed": false,
     "input": [
      "N = 1000000\n",
      "prime = [False, False] + [True]*(N-2)\n",
      "for k in xrange(2, N):\n",
      "    if prime[k]:\n",
      "        for m in xrange(k*k, N, k):\n",
      "            prime[m] = False\n",
      "\n",
      "(max_n, max_a, max_b) = (0, 0, 0)\n",
      "\n",
      "for b in xrange(1,1000):\n",
      "    if not prime[b]:\n",
      "        continue\n",
      "    for a in xrange(-999, 1000):\n",
      "        n = 1\n",
      "        while n*n+a*n+b > 0 and prime[n*n+a*n+b]:\n",
      "            n += 1\n",
      "        if n > max_n:\n",
      "            max_n, max_a, max_b = n, a, b\n",
      "print max_a*max_b"
     ],
     "language": "python",
     "metadata": {},
     "outputs": [
      {
       "output_type": "stream",
       "stream": "stdout",
       "text": [
        "-59231\n"
       ]
      }
     ],
     "prompt_number": 1
    }
   ],
   "metadata": {}
  }
 ]
}