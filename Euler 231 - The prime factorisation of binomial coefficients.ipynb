{
 "cells": [
  {
   "cell_type": "markdown",
   "metadata": {},
   "source": [
    "# Euler Problem 231"
   ]
  },
  {
   "cell_type": "markdown",
   "metadata": {},
   "source": [
    "The binomial coefficient 10C3 = 120.\n",
    "120 = 23 × 3 × 5 = 2 × 2 × 2 × 3 × 5, and 2 + 2 + 2 + 3 + 5 = 14.\n",
    "So the sum of the terms in the prime factorisation of 10C3 is 14.\n",
    "\n",
    "Find the sum of the terms in the prime factorisation of 20000000C15000000. "
   ]
  },
  {
   "cell_type": "code",
   "execution_count": 1,
   "metadata": {},
   "outputs": [],
   "source": [
    "def digitsum(n, p):\n",
    "    \"\"\"Sum of digits of n in base p\"\"\"\n",
    "    s = 0\n",
    "    while n:\n",
    "        s += n % p\n",
    "        n //= p\n",
    "    return s\n",
    "\n",
    "\n",
    "def binom(n, k, p):\n",
    "    \"\"\"Exponent of p in the prime factorization of (n choose k).\"\"\"\n",
    "    return (digitsum(k, p) + digitsum(n - k, p) - digitsum(n, p)) // (p - 1)\n"
   ]
  },
  {
   "cell_type": "code",
   "execution_count": 2,
   "metadata": {},
   "outputs": [],
   "source": [
    "from primesieve import primes\n",
    "\n",
    "def sum_of_prime_factors_binom(n, k):\n",
    "    return sum(p * binom(n, k, p) for p in primes(n))\n"
   ]
  },
  {
   "cell_type": "code",
   "execution_count": 3,
   "metadata": {},
   "outputs": [
    {
     "name": "stdout",
     "output_type": "stream",
     "text": [
      "7526965179680\n"
     ]
    }
   ],
   "source": [
    "print(sum_of_prime_factors_binom(20000000, 15000000))"
   ]
  },
  {
   "cell_type": "code",
   "execution_count": null,
   "metadata": {},
   "outputs": [],
   "source": []
  }
 ],
 "metadata": {
  "kernelspec": {
   "display_name": "Python 3",
   "language": "python",
   "name": "python3"
  },
  "language_info": {
   "codemirror_mode": {
    "name": "ipython",
    "version": 3
   },
   "file_extension": ".py",
   "mimetype": "text/x-python",
   "name": "python",
   "nbconvert_exporter": "python",
   "pygments_lexer": "ipython3",
   "version": "3.6.5"
  }
 },
 "nbformat": 4,
 "nbformat_minor": 2
}
