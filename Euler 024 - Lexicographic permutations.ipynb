{
 "metadata": {
  "name": ""
 },
 "nbformat": 3,
 "nbformat_minor": 0,
 "worksheets": [
  {
   "cells": [
    {
     "cell_type": "markdown",
     "metadata": {},
     "source": [
      "Euler Problem 24\n",
      "================\n",
      "\n",
      "A permutation is an ordered arrangement of objects. For example, 3124 is one possible permutation of the digits 1, 2, 3 and 4. If all of the permutations are listed numerically or alphabetically, we call it lexicographic order. The lexicographic permutations of 0, 1 and 2 are:\n",
      "\n",
      "    012   021   102   120   201   210\n",
      "\n",
      "What is the millionth lexicographic permutation of the digits 0, 1, 2, 3, 4, 5, 6, 7, 8 and 9?"
     ]
    },
    {
     "cell_type": "code",
     "collapsed": false,
     "input": [
      "factorials = [1]\n",
      "prod = 1\n",
      "for k in xrange(1, 10):\n",
      "    prod *= k\n",
      "    factorials.append(prod)\n",
      "factorials.reverse()\n",
      "\n",
      "def base_factorial(n):\n",
      "    seq = []\n",
      "    for f in factorials:\n",
      "        seq.append(n/f)\n",
      "        n %= f\n",
      "    return seq\n",
      "\n",
      "def get_perm(n):\n",
      "    L = range(10)\n",
      "    perm = ''\n",
      "    for d in base_factorial(n):\n",
      "        perm += str(L[d])\n",
      "        del L[d]\n",
      "    return perm\n",
      "\n",
      "print get_perm(10**6 - 1)"
     ],
     "language": "python",
     "metadata": {},
     "outputs": [
      {
       "output_type": "stream",
       "stream": "stdout",
       "text": [
        "2783915460\n"
       ]
      }
     ],
     "prompt_number": 1
    }
   ],
   "metadata": {}
  }
 ]
}