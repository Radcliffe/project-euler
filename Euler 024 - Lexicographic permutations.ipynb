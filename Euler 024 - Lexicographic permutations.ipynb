{
 "cells": [
  {
   "cell_type": "markdown",
   "metadata": {},
   "source": [
    "Euler Problem 24\n",
    "================\n",
    "\n",
    "A permutation is an ordered arrangement of objects. For example, 3124 is one possible permutation of the digits 1, 2, 3 and 4. If all of the permutations are listed numerically or alphabetically, we call it lexicographic order. The lexicographic permutations of 0, 1 and 2 are:\n",
    "\n",
    "    012   021   102   120   201   210\n",
    "\n",
    "What is the millionth lexicographic permutation of the digits 0, 1, 2, 3, 4, 5, 6, 7, 8 and 9?"
   ]
  },
  {
   "cell_type": "code",
   "execution_count": 1,
   "metadata": {},
   "outputs": [
    {
     "name": "stdout",
     "output_type": "stream",
     "text": [
      "2783915460\n"
     ]
    }
   ],
   "source": [
    "factorials = [1]\n",
    "prod = 1\n",
    "for k in range(1, 10):\n",
    "    prod *= k\n",
    "    factorials.append(prod)\n",
    "factorials.reverse()\n",
    "\n",
    "def base_factorial(n):\n",
    "    seq = []\n",
    "    for f in factorials:\n",
    "        seq.append(n//f)\n",
    "        n %= f\n",
    "    return seq\n",
    "\n",
    "def get_perm(n):\n",
    "    L = list(range(10))\n",
    "    perm = ''\n",
    "    for d in base_factorial(n):\n",
    "        perm += str(L[d])\n",
    "        del L[d]\n",
    "    return perm\n",
    "\n",
    "print(get_perm(10**6 - 1))"
   ]
  },
  {
   "cell_type": "code",
   "execution_count": null,
   "metadata": {},
   "outputs": [],
   "source": []
  }
 ],
 "metadata": {
  "kernelspec": {
   "display_name": "Python 3",
   "language": "python",
   "name": "python3"
  },
  "language_info": {
   "codemirror_mode": {
    "name": "ipython",
    "version": 3
   },
   "file_extension": ".py",
   "mimetype": "text/x-python",
   "name": "python",
   "nbconvert_exporter": "python",
   "pygments_lexer": "ipython3",
   "version": "3.6.2"
  }
 },
 "nbformat": 4,
 "nbformat_minor": 1
}
