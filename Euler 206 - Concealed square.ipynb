{
 "metadata": {
  "name": ""
 },
 "nbformat": 3,
 "nbformat_minor": 0,
 "worksheets": [
  {
   "cells": [
    {
     "cell_type": "markdown",
     "metadata": {},
     "source": [
      "Euler Problem 206\n",
      "=================\n",
      "\n",
      "Find the unique positive integer whose square has the form \n",
      "    1_2_3_4_5_6_7_8_9_0,\n",
      "\n",
      "where each \"&#95;\" is a single digit."
     ]
    },
    {
     "cell_type": "code",
     "collapsed": false,
     "input": [
      "from itertools import product\n",
      "for a, b, c, d in product(range(10), repeat=4):\n",
      "    N = 10203040596979899\n",
      "    N += a*10**15 + b*10**13 + c*10**11 + d*10**9\n",
      "    sqrtN = int(N**0.5)\n",
      "    s = str(sqrtN**2)\n",
      "    if s[0:17:2] == '123456789':\n",
      "        print sqrtN * 10\n",
      "        break"
     ],
     "language": "python",
     "metadata": {},
     "outputs": [
      {
       "output_type": "stream",
       "stream": "stdout",
       "text": [
        "1389019170\n"
       ]
      }
     ],
     "prompt_number": 1
    },
    {
     "cell_type": "markdown",
     "metadata": {},
     "source": [
      "**Explanation:** Note that if a square is divisible by 10 then it is also divisible by 100, so we must place 0 in the last blank space. Dividing by 100\n",
      "yields another square, which has the form\n",
      "    1_2_3_4_5_6_7_8_9.\n",
      "    \n",
      "\n",
      "We insert digits a, b, c, d into the first 4 blank spaces:\n",
      "\n",
      "    1a2b3c4d5_6_7_8_9\n",
      " \n",
      "There is at most one way to fill in the remaining blanks to obtain a square,\n",
      "because the difference between two distinct 17-digit squares is at least\n",
      "$(10^8 + 1)^2 - (10^8)^2 = 2\\times 10^8 + 1$, so the first nine digits cannot\n",
      "agree.\n",
      "\n",
      "To find the candidate square root, we fill in the remaining blanks with 9s,\n",
      "compute the square root, and round down to the nearest integer.\n",
      "\n"
     ]
    }
   ],
   "metadata": {}
  }
 ]
}