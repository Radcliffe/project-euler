{
 "metadata": {
  "name": ""
 },
 "nbformat": 3,
 "nbformat_minor": 0,
 "worksheets": [
  {
   "cells": [
    {
     "cell_type": "markdown",
     "metadata": {},
     "source": [
      "  \n",
      "Euler Problem 72\n",
      "================\n",
      "\n",
      "Consider the fraction, n/d, where n and d are positive integers. If n < d and HCF(n,d)=1, it is called a reduced proper fraction.\n",
      "\n",
      "If we list the set of reduced proper fractions for d \u2264 8 in ascending order of size, we get:\n",
      "\n",
      "1/8, 1/7, 1/6, 1/5, 1/4, 2/7, 1/3, 3/8, 2/5, 3/7, 1/2, 4/7, 3/5, 5/8, 2/3, 5/7, 3/4, 4/5, 5/6, 6/7, 7/8\n",
      "\n",
      "It can be seen that there are 21 elements in this set.\n",
      "\n",
      "How many elements would be contained in the set of reduced proper fractions for d \u2264 1,000,000?"
     ]
    },
    {
     "cell_type": "code",
     "collapsed": false,
     "input": [
      "N = 1000001\n",
      "phi = [0] * N\n",
      "phi[1] = 1\n",
      "primefactor = [0] * N\n",
      "\n",
      "for p in xrange(2, N):\n",
      "    if primefactor[p] == 0:\n",
      "        for n in xrange(p, N, p):\n",
      "            primefactor[n] = p\n",
      "            \n",
      "for n in xrange(2, N):\n",
      "    q = primefactor[n]\n",
      "    m = n / q\n",
      "    power = 1\n",
      "    while primefactor[m] == q:\n",
      "        m /= q\n",
      "        power *= q\n",
      "    phi[n] = phi[m] * power * (q-1)\n",
      "  \n",
      "print sum(phi)\n",
      "    "
     ],
     "language": "python",
     "metadata": {},
     "outputs": [
      {
       "output_type": "stream",
       "stream": "stdout",
       "text": [
        "[0, 1, 1, 2, 2, 4, 2, 6, 4, 6, 4, 10, 4, 12, 6, 8, 8, 16, 6, 18]\n",
        "303963552392\n"
       ]
      }
     ],
     "prompt_number": 5
    },
    {
     "cell_type": "markdown",
     "metadata": {},
     "source": [
      "**Explanation:** The number of reduced fractions with denominator $n$ is $\\phi(n)$ (Euler's totient function) so the answer is $\\sum_{k \\le 10^6} \\phi(k)$."
     ]
    }
   ],
   "metadata": {}
  }
 ]
}