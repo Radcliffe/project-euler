{
 "cells": [
  {
   "cell_type": "markdown",
   "metadata": {},
   "source": [
    "  \n",
    "Euler Problem 72\n",
    "================\n",
    "\n",
    "Consider the fraction, n/d, where n and d are positive integers. If n < d and HCF(n,d)=1, it is called a reduced proper fraction.\n",
    "\n",
    "If we list the set of reduced proper fractions for d ≤ 8 in ascending order of size, we get:\n",
    "\n",
    "1/8, 1/7, 1/6, 1/5, 1/4, 2/7, 1/3, 3/8, 2/5, 3/7, 1/2, 4/7, 3/5, 5/8, 2/3, 5/7, 3/4, 4/5, 5/6, 6/7, 7/8\n",
    "\n",
    "It can be seen that there are 21 elements in this set.\n",
    "\n",
    "How many elements would be contained in the set of reduced proper fractions for d ≤ 1,000,000?"
   ]
  },
  {
   "cell_type": "code",
   "execution_count": 1,
   "metadata": {},
   "outputs": [
    {
     "name": "stdout",
     "output_type": "stream",
     "text": [
      "303963552392\n"
     ]
    }
   ],
   "source": [
    "N = 1000001\n",
    "phi = [0] * N\n",
    "phi[1] = 1\n",
    "primefactor = [0] * N\n",
    "\n",
    "for p in range(2, N):\n",
    "    if primefactor[p] == 0:\n",
    "        for n in range(p, N, p):\n",
    "            primefactor[n] = p\n",
    "            \n",
    "for n in range(2, N):\n",
    "    q = primefactor[n]\n",
    "    m = n // q\n",
    "    power = 1\n",
    "    while primefactor[m] == q:\n",
    "        m //= q\n",
    "        power *= q\n",
    "    phi[n] = phi[m] * power * (q-1)\n",
    "  \n",
    "print(sum(phi))\n",
    "    "
   ]
  },
  {
   "cell_type": "markdown",
   "metadata": {},
   "source": [
    "**Explanation:** The number of reduced fractions with denominator $n$ is $\\phi(n)$ (Euler's totient function) so the answer is $\\sum_{k \\le 10^6} \\phi(k)$."
   ]
  }
 ],
 "metadata": {
  "kernelspec": {
   "display_name": "Python 3",
   "language": "python",
   "name": "python3"
  },
  "language_info": {
   "codemirror_mode": {
    "name": "ipython",
    "version": 3
   },
   "file_extension": ".py",
   "mimetype": "text/x-python",
   "name": "python",
   "nbconvert_exporter": "python",
   "pygments_lexer": "ipython3",
   "version": "3.6.2"
  }
 },
 "nbformat": 4,
 "nbformat_minor": 1
}
