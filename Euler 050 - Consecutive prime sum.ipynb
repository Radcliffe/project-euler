{
 "cells": [
  {
   "cell_type": "markdown",
   "metadata": {},
   "source": [
    "The prime 41, can be written as the sum of six consecutive primes:\n",
    "\n",
    "41 = 2 + 3 + 5 + 7 + 11 + 13\n",
    "\n",
    "This is the longest sum of consecutive primes that adds to a prime below one-hundred.\n",
    "\n",
    "The longest sum of consecutive primes below one-thousand that adds to a prime, contains 21 terms, and is equal to 953.\n",
    "\n",
    "Which prime, below one-million, can be written as the sum of the most consecutive primes?"
   ]
  },
  {
   "cell_type": "code",
   "execution_count": 5,
   "metadata": {},
   "outputs": [
    {
     "name": "stdout",
     "output_type": "stream",
     "text": [
      "997651\n"
     ]
    }
   ],
   "source": [
    "N = 1000000\n",
    "\n",
    "def FastPrimeSieve(max): # From http://rebrained.com/?p=458\n",
    "    possible_primes = list(range(3, max + 1, 2))\n",
    "    curr_index = -1\n",
    "    max_index = len(possible_primes)\n",
    "    for latest_prime in possible_primes:\n",
    "        curr_index +=1\n",
    "        if not latest_prime: \n",
    "            continue\n",
    "        for index_variable_not_named_j in range((curr_index+latest_prime),max_index, latest_prime): \n",
    "            possible_primes[index_variable_not_named_j]=0\n",
    "    possible_primes.insert(0,2)\n",
    "    return list(filter(None, possible_primes))\n",
    "\n",
    "P = FastPrimeSieve(N)\n",
    "n = len(P)\n",
    "S = [0]*(n+1)\n",
    "for i in range(n):\n",
    "    S[i+1] = S[i] + P[i]\n",
    "P = set(P)\n",
    "first = 0\n",
    "last = 1\n",
    "max_run = 0\n",
    "best_prime = 0\n",
    "\n",
    "while last < n:\n",
    "    diff = S[last] - S[first]\n",
    "    run = last - first\n",
    "    if run > max_run and diff < N and diff in P:\n",
    "        max_run = run\n",
    "        best_prime = diff\n",
    "    if diff < N:\n",
    "        last += 1\n",
    "    else:\n",
    "        first += 1\n",
    "        last = first + max_run\n",
    "\n",
    "print(best_prime)"
   ]
  },
  {
   "cell_type": "code",
   "execution_count": null,
   "metadata": {},
   "outputs": [],
   "source": []
  }
 ],
 "metadata": {
  "kernelspec": {
   "display_name": "Python 3",
   "language": "python",
   "name": "python3"
  },
  "language_info": {
   "codemirror_mode": {
    "name": "ipython",
    "version": 3
   },
   "file_extension": ".py",
   "mimetype": "text/x-python",
   "name": "python",
   "nbconvert_exporter": "python",
   "pygments_lexer": "ipython3",
   "version": "3.6.2"
  }
 },
 "nbformat": 4,
 "nbformat_minor": 1
}
