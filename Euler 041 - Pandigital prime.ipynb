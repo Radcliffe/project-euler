{
 "metadata": {
  "name": ""
 },
 "nbformat": 3,
 "nbformat_minor": 0,
 "worksheets": [
  {
   "cells": [
    {
     "cell_type": "markdown",
     "metadata": {},
     "source": [
      "Euler Problem 41\n",
      "================\n",
      "\n",
      "We shall say that an n-digit number is pandigital if it makes use of all the digits 1 to n exactly once. For example, 2143 is a 4-digit pandigital and is also prime.\n",
      "\n",
      "What is the largest n-digit pandigital prime that exists?"
     ]
    },
    {
     "cell_type": "code",
     "collapsed": false,
     "input": [
      "from itertools import permutations\n",
      "from sympy import isprime\n",
      "\n",
      "for v in permutations((7,6,5,4,3,2,1)):\n",
      "    p = sum(v[6-i]*10**i for i in xrange(7))\n",
      "    if isprime(p):\n",
      "        print p\n",
      "        break"
     ],
     "language": "python",
     "metadata": {},
     "outputs": [
      {
       "output_type": "stream",
       "stream": "stdout",
       "text": [
        "7652413\n"
       ]
      }
     ],
     "prompt_number": 1
    },
    {
     "cell_type": "markdown",
     "metadata": {},
     "source": [
      "**Explanation:** Every pandigital number $N$ with 8 or 9 digits is divisible by 9, since the sum of the digits of $N$ is $1 + 2 + 3 + \\cdots + 8 = 36$ or $1 + 2 + 3 + \\cdots + 9 = 45$, respectively. Therefore, pandigital primes have at most 7 digits.\n",
      "\n",
      "We use `itertools.permutations` to iterate through all permutations of the digits 1-7 in reverse order until we find a permutation that forms a prime number."
     ]
    }
   ],
   "metadata": {}
  }
 ]
}