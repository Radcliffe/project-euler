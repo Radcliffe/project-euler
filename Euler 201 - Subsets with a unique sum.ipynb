{
 "metadata": {
  "name": ""
 },
 "nbformat": 3,
 "nbformat_minor": 0,
 "worksheets": [
  {
   "cells": [
    {
     "cell_type": "markdown",
     "metadata": {},
     "source": [
      "Euler Problem 201\n",
      "=================\n",
      "\n",
      "For any set A of numbers, let sum(A) be the sum of the elements of A.\n",
      "Consider the set B = {1,3,6,8,10,11}.\n",
      "There are 20 subsets of B containing three elements, and their sums are:\n",
      "\n",
      "    sum({1,3,6}) = 10,\n",
      "    sum({1,3,8}) = 12,\n",
      "    sum({1,3,10}) = 14,\n",
      "    sum({1,3,11}) = 15,\n",
      "    sum({1,6,8}) = 15,\n",
      "    sum({1,6,10}) = 17,\n",
      "    sum({1,6,11}) = 18,\n",
      "    sum({1,8,10}) = 19,\n",
      "    sum({1,8,11}) = 20,\n",
      "    sum({1,10,11}) = 22,\n",
      "    sum({3,6,8}) = 17,\n",
      "    sum({3,6,10}) = 19,\n",
      "    sum({3,6,11}) = 20,\n",
      "    sum({3,8,10}) = 21,\n",
      "    sum({3,8,11}) = 22,\n",
      "    sum({3,10,11}) = 24,\n",
      "    sum({6,8,10}) = 24,\n",
      "    sum({6,8,11}) = 25,\n",
      "    sum({6,10,11}) = 27,\n",
      "    sum({8,10,11}) = 29.\n",
      "\n",
      "Some of these sums occur more than once, others are unique.\n",
      "For a set A, let U(A,k) be the set of unique sums of k-element subsets of A, in our example we find U(B,3) = {10,12,14,18,21,25,27,29} and sum(U(B,3)) = 156.\n",
      "\n",
      "Now consider the 100-element set S = {12, 22, ... , 1002}.\n",
      "S has 100891344545564193334812497256 50-element subsets.\n",
      "\n",
      "Determine the sum of all integers which are the sum of exactly one of the 50-element subsets of S, i.e. find sum(U(S,50))."
     ]
    },
    {
     "cell_type": "code",
     "collapsed": false,
     "input": [
      "S = [k*k for k in xrange(1,101)]\n",
      "# S = [1,3,6,8,10,11]\n",
      "n = len(S)\n",
      "k = n/2\n",
      "\n",
      "sums = [{0:1}]\n",
      "for i in xrange(k):\n",
      "    sums += [{}]\n",
      "\n",
      "for s in S:\n",
      "    for j in xrange(k-1,-1,-1):\n",
      "        L = sums[j].keys()\n",
      "        for s0 in L:\n",
      "            s1 = s + s0\n",
      "            if sums[j][s0] == 2 or s1 in sums[j+1]:\n",
      "                sums[j+1][s1] = 2\n",
      "            else:\n",
      "                sums[j+1][s1] = 1\n",
      "\n",
      "print sum(i for i in sums[k] if sums[k][i] == 1)"
     ],
     "language": "python",
     "metadata": {},
     "outputs": [
      {
       "output_type": "stream",
       "stream": "stdout",
       "text": [
        "115039000\n"
       ]
      }
     ],
     "prompt_number": 7
    },
    {
     "cell_type": "markdown",
     "metadata": {},
     "source": [
      "**Note:** Running time over two minutes. Code needs to be updated."
     ]
    }
   ],
   "metadata": {}
  }
 ]
}