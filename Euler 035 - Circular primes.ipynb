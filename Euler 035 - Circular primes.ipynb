{
 "cells": [
  {
   "cell_type": "markdown",
   "metadata": {},
   "source": [
    "Euler Problem 35\n",
    "================\n",
    "\n",
    "The number, 197, is called a circular prime because all rotations of the digits: 197, 971, and 719, are themselves prime.\n",
    "\n",
    "There are thirteen such primes below 100: 2, 3, 5, 7, 11, 13, 17, 31, 37, 71, 73, 79, and 97.\n",
    "\n",
    "How many circular primes are there below one million?"
   ]
  },
  {
   "cell_type": "code",
   "execution_count": 1,
   "metadata": {},
   "outputs": [
    {
     "name": "stdout",
     "output_type": "stream",
     "text": [
      "55\n"
     ]
    }
   ],
   "source": [
    "N = 1000000\n",
    "prime = [False, False] + [True] * (N - 2)\n",
    "primes = []\n",
    "for p in range(2, N):\n",
    "    if prime[p]:\n",
    "        primes.append(p)\n",
    "        for q in range(p*p, N, p):\n",
    "            prime[q] = False\n",
    "count = 0\n",
    "pow10 = 1\n",
    "k_max = 1\n",
    "for p in primes:\n",
    "    k = len(str(p))\n",
    "    if k > k_max:\n",
    "        pow10 *= 10\n",
    "        k_max = k\n",
    "    for i in range(k-1):\n",
    "        p = p//10 + (p%10) * pow10\n",
    "        if not prime[p]:\n",
    "            break\n",
    "    else:\n",
    "        count += 1\n",
    "print(count)"
   ]
  },
  {
   "cell_type": "code",
   "execution_count": null,
   "metadata": {},
   "outputs": [],
   "source": []
  }
 ],
 "metadata": {
  "kernelspec": {
   "display_name": "Python 3",
   "language": "python",
   "name": "python3"
  },
  "language_info": {
   "codemirror_mode": {
    "name": "ipython",
    "version": 3
   },
   "file_extension": ".py",
   "mimetype": "text/x-python",
   "name": "python",
   "nbconvert_exporter": "python",
   "pygments_lexer": "ipython3",
   "version": "3.6.2"
  }
 },
 "nbformat": 4,
 "nbformat_minor": 1
}
