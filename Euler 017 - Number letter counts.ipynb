{
 "cells": [
  {
   "cell_type": "markdown",
   "metadata": {},
   "source": [
    "Euler Problem 17\n",
    "================\n",
    "If the numbers 1 to 5 are written out in words: one, two, three, four, five, then there are 3 + 3 + 5 + 4 + 4 = 19 letters used in total.\n",
    "\n",
    "If all the numbers from 1 to 1000 (one thousand) inclusive were written out in words, how many letters would be used?\n",
    "\n",
    "\n",
    "**NOTE:** Do not count spaces or hyphens. For example, 342 (three hundred and forty-two) contains 23 letters and 115 (one hundred and fifteen) contains 20 letters. The use of \"and\" when writing out numbers is in compliance with British usage."
   ]
  },
  {
   "cell_type": "code",
   "execution_count": 1,
   "metadata": {},
   "outputs": [
    {
     "name": "stdout",
     "output_type": "stream",
     "text": [
      "21124\n"
     ]
    }
   ],
   "source": [
    "def spellout(n):\n",
    "    small = [3, 3, 5, 4, 4, 3, 5, 5, 4] # 1 - 9\n",
    "    teens = [6, 6, 8, 8, 7, 7, 9, 8, 8] # 11 - 19\n",
    "    tens =  [3, 6, 6, 5, 5, 5, 7, 6, 6] # 10, 20, ..., 90\n",
    "    if n >= 1000:\n",
    "        s = spellout(n//1000) + 8\n",
    "        r = n % 1000\n",
    "        if r > 99:\n",
    "            s = s + spellout(n%1000)\n",
    "        elif r > 0:\n",
    "            s = s + 3 + spellout(n%1000)\n",
    "        return s\n",
    "    if n > 99:\n",
    "        s = spellout(n//100) + 7\n",
    "        r = n % 100\n",
    "        if r:\n",
    "            s = s + 3 + spellout(n % 100)\n",
    "        return s\n",
    "    if n < 10:\n",
    "        return small[n-1]\n",
    "    elif n > 10 and n < 20:\n",
    "        return teens[n-11]\n",
    "    else:\n",
    "        s = tens[n//10-1]\n",
    "        if (n % 10):\n",
    "            s = s + small[(n % 10) - 1]\n",
    "        return s\n",
    "\n",
    "print(sum(spellout(i) for i in range(1, 1001)))"
   ]
  },
  {
   "cell_type": "code",
   "execution_count": null,
   "metadata": {},
   "outputs": [],
   "source": []
  }
 ],
 "metadata": {
  "kernelspec": {
   "display_name": "Python 3",
   "language": "python",
   "name": "python3"
  },
  "language_info": {
   "codemirror_mode": {
    "name": "ipython",
    "version": 3
   },
   "file_extension": ".py",
   "mimetype": "text/x-python",
   "name": "python",
   "nbconvert_exporter": "python",
   "pygments_lexer": "ipython3",
   "version": "3.6.2"
  }
 },
 "nbformat": 4,
 "nbformat_minor": 1
}
