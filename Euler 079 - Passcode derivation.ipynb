{
 "cells": [
  {
   "cell_type": "markdown",
   "metadata": {},
   "source": [
    "Euler Problem 79\n",
    "================\n",
    "\n",
    "A common security method used for online banking is to ask the user for three\n",
    "random characters from a passcode. For example, if the passcode was 531278,\n",
    "they may asked for the 2nd, 3rd, and 5th characters; the expected reply would\n",
    "be: 317.\n",
    "\n",
    "The text file, keylog.txt, contains fifty successful login attempts.\n",
    "\n",
    "Given that the three characters are always asked for in order, analyse the\n",
    "file so as to determine the shortest possible secret passcode of unknown length."
   ]
  },
  {
   "cell_type": "code",
   "execution_count": 1,
   "metadata": {},
   "outputs": [
    {
     "name": "stdout",
     "output_type": "stream",
     "text": [
      "73162890\n"
     ]
    }
   ],
   "source": [
    "# Given two strings u and v, and a positive integer n,\n",
    "# find all minimal strings that contain u and v as substrings.\n",
    "\n",
    "infile = open('data/p079_keylog.txt', 'r')\n",
    "codes = [x.strip() for x in infile]\n",
    "\n",
    "def majority_merge(L):\n",
    "    if L == []:\n",
    "        return ''\n",
    "    freq = [0]*10\n",
    "    for x in L:\n",
    "        freq[int(x[0])] += 1\n",
    "    maxfreq = 0\n",
    "    start = 0\n",
    "    for i in range(10):\n",
    "        if freq[i] > maxfreq:\n",
    "            start = i\n",
    "            maxfreq = freq[i]\n",
    "    M = []\n",
    "    for x in L:\n",
    "        if x[0] != str(start):\n",
    "            M += [x[:]]\n",
    "        elif len(x) > 1:\n",
    "            M += [x[1:]]\n",
    "    return str(start) + majority_merge(M)\n",
    " \n",
    "\n",
    "print(majority_merge(codes))"
   ]
  },
  {
   "cell_type": "code",
   "execution_count": null,
   "metadata": {},
   "outputs": [],
   "source": []
  }
 ],
 "metadata": {
  "kernelspec": {
   "display_name": "Python 3",
   "language": "python",
   "name": "python3"
  },
  "language_info": {
   "codemirror_mode": {
    "name": "ipython",
    "version": 3
   },
   "file_extension": ".py",
   "mimetype": "text/x-python",
   "name": "python",
   "nbconvert_exporter": "python",
   "pygments_lexer": "ipython3",
   "version": "3.6.2"
  }
 },
 "nbformat": 4,
 "nbformat_minor": 1
}
