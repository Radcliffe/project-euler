{
 "metadata": {
  "name": ""
 },
 "nbformat": 3,
 "nbformat_minor": 0,
 "worksheets": [
  {
   "cells": [
    {
     "cell_type": "markdown",
     "metadata": {},
     "source": [
      "Euler Problem 56\n",
      "================\n",
      "\n",
      "A googol (10<sup>100</sup>) is a massive number: one followed by one-hundred zeros; 100<sup>100</sup> is almost unimaginably large: one followed by two-hundred zeros. Despite their size, the sum of the digits in each number is only 1.\n",
      "\n",
      "Considering natural numbers of the form, a<sup>b</sup>, where a, b < 100, what is the maximum digital sum?"
     ]
    },
    {
     "cell_type": "code",
     "collapsed": false,
     "input": [
      "print max(sum(map(int, str(a**b))) for a in xrange(2, 100) for b in range(1, 100))"
     ],
     "language": "python",
     "metadata": {},
     "outputs": [
      {
       "output_type": "stream",
       "stream": "stdout",
       "text": [
        "972\n"
       ]
      }
     ],
     "prompt_number": 1
    }
   ],
   "metadata": {}
  }
 ]
}