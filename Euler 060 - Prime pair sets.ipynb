{
 "cells": [
  {
   "cell_type": "markdown",
   "metadata": {},
   "source": [
    "Euler Problem 60\n",
    "================\n",
    "\n",
    "The primes 3, 7, 109, and 673, are quite remarkable. By taking any two primes and concatenating them in any order the result will always be prime. For example, taking 7 and 109, both 7109 and 1097 are prime. The sum of these four primes, 792, represents the lowest sum for a set of four primes with this property.\n",
    "\n",
    "Find the lowest sum for a set of five primes for which any two primes concatenate to produce another prime."
   ]
  },
  {
   "cell_type": "code",
   "execution_count": 2,
   "metadata": {},
   "outputs": [
    {
     "name": "stdout",
     "output_type": "stream",
     "text": [
      "26033\n",
      "Time: 293.43 seconds\n"
     ]
    }
   ],
   "source": [
    "from time import time\n",
    "start = time()\n",
    "\n",
    "from sympy import primerange, isprime\n",
    "\n",
    "primes = list(primerange(2, 50000))\n",
    "N = len(primes)\n",
    "minsum = 1e100\n",
    "\n",
    "def concat(p, q):\n",
    "    return int(f'{p}{q}')\n",
    "\n",
    "def edge(p, q):\n",
    "    if (p,q) in E:\n",
    "        return E[p,q]\n",
    "    answer = isprime(concat(p,q)) and isprime(concat(q,p))\n",
    "    E[p,q] = answer\n",
    "    return answer\n",
    "\n",
    "cliques = [([], 0)]\n",
    "\n",
    "for p in primes:\n",
    "    E = {}\n",
    "    if p >= minsum:\n",
    "        break\n",
    "    new_cliques = []\n",
    "    for clique, weight in cliques:\n",
    "        if all(edge(p,q) for q in clique):\n",
    "            new_clique = clique + [p]\n",
    "            if len(new_clique) == 5:\n",
    "                minsum = min(minsum, weight + p)\n",
    "            new_cliques.append((new_clique, weight + p))\n",
    "    cliques.extend(new_cliques)\n",
    "    \n",
    "print(minsum)\n",
    "print(\"Time: %.2f seconds\"  % (time() - start))           "
   ]
  },
  {
   "cell_type": "code",
   "execution_count": null,
   "metadata": {},
   "outputs": [],
   "source": []
  }
 ],
 "metadata": {
  "kernelspec": {
   "display_name": "Python 3",
   "language": "python",
   "name": "python3"
  },
  "language_info": {
   "codemirror_mode": {
    "name": "ipython",
    "version": 3
   },
   "file_extension": ".py",
   "mimetype": "text/x-python",
   "name": "python",
   "nbconvert_exporter": "python",
   "pygments_lexer": "ipython3",
   "version": "3.6.2"
  }
 },
 "nbformat": 4,
 "nbformat_minor": 1
}
