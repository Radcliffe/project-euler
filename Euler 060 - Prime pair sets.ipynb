{
 "metadata": {
  "name": ""
 },
 "nbformat": 3,
 "nbformat_minor": 0,
 "worksheets": [
  {
   "cells": [
    {
     "cell_type": "markdown",
     "metadata": {},
     "source": [
      "Euler Problem 60\n",
      "================\n",
      "\n",
      "The primes 3, 7, 109, and 673, are quite remarkable. By taking any two primes and concatenating them in any order the result will always be prime. For example, taking 7 and 109, both 7109 and 1097 are prime. The sum of these four primes, 792, represents the lowest sum for a set of four primes with this property.\n",
      "\n",
      "Find the lowest sum for a set of five primes for which any two primes concatenate to produce another prime."
     ]
    },
    {
     "cell_type": "code",
     "collapsed": false,
     "input": [
      "from time import time\n",
      "start = time()\n",
      "\n",
      "from sympy import primerange, isprime\n",
      "\n",
      "primes = list(primerange(2, 50000))\n",
      "N = len(primes)\n",
      "minsum = 1e100\n",
      "\n",
      "def concat(p, q):\n",
      "    r = q\n",
      "    while r:\n",
      "        p *= 10\n",
      "        r /= 10\n",
      "    return p + q\n",
      "\n",
      "def edge(p, q):\n",
      "    if (p,q) in E:\n",
      "        return E[p,q]\n",
      "    answer = isprime(concat(p,q)) and isprime(concat(q,p))\n",
      "    E[p,q] = answer\n",
      "    return answer\n",
      "\n",
      "cliques = [([], 0)]\n",
      "\n",
      "for p in primes:\n",
      "    E = {}\n",
      "    if p >= minsum:\n",
      "        break\n",
      "    new_cliques = []\n",
      "    for clique, weight in cliques:\n",
      "        if all(edge(p,q) for q in clique):\n",
      "            new_clique = clique + [p]\n",
      "            if len(new_clique) == 5:\n",
      "                minsum = min(minsum, weight + p)\n",
      "            new_cliques.append((new_clique, weight + p))\n",
      "    cliques.extend(new_cliques)\n",
      "    \n",
      "print minsum\n",
      "print \"Time: %.2f seconds\"  % (time() - start)             "
     ],
     "language": "python",
     "metadata": {},
     "outputs": [
      {
       "output_type": "stream",
       "stream": "stdout",
       "text": [
        "26033\n",
        "Time: 182.23 seconds\n"
       ]
      }
     ],
     "prompt_number": 1
    },
    {
     "cell_type": "code",
     "collapsed": false,
     "input": [],
     "language": "python",
     "metadata": {},
     "outputs": []
    }
   ],
   "metadata": {}
  }
 ]
}