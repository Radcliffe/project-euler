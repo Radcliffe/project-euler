{
 "metadata": {
  "name": ""
 },
 "nbformat": 3,
 "nbformat_minor": 0,
 "worksheets": [
  {
   "cells": [
    {
     "cell_type": "markdown",
     "metadata": {},
     "source": [
      "Euler Problem 25\n",
      "================\n",
      "\n",
      "The Fibonacci sequence is defined by the recurrence relation:\n",
      "\n",
      "$F_n = F_{n\u22121} + F_{n\u22122}$, where $F_1 = 1$ and $F_2 = 1$.\n",
      "Hence the first 12 terms will be:\n",
      "\n",
      "$\\begin{align*}\n",
      "F_1 &= 1\\\\\n",
      "F_2 &= 1\\\\\n",
      "F_3 &= 2\\\\\n",
      "F_4 &= 3\\\\\n",
      "F_5 &= 5\\\\\n",
      "F_6 &= 8\\\\\n",
      "F_7 &= 13\\\\\n",
      "F_8 &= 21\\\\\n",
      "F_9 &= 34\\\\\n",
      "F_{10} &= 55\\\\\n",
      "F_{11} &= 89\\\\\n",
      "F_{12} &= 144\n",
      "\\end{align*}$\n",
      "\n",
      "The 12th term, $F_{12}$, is the first term to contain three digits.\n",
      "\n",
      "What is the first term in the Fibonacci sequence to contain 1000 digits?"
     ]
    },
    {
     "cell_type": "code",
     "collapsed": false,
     "input": [
      "from math import log, ceil\n",
      "phi = (1 + 5**.5)/2\n",
      "print int(ceil((log(5)/2 + 999*log(10))/log(phi)))"
     ],
     "language": "python",
     "metadata": {},
     "outputs": [
      {
       "output_type": "stream",
       "stream": "stdout",
       "text": [
        "4782\n"
       ]
      }
     ],
     "prompt_number": 1
    },
    {
     "cell_type": "markdown",
     "metadata": {},
     "source": [
      "**Explanation:** The *n*th Fibonacci number is approximately $\\phi^n / \\sqrt5$\n",
      "where $\\phi = (1 + \\sqrt5)/2$.\n",
      "\n",
      "We solve $\\phi^n / \\sqrt5 = 10^{999}$\n",
      "\n",
      "$\\begin{align*}\n",
      "\\phi^n &= \\sqrt5 \\cdot 10^{999} \\\\\n",
      "n \\log \\phi &= \\log(5)/2 + 999 \\log(10) \\\\\n",
      "n &= (\\log(5)/2 + 999 \\log(10))/\\log(\\phi) \\\\\n",
      "n &\\approx 4781.86\n",
      "\\end{align*}$"
     ]
    }
   ],
   "metadata": {}
  }
 ]
}