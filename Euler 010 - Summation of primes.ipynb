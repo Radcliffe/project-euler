{
 "cells": [
  {
   "cell_type": "markdown",
   "metadata": {},
   "source": [
    "Euler Problem 10\n",
    "================\n",
    "\n",
    "The sum of the primes below 10 is 2 + 3 + 5 + 7 = 17.\n",
    "\n",
    "Find the sum of all the primes below two million."
   ]
  },
  {
   "cell_type": "code",
   "execution_count": 2,
   "metadata": {},
   "outputs": [
    {
     "name": "stdout",
     "output_type": "stream",
     "text": [
      "142913828922\n"
     ]
    }
   ],
   "source": [
    "N = 2000000\n",
    "prime = [True] * N\n",
    "prime_sum = 0\n",
    "for p in range(2, N):\n",
    "    if prime[p]:\n",
    "        prime_sum += p\n",
    "        for m in range(p*p, N, p):\n",
    "            prime[m] = False\n",
    "print(prime_sum)"
   ]
  },
  {
   "cell_type": "markdown",
   "metadata": {},
   "source": [
    "*Explanation:* We use the sieve of Eratosthenes to find all primes less than two million.\n",
    "If $p$ is prime, then we add $p$ to `prime_sum`, and we mark all multiples of $p$ as composite,\n",
    "starting with $p^2$. The reason that we can start with $p^2$ is that all smaller multiples of $p$\n",
    "will have been marked already.\n",
    "\n",
    "We could speed up this program by iterating through the odd numbers.\n",
    "\n",
    "**Alternative solution:**"
   ]
  },
  {
   "cell_type": "code",
   "execution_count": 3,
   "metadata": {},
   "outputs": [
    {
     "name": "stdout",
     "output_type": "stream",
     "text": [
      "142913828922\n"
     ]
    }
   ],
   "source": [
    "from primesieve import primes\n",
    "print(sum(primes(N)))"
   ]
  },
  {
   "cell_type": "code",
   "execution_count": null,
   "metadata": {},
   "outputs": [],
   "source": []
  }
 ],
 "metadata": {
  "kernelspec": {
   "display_name": "Python 3",
   "language": "python",
   "name": "python3"
  },
  "language_info": {
   "codemirror_mode": {
    "name": "ipython",
    "version": 3
   },
   "file_extension": ".py",
   "mimetype": "text/x-python",
   "name": "python",
   "nbconvert_exporter": "python",
   "pygments_lexer": "ipython3",
   "version": "3.6.2"
  }
 },
 "nbformat": 4,
 "nbformat_minor": 1
}
