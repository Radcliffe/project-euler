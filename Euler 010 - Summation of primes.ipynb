{
 "metadata": {
  "name": ""
 },
 "nbformat": 3,
 "nbformat_minor": 0,
 "worksheets": [
  {
   "cells": [
    {
     "cell_type": "markdown",
     "metadata": {},
     "source": [
      "Euler Problem 10\n",
      "================\n",
      "\n",
      "The sum of the primes below 10 is 2 + 3 + 5 + 7 = 17.\n",
      "\n",
      "Find the sum of all the primes below two million."
     ]
    },
    {
     "cell_type": "code",
     "collapsed": false,
     "input": [
      "N = 2000000\n",
      "prime = [True] * N\n",
      "prime_sum = 0\n",
      "for p in xrange(2, N):\n",
      "    if prime[p]:\n",
      "        prime_sum += p\n",
      "        for m in xrange(p*p, N, p):\n",
      "            prime[m] = False\n",
      "print prime_sum"
     ],
     "language": "python",
     "metadata": {},
     "outputs": [
      {
       "output_type": "stream",
       "stream": "stdout",
       "text": [
        "142913828922\n"
       ]
      }
     ],
     "prompt_number": 1
    },
    {
     "cell_type": "markdown",
     "metadata": {},
     "source": [
      "*Explanation:* We use the sieve of Eratosthenes to find all primes less than two million.\n",
      "If $p$ is prime, then we add $p$ to `prime_sum`, and we mark all multiples of $p$ as composite,\n",
      "starting with $p^2$. The reason that we can start with $p^2$ is that all smaller multiples of $p$\n",
      "will have been marked already.\n",
      "\n",
      "We could speed up this program by iterating through the odd numbers.\n"
     ]
    }
   ],
   "metadata": {}
  }
 ]
}