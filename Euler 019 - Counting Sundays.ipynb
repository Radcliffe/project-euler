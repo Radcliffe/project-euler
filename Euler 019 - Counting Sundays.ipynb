{
 "cells": [
  {
   "cell_type": "markdown",
   "metadata": {},
   "source": [
    "Euler Problem 19\n",
    "================\n",
    "\n",
    "You are given the following information, but you may prefer to do some research for yourself.\n",
    "+    1 Jan 1900 was a Monday.\n",
    "+    Thirty days has September,\n",
    "+    April, June and November.\n",
    "+    All the rest have thirty-one,\n",
    "+    Saving February alone,\n",
    "+    Which has twenty-eight, rain or shine.\n",
    "+    And on leap years, twenty-nine.\n",
    "+    A leap year occurs on any year evenly divisible by 4, but not on a century unless it is divisible by 400.\n",
    "\n",
    "How many Sundays fell on the first of the month during the twentieth century (1 Jan 1901 to 31 Dec 2000)?"
   ]
  },
  {
   "cell_type": "code",
   "execution_count": 1,
   "metadata": {},
   "outputs": [
    {
     "name": "stdout",
     "output_type": "stream",
     "text": [
      "171\n"
     ]
    }
   ],
   "source": [
    "import datetime\n",
    "print (sum(datetime.date(yy, mm, 1).weekday() == 6\n",
    "          for yy in range(1901, 2001)\n",
    "          for mm in range(1, 13)))"
   ]
  },
  {
   "cell_type": "code",
   "execution_count": null,
   "metadata": {},
   "outputs": [],
   "source": []
  }
 ],
 "metadata": {
  "kernelspec": {
   "display_name": "Python 3",
   "language": "python",
   "name": "python3"
  },
  "language_info": {
   "codemirror_mode": {
    "name": "ipython",
    "version": 3
   },
   "file_extension": ".py",
   "mimetype": "text/x-python",
   "name": "python",
   "nbconvert_exporter": "python",
   "pygments_lexer": "ipython3",
   "version": "3.6.2"
  }
 },
 "nbformat": 4,
 "nbformat_minor": 1
}
