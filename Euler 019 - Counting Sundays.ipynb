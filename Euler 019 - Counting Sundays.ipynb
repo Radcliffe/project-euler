{
 "metadata": {
  "name": ""
 },
 "nbformat": 3,
 "nbformat_minor": 0,
 "worksheets": [
  {
   "cells": [
    {
     "cell_type": "markdown",
     "metadata": {},
     "source": [
      "Euler Problem 19\n",
      "================\n",
      "\n",
      "You are given the following information, but you may prefer to do some research for yourself.\n",
      "+    1 Jan 1900 was a Monday.\n",
      "+    Thirty days has September,\n",
      "+    April, June and November.\n",
      "+    All the rest have thirty-one,\n",
      "+    Saving February alone,\n",
      "+    Which has twenty-eight, rain or shine.\n",
      "+    And on leap years, twenty-nine.\n",
      "+    A leap year occurs on any year evenly divisible by 4, but not on a century unless it is divisible by 400.\n",
      "\n",
      "How many Sundays fell on the first of the month during the twentieth century (1 Jan 1901 to 31 Dec 2000)?"
     ]
    },
    {
     "cell_type": "code",
     "collapsed": false,
     "input": [
      "import datetime\n",
      "print sum(datetime.date(yy, mm, 1).weekday() == 6\n",
      "          for yy in xrange(1901, 2001)\n",
      "          for mm in xrange(1, 13))"
     ],
     "language": "python",
     "metadata": {},
     "outputs": [
      {
       "output_type": "stream",
       "stream": "stdout",
       "text": [
        "171\n"
       ]
      }
     ],
     "prompt_number": 1
    }
   ],
   "metadata": {}
  }
 ]
}