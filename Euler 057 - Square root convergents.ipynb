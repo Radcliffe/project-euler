{
 "metadata": {
  "name": ""
 },
 "nbformat": 3,
 "nbformat_minor": 0,
 "worksheets": [
  {
   "cells": [
    {
     "cell_type": "markdown",
     "metadata": {},
     "source": [
      "Euler Problem 57\n",
      "================\n",
      "\n",
      "It is possible to show that the square root of two can be expressed as an infinite continued fraction.\n",
      "\n",
      "\u221a 2 = 1 + 1/(2 + 1/(2 + 1/(2 + ... ))) = 1.414213...\n",
      "\n",
      "By expanding this for the first four iterations, we get:\n",
      "\n",
      "1 + 1/2 = 3/2 = 1.5\n",
      "\n",
      "1 + 1/(2 + 1/2) = 7/5 = 1.4\n",
      "\n",
      "1 + 1/(2 + 1/(2 + 1/2)) = 17/12 = 1.41666...\n",
      "\n",
      "1 + 1/(2 + 1/(2 + 1/(2 + 1/2))) = 41/29 = 1.41379...\n",
      "\n",
      "The next three expansions are 99/70, 239/169, and 577/408, but the eighth expansion, 1393/985, is the first example where the number of digits in the numerator exceeds the number of digits in the denominator.\n",
      "\n",
      "In the first one-thousand expansions, how many fractions contain a numerator with more digits than denominator?"
     ]
    },
    {
     "cell_type": "code",
     "collapsed": false,
     "input": [
      "num = den = 1.0\n",
      "count = 0\n",
      "for k in xrange(1000):\n",
      "    num, den = num+den*2, num+den\n",
      "    if num > 10:\n",
      "        if den < 10:\n",
      "            count += 1\n",
      "        num = num / 10\n",
      "        den = den / 10\n",
      "print count"
     ],
     "language": "python",
     "metadata": {},
     "outputs": [
      {
       "output_type": "stream",
       "stream": "stdout",
       "text": [
        "153\n"
       ]
      }
     ],
     "prompt_number": 3
    }
   ],
   "metadata": {}
  }
 ]
}