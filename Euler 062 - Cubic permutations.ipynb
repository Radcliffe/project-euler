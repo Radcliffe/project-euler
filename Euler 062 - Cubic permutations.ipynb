{
 "metadata": {
  "name": ""
 },
 "nbformat": 3,
 "nbformat_minor": 0,
 "worksheets": [
  {
   "cells": [
    {
     "cell_type": "markdown",
     "metadata": {},
     "source": [
      "Euler Problem 62\n",
      "================\n",
      "\n",
      "The cube, 41063625 (345<sup>3</sup>), can be permuted to produce two other cubes: 56623104 (384<sup>3</sup>) and 66430125 (405<sup>3</sup>). In fact, 41063625 is the smallest cube which has exactly three permutations of its digits which are also cube.\n",
      "\n",
      "Find the smallest cube for which exactly five permutations of its digits are cube."
     ]
    },
    {
     "cell_type": "code",
     "collapsed": false,
     "input": [
      "from collections import defaultdict\n",
      "count = defaultdict(int)\n",
      "sortcube = lambda k: tuple(sorted(str(k**3)))\n",
      "for k in xrange(1, 10000):\n",
      "    count[sortcube(k)] += 1\n",
      "    \n",
      "for k in xrange(1, 10000):\n",
      "    if count[sortcube(k)] == 5:\n",
      "        print k**3\n",
      "        break"
     ],
     "language": "python",
     "metadata": {},
     "outputs": [
      {
       "output_type": "stream",
       "stream": "stdout",
       "text": [
        "127035954683\n"
       ]
      }
     ],
     "prompt_number": 7
    }
   ],
   "metadata": {}
  }
 ]
}