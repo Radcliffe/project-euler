{
 "metadata": {
  "name": ""
 },
 "nbformat": 3,
 "nbformat_minor": 0,
 "worksheets": [
  {
   "cells": [
    {
     "cell_type": "markdown",
     "metadata": {},
     "source": [
      "Euler Problem 62\n",
      "================\n",
      "\n",
      "The cube, 41063625 (345^3), can be permuted to produce two other cubes: 56623104 (384^3) and 66430125 (405^3). In fact, 41063625 is the smallest cube which has exactly three permutations of its digits which are also cube.\n",
      "\n",
      "Find the smallest cube for which exactly five permutations of its digits are cube."
     ]
    },
    {
     "cell_type": "code",
     "collapsed": false,
     "input": [
      "from collections import defaultdict\n",
      "cubes = defaultdict(list)\n",
      "for n in xrange(1, 10000):\n",
      "    cube = n*n*n\n",
      "    key = ''.join(sorted(str(cube)))\n",
      "    cubes[key].append(cube)\n",
      "print min(cubes[key][0] for key in cubes if len(cubes[key]) == 5)"
     ],
     "language": "python",
     "metadata": {},
     "outputs": [
      {
       "output_type": "stream",
       "stream": "stdout",
       "text": [
        "127035954683\n"
       ]
      }
     ],
     "prompt_number": 1
    }
   ],
   "metadata": {}
  }
 ]
}