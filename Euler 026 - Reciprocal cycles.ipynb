{
 "metadata": {
  "name": ""
 },
 "nbformat": 3,
 "nbformat_minor": 0,
 "worksheets": [
  {
   "cells": [
    {
     "cell_type": "markdown",
     "metadata": {},
     "source": [
      "Euler Problem 26\n",
      "================\n",
      "\n",
      "A unit fraction contains 1 in the numerator. The decimal representation of the unit fractions with denominators 2 to 10 are given:\n",
      "\n",
      "    1/2  = \t0.5\n",
      "    1/3  = \t0.(3)\n",
      "    1/4  = \t0.25\n",
      "    1/5  = \t0.2\n",
      "    1/6  = \t0.1(6)\n",
      "    1/7  = \t0.(142857)\n",
      "    1/8  = \t0.125\n",
      "    1/9  = \t0.(1)\n",
      "    1/10 = \t0.1\n",
      "Where 0.1(6) means 0.166666..., and has a 1-digit recurring cycle. It can be seen that 1/7 has a 6-digit recurring cycle.\n",
      "\n",
      "Find the value of $d < 1000$ for which $1/d$ contains the longest recurring cycle in its decimal fraction part."
     ]
    },
    {
     "cell_type": "code",
     "collapsed": false,
     "input": [
      "def decimal_period(n):\n",
      "    while n % 2 == 0:\n",
      "        n /= 2\n",
      "    while n % 5 == 0:\n",
      "        n /= 5\n",
      "    if n == 1:\n",
      "        return 0\n",
      "    k = 10 % n\n",
      "    p = 1\n",
      "    while k != 1:\n",
      "        k = (10*k) % n\n",
      "        p += 1\n",
      "    return p\n",
      "\n",
      "maxp = maxd = 0\n",
      "for d in xrange(1, 1000):\n",
      "    p = decimal_period(d)\n",
      "    if p > maxp:\n",
      "        (maxp, maxd) = (p, d)\n",
      "print maxd"
     ],
     "language": "python",
     "metadata": {},
     "outputs": [
      {
       "output_type": "stream",
       "stream": "stdout",
       "text": [
        "983\n"
       ]
      }
     ],
     "prompt_number": 1
    }
   ],
   "metadata": {}
  }
 ]
}