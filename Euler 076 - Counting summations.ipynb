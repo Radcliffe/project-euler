{
 "metadata": {
  "name": ""
 },
 "nbformat": 3,
 "nbformat_minor": 0,
 "worksheets": [
  {
   "cells": [
    {
     "cell_type": "markdown",
     "metadata": {},
     "source": [
      "Euler Problem 76\n",
      "================\n",
      "\n",
      "It is possible to write five as a sum in exactly six different ways:\n",
      "\n",
      "    4 + 1\n",
      "    3 + 2\n",
      "    3 + 1 + 1\n",
      "    2 + 2 + 1\n",
      "    2 + 1 + 1 + 1\n",
      "    1 + 1 + 1 + 1 + 1\n",
      "\n",
      "How many different ways can one hundred be written as a sum of at least two positive integers?"
     ]
    },
    {
     "cell_type": "code",
     "collapsed": false,
     "input": [
      "# Generate pentagonal numbers\n",
      "# p(k) = k * (3k-1) / 2, k not zero.\n",
      "\n",
      "def pentagonal(N):\n",
      "    a, b = 1, 2\n",
      "    delta = 4\n",
      "    sgn = 1\n",
      "    while a <= N:\n",
      "        yield sgn, a\n",
      "        a += delta\n",
      "        if b <= N:\n",
      "            yield sgn, b\n",
      "            b += delta + 1\n",
      "        delta += 3\n",
      "        sgn = -sgn\n",
      "        \n",
      "N = 100\n",
      "partitions = [0] * (N+1)\n",
      "partitions[0] = 1\n",
      "for n in xrange(1, N+1):\n",
      "    for sgn, g in pentagonal(n):\n",
      "        partitions[n] += sgn  * partitions[n - g]\n",
      "print partitions[N]"
     ],
     "language": "python",
     "metadata": {},
     "outputs": [
      {
       "output_type": "stream",
       "stream": "stdout",
       "text": [
        "190569292\n"
       ]
      }
     ],
     "prompt_number": 1
    },
    {
     "cell_type": "markdown",
     "metadata": {},
     "source": [
      "**Explanation:** Uses the pentagonal number recurrence for the partition counting function.\n",
      "\n",
      "http://en.wikipedia.org/wiki/Pentagonal_number_theorem#Partition_recurrence"
     ]
    }
   ],
   "metadata": {}
  }
 ]
}