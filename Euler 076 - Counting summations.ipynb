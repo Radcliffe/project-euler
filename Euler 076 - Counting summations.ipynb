{
 "cells": [
  {
   "cell_type": "markdown",
   "metadata": {},
   "source": [
    "Euler Problem 76\n",
    "================\n",
    "\n",
    "It is possible to write five as a sum in exactly six different ways:\n",
    "\n",
    "    4 + 1\n",
    "    3 + 2\n",
    "    3 + 1 + 1\n",
    "    2 + 2 + 1\n",
    "    2 + 1 + 1 + 1\n",
    "    1 + 1 + 1 + 1 + 1\n",
    "\n",
    "How many different ways can one hundred be written as a sum of at least two positive integers?"
   ]
  },
  {
   "cell_type": "code",
   "execution_count": 1,
   "metadata": {},
   "outputs": [
    {
     "name": "stdout",
     "output_type": "stream",
     "text": [
      "190569292\n"
     ]
    }
   ],
   "source": [
    "# Generate pentagonal numbers\n",
    "# p(k) = k * (3k-1) / 2, k not zero.\n",
    "\n",
    "def pentagonal(N):\n",
    "    a, b = 1, 2\n",
    "    delta = 4\n",
    "    sgn = 1\n",
    "    while a <= N:\n",
    "        yield sgn, a\n",
    "        a += delta\n",
    "        if b <= N:\n",
    "            yield sgn, b\n",
    "            b += delta + 1\n",
    "        delta += 3\n",
    "        sgn = -sgn\n",
    "        \n",
    "N = 100\n",
    "partitions = [0] * (N+1)\n",
    "partitions[0] = 1\n",
    "for n in range(1, N+1):\n",
    "    for sgn, g in pentagonal(n):\n",
    "        partitions[n] += sgn  * partitions[n - g]\n",
    "print(partitions[N])"
   ]
  },
  {
   "cell_type": "markdown",
   "metadata": {},
   "source": [
    "**Explanation:** Uses the pentagonal number recurrence for the partition counting function.\n",
    "\n",
    "http://en.wikipedia.org/wiki/Pentagonal_number_theorem#Partition_recurrence"
   ]
  }
 ],
 "metadata": {
  "kernelspec": {
   "display_name": "Python 3",
   "language": "python",
   "name": "python3"
  },
  "language_info": {
   "codemirror_mode": {
    "name": "ipython",
    "version": 3
   },
   "file_extension": ".py",
   "mimetype": "text/x-python",
   "name": "python",
   "nbconvert_exporter": "python",
   "pygments_lexer": "ipython3",
   "version": "3.6.2"
  }
 },
 "nbformat": 4,
 "nbformat_minor": 1
}
