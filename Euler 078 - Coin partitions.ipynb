{
 "cells": [
  {
   "cell_type": "markdown",
   "metadata": {},
   "source": [
    "# Euler Problem 78\n",
    "\n",
    "Let p(n) represent the number of different ways in which n coins can be separated into piles. For example, five coins can separated into piles in exactly seven different ways, so p(5)=7.\n",
    "\n",
    "    OOOOO\n",
    "    OOOO   O\n",
    "    OOO   OO\n",
    "    OOO   O   O\n",
    "    OO   OO   O\n",
    "    OO   O   O   O\n",
    "    O   O   O   O   O\n",
    "Find the least value of n for which p(n) is divisible by one million."
   ]
  },
  {
   "cell_type": "code",
   "execution_count": 1,
   "metadata": {},
   "outputs": [
    {
     "name": "stdout",
     "output_type": "stream",
     "text": [
      "55374\n"
     ]
    }
   ],
   "source": [
    "def pentagonal(N):\n",
    "    a, b = 1, 2\n",
    "    delta = 4\n",
    "    sgn = 1\n",
    "    while a <= N:\n",
    "        yield sgn, a\n",
    "        a += delta\n",
    "        if b <= N:\n",
    "            yield sgn, b\n",
    "            b += delta + 1\n",
    "        delta += 3\n",
    "        sgn = -sgn\n",
    "\n",
    "P = {}\n",
    "modulus = 10**6\n",
    "P[0] = 1\n",
    "n = 0\n",
    "while P[n] != 0:\n",
    "    n += 1\n",
    "    P[n] = 0\n",
    "    for sgn, g in pentagonal(n):\n",
    "        P[n] += sgn * P[n-g]\n",
    "        P[n] %= modulus\n",
    "print(n)"
   ]
  },
  {
   "cell_type": "markdown",
   "metadata": {},
   "source": [
    "**Note:** Uses the pentagonal number recurrence for the partition counting function.\n",
    "\n",
    "http://en.wikipedia.org/wiki/Pentagonal_number_theorem#Partition_recurrence"
   ]
  }
 ],
 "metadata": {
  "kernelspec": {
   "display_name": "Python 3",
   "language": "python",
   "name": "python3"
  },
  "language_info": {
   "codemirror_mode": {
    "name": "ipython",
    "version": 3
   },
   "file_extension": ".py",
   "mimetype": "text/x-python",
   "name": "python",
   "nbconvert_exporter": "python",
   "pygments_lexer": "ipython3",
   "version": "3.6.2"
  }
 },
 "nbformat": 4,
 "nbformat_minor": 1
}
