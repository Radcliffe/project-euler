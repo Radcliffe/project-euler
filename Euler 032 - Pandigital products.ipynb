{
 "metadata": {
  "name": ""
 },
 "nbformat": 3,
 "nbformat_minor": 0,
 "worksheets": [
  {
   "cells": [
    {
     "cell_type": "markdown",
     "metadata": {},
     "source": [
      "Euler Problem 32\n",
      "================\n",
      "\n",
      "We shall say that an *n*-digit number is pandigital if it makes use of all the digits 1 to *n* exactly once; for example, the 5-digit number, 15234, is 1 through 5 pandigital.\n",
      "\n",
      "The product 7254 is unusual, as the identity, 39 \u00d7 186 = 7254, containing multiplicand, multiplier, and product is 1 through 9 pandigital.\n",
      "\n",
      "Find the sum of all products whose multiplicand/multiplier/product identity can be written as a 1 through 9 pandigital.\n",
      "\n",
      "HINT: Some products can be obtained in more than one way so be sure to only include it once in your sum."
     ]
    },
    {
     "cell_type": "code",
     "collapsed": false,
     "input": [
      "def distinct(s):\n",
      "    set_s = set(s)\n",
      "    return len(s) == len(set(s)) and not ('0' in set_s)\n",
      "\n",
      "pandigital = set()\n",
      "for x in xrange(2, 1000):\n",
      "    sx = str(x)\n",
      "    if not distinct(sx):\n",
      "        continue\n",
      "    for y in xrange(x+1, 25000):\n",
      "        sy = str(y)\n",
      "        sz = str(x*y)\n",
      "        s = sx + sy + sz\n",
      "        if len(s) > 9:\n",
      "            break\n",
      "        if len(s) == 9 and distinct(s):\n",
      "            pandigital.add(x*y)\n",
      "\n",
      "print sum(pandigital)"
     ],
     "language": "python",
     "metadata": {},
     "outputs": [
      {
       "output_type": "stream",
       "stream": "stdout",
       "text": [
        "45228\n"
       ]
      }
     ],
     "prompt_number": 1
    }
   ],
   "metadata": {}
  }
 ]
}