{
 "metadata": {
  "name": ""
 },
 "nbformat": 3,
 "nbformat_minor": 0,
 "worksheets": [
  {
   "cells": [
    {
     "cell_type": "markdown",
     "metadata": {},
     "source": [
      "Euler Problem 5\n",
      "===============\n",
      "\n",
      "2520 is the smallest number that can be divided by each of the numbers from 1 to 10 without any remainder.\n",
      "\n",
      "What is the smallest positive number that is *evenly divisible* by all of the numbers from 1 to 20?"
     ]
    },
    {
     "cell_type": "code",
     "collapsed": false,
     "input": [
      "def gcd(m, n):\n",
      "    while m:\n",
      "        m, n = n % m, m\n",
      "    return n\n",
      "\n",
      "def lcm(m, n):\n",
      "    return m * n / gcd(m,n)\n",
      "\n",
      "answer = 1\n",
      "for n in xrange(2, 21):\n",
      "    answer = lcm(answer, n)\n",
      "\n",
      "print answer"
     ],
     "language": "python",
     "metadata": {},
     "outputs": [
      {
       "output_type": "stream",
       "stream": "stdout",
       "text": [
        "232792560\n"
       ]
      }
     ],
     "prompt_number": 1
    }
   ],
   "metadata": {}
  }
 ]
}