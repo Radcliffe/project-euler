{
 "cells": [
  {
   "cell_type": "markdown",
   "metadata": {},
   "source": [
    "Euler Problem 125\n",
    "=================\n",
    "\n",
    "The palindromic number 595 is interesting because it can be written as the sum of consecutive squares: \n",
    "$$6^2 + 7^2 + 8^2 + 9^2 + 10^2 + 11^2 + 12^2.$$\n",
    "\n",
    "There are exactly eleven palindromes below one-thousand that can be written as consecutive square sums, and the sum of these palindromes is 4164. Note that $1 = 0^2 + 1^2$ has not been included as this problem is concerned with the squares of positive integers.\n",
    "\n",
    "Find the sum of all the numbers less than $10^8$ that are both palindromic and can be written as the sum of consecutive squares."
   ]
  },
  {
   "cell_type": "code",
   "execution_count": 1,
   "metadata": {},
   "outputs": [
    {
     "name": "stdout",
     "output_type": "stream",
     "text": [
      "2906969179\n"
     ]
    }
   ],
   "source": [
    "def palindrome(n):\n",
    "    s = str(n)\n",
    "    return s == s[::-1]\n",
    "\n",
    "f = lambda n: n*(n+1)*(2*n+1)//6\n",
    "F = {0: f(0), 1: f(1)}\n",
    "seen = set()\n",
    "\n",
    "for n in range(2, 10000):\n",
    "    F[n] = f(n)\n",
    "    for m in range(n-2, -1, -1):\n",
    "        p  = F[n] - F[m]\n",
    "        if p >= 10**8:\n",
    "            break\n",
    "        if palindrome(p):\n",
    "            seen.add(p)\n",
    "print(sum(seen))\n",
    "        \n"
   ]
  },
  {
   "cell_type": "code",
   "execution_count": null,
   "metadata": {},
   "outputs": [],
   "source": []
  }
 ],
 "metadata": {
  "kernelspec": {
   "display_name": "Python 3",
   "language": "python",
   "name": "python3"
  },
  "language_info": {
   "codemirror_mode": {
    "name": "ipython",
    "version": 3
   },
   "file_extension": ".py",
   "mimetype": "text/x-python",
   "name": "python",
   "nbconvert_exporter": "python",
   "pygments_lexer": "ipython3",
   "version": "3.6.2"
  }
 },
 "nbformat": 4,
 "nbformat_minor": 1
}
