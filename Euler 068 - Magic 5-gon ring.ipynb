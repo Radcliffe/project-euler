{
 "cells": [
  {
   "cell_type": "markdown",
   "metadata": {},
   "source": [
    "Euler Problem 68\n",
    "================\n",
    "\n",
    "See https://projecteuler.net/problem=68 for problem description."
   ]
  },
  {
   "cell_type": "code",
   "execution_count": 1,
   "metadata": {},
   "outputs": [
    {
     "name": "stdout",
     "output_type": "stream",
     "text": [
      "6531031914842725\n"
     ]
    }
   ],
   "source": [
    "from itertools import permutations\n",
    "\n",
    "maxstring = ''\n",
    "for v in permutations(range(1, 10)):\n",
    "    v += (10,)\n",
    "    magic = v[0] + v[4] + v[5]\n",
    "    if all(v[k] + v[k+1] + v[k+6] == magic for k in range(4)):\n",
    "        idx = min((v, i) for i, v in enumerate(v[5:]))[1]\n",
    "        ring = [v[5], v[4], v[0], v[6], v[0], v[1], v[7], v[1], v[2], v[8], v[2], v[3], v[9], v[3], v[4]]\n",
    "        ring = ring[3*idx:] + ring[:3*idx]\n",
    "        string = ''.join(map(str, ring))\n",
    "        if string > maxstring:\n",
    "            maxstring = string\n",
    "print(maxstring)"
   ]
  },
  {
   "cell_type": "code",
   "execution_count": null,
   "metadata": {},
   "outputs": [],
   "source": []
  }
 ],
 "metadata": {
  "kernelspec": {
   "display_name": "Python 3",
   "language": "python",
   "name": "python3"
  },
  "language_info": {
   "codemirror_mode": {
    "name": "ipython",
    "version": 3
   },
   "file_extension": ".py",
   "mimetype": "text/x-python",
   "name": "python",
   "nbconvert_exporter": "python",
   "pygments_lexer": "ipython3",
   "version": "3.6.2"
  }
 },
 "nbformat": 4,
 "nbformat_minor": 1
}
