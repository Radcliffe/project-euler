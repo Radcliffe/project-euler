{
 "metadata": {
  "name": ""
 },
 "nbformat": 3,
 "nbformat_minor": 0,
 "worksheets": [
  {
   "cells": [
    {
     "cell_type": "markdown",
     "metadata": {},
     "source": [
      "Euler Problem 68\n",
      "================\n",
      "\n",
      "See https://projecteuler.net/problem=68 for problem description."
     ]
    },
    {
     "cell_type": "code",
     "collapsed": false,
     "input": [
      "from itertools import permutations\n",
      "\n",
      "maxstring = ''\n",
      "for v in permutations(range(1, 10)):\n",
      "    v += (10,)\n",
      "    magic = v[0] + v[4] + v[5]\n",
      "    if all(v[k] + v[k+1] + v[k+6] == magic for k in range(4)):\n",
      "        idx = min((v, i) for i, v in enumerate(v[5:]))[1]\n",
      "        ring = [v[5], v[4], v[0], v[6], v[0], v[1], v[7], v[1], v[2], v[8], v[2], v[3], v[9], v[3], v[4]]\n",
      "        ring = ring[3*idx:] + ring[:3*idx]\n",
      "        string = ''.join(map(str, ring))\n",
      "        if string > maxstring:\n",
      "            maxstring = string\n",
      "print maxstring"
     ],
     "language": "python",
     "metadata": {},
     "outputs": [
      {
       "output_type": "stream",
       "stream": "stdout",
       "text": [
        "6531031914842725\n"
       ]
      }
     ],
     "prompt_number": 3
    }
   ],
   "metadata": {}
  }
 ]
}