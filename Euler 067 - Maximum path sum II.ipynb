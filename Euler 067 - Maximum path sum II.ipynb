{
 "cells": [
  {
   "cell_type": "markdown",
   "metadata": {},
   "source": [
    "Euler Problem 67\n",
    "================\n",
    "\n",
    "\n",
    "By starting at the top of the triangle below and moving to adjacent numbers on\n",
    "the row below, the maximum total from top to bottom is 23.\n",
    "\n",
    "       3\n",
    "      7 5\n",
    "     2 4 6\n",
    "    8 5 9 3\n",
    "\n",
    "That is, 3 + 7 + 4 + 9 = 23.\n",
    "\n",
    "Find the maximum total from top to bottom in triangle.txt (right click and\n",
    "'Save Link/Target As...'), a 15K text file containing a triangle with\n",
    "one-hundred rows.\n",
    "\n",
    "NOTE: This is a much more difficult version of Problem 18. It is not possible\n",
    "to try every route to solve this problem, as there are 2^99 altogether! If you\n",
    "could check one trillion (10^12) routes every second it would take over twenty\n",
    "billion years to check them all. There is an efficient algorithm to solve it. "
   ]
  },
  {
   "cell_type": "code",
   "execution_count": 1,
   "metadata": {},
   "outputs": [
    {
     "name": "stdout",
     "output_type": "stream",
     "text": [
      "7273\n"
     ]
    }
   ],
   "source": [
    "infile = open('data/p067_triangle.txt', 'r')\n",
    "triangle = []\n",
    "for line in infile:\n",
    "    triangle.append(list(map(int, line.split())))\n",
    "\n",
    "rows = len(triangle)\n",
    "w = triangle[0]\n",
    "\n",
    "for k in range(1,rows):\n",
    "    w2 = [0]*(k+1)\n",
    "    w2[0] = w[0] + triangle[k][0]\n",
    "    w2[k] = w[k-1] + triangle[k][k]\n",
    "    for i in range(1,k):\n",
    "        w2[i] = max(w[i-1],w[i]) + triangle[k][i]\n",
    "    w = w2\n",
    "print(max(w))"
   ]
  },
  {
   "cell_type": "code",
   "execution_count": null,
   "metadata": {},
   "outputs": [],
   "source": []
  }
 ],
 "metadata": {
  "kernelspec": {
   "display_name": "Python 3",
   "language": "python",
   "name": "python3"
  },
  "language_info": {
   "codemirror_mode": {
    "name": "ipython",
    "version": 3
   },
   "file_extension": ".py",
   "mimetype": "text/x-python",
   "name": "python",
   "nbconvert_exporter": "python",
   "pygments_lexer": "ipython3",
   "version": "3.6.2"
  }
 },
 "nbformat": 4,
 "nbformat_minor": 1
}
