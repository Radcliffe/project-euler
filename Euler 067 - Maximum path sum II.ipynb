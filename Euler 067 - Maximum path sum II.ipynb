{
 "metadata": {
  "name": ""
 },
 "nbformat": 3,
 "nbformat_minor": 0,
 "worksheets": [
  {
   "cells": [
    {
     "cell_type": "markdown",
     "metadata": {},
     "source": [
      "Euler Problem 67\n",
      "================\n",
      "\n",
      "\n",
      "By starting at the top of the triangle below and moving to adjacent numbers on\n",
      "the row below, the maximum total from top to bottom is 23.\n",
      "\n",
      "       3\n",
      "      7 5\n",
      "     2 4 6\n",
      "    8 5 9 3\n",
      "\n",
      "That is, 3 + 7 + 4 + 9 = 23.\n",
      "\n",
      "Find the maximum total from top to bottom in triangle.txt (right click and\n",
      "'Save Link/Target As...'), a 15K text file containing a triangle with\n",
      "one-hundred rows.\n",
      "\n",
      "NOTE: This is a much more difficult version of Problem 18. It is not possible\n",
      "to try every route to solve this problem, as there are 2^99 altogether! If you\n",
      "could check one trillion (10^12) routes every second it would take over twenty\n",
      "billion years to check them all. There is an efficient algorithm to solve it. "
     ]
    },
    {
     "cell_type": "code",
     "collapsed": false,
     "input": [
      "infile = open('data/p067_triangle.txt', 'r')\n",
      "triangle = []\n",
      "for line in infile:\n",
      "    triangle += [map(int,line.split())]\n",
      "\n",
      "rows = len(triangle)\n",
      "w = triangle[0]\n",
      "\n",
      "for k in xrange(1,rows):\n",
      "    w2 = [0]*(k+1)\n",
      "    w2[0] = w[0] + triangle[k][0]\n",
      "    w2[k] = w[k-1] + triangle[k][k]\n",
      "    for i in xrange(1,k):\n",
      "        w2[i] = max(w[i-1],w[i]) + triangle[k][i]\n",
      "    w = w2\n",
      "print max(w)"
     ],
     "language": "python",
     "metadata": {},
     "outputs": [
      {
       "output_type": "stream",
       "stream": "stdout",
       "text": [
        "7273\n"
       ]
      }
     ],
     "prompt_number": 1
    }
   ],
   "metadata": {}
  }
 ]
}